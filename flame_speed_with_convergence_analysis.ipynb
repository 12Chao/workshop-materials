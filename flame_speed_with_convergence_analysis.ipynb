{
 "cells": [
  {
   "cell_type": "markdown",
   "metadata": {},
   "source": [
    "# Flame Speed with Convergence Analysis"
   ]
  },
  {
   "cell_type": "markdown",
   "metadata": {},
   "source": [
    "In this example we simulate a freely-propagating, adiabatic, 1-D flame and\n",
    "* Calculate its laminar burning velocity\n",
    "* Estimate the uncertainty in the laminar burning velocity calculation, due to grid size.\n",
    "\n",
    "The figure below illustrates the setup, in a flame-fixed co-ordinate system. The reactants enter with density $\\rho_{u}$, temperature $T_{u}$ and speed $S_{u}$. The products exit the flame at speed $S_{b}$, density $\\rho_{b}$ and temperature $T_{b}$."
   ]
  },
  {
   "cell_type": "markdown",
   "metadata": {},
   "source": [
    "<img src=\"images/flameSpeed.png\" alt=\"Freely Propagating Flame\" style=\"width: 300px;\"/>"
   ]
  },
  {
   "cell_type": "markdown",
   "metadata": {},
   "source": [
    "* Discretization error affects flame speed calculation\n",
    "* Discretization of the convection term is first order\n",
    "* Expect the error to be proportional to $\\Delta x$, or inversely proportional to the number of grid points ($N$)\n",
    "  $$S_{u,\\mathrm{observed}} = S_{u,\\mathrm{true}} + \\frac{k}{N}$$\n",
    "* We can calculate the flame speed on multiple grid sizes, then extrapolate as $N\\rightarrow\\infty$\n",
    "* We can estimate the error both with respect to the extrapolated flame speed, and the error in the extrapolation\n",
    "* Use 1D solver \"callback\" functions to analyze the grid after each refinement step"
   ]
  },
  {
   "cell_type": "markdown",
   "metadata": {},
   "source": [
    "### Import Modules"
   ]
  },
  {
   "cell_type": "code",
   "execution_count": null,
   "metadata": {},
   "outputs": [],
   "source": [
    "import cantera as ct\n",
    "import numpy as np\n",
    "import scipy.optimize\n",
    "import time\n",
    "from IPython.display import display, HTML\n",
    "\n",
    "%matplotlib inline\n",
    "from matplotlib import pyplot as plt"
   ]
  },
  {
   "cell_type": "code",
   "execution_count": null,
   "metadata": {},
   "outputs": [],
   "source": [
    "plt.rcParams['figure.figsize'] = (8,6)\n",
    "plt.rcParams['font.size'] = 14\n",
    "plt.rcParams['lines.linewidth'] = 2\n",
    "print(f\"Running Cantera version {ct.__version__}\")"
   ]
  },
  {
   "cell_type": "markdown",
   "metadata": {},
   "source": [
    "## Estimate uncertainty from grid size and speeds"
   ]
  },
  {
   "cell_type": "code",
   "execution_count": null,
   "metadata": {},
   "outputs": [],
   "source": [
    "def extrapolate_uncertainty(grids, speeds, plot=True):\n",
    "    \"\"\"\n",
    "    Given a list of grid sizes and a corresponding list of flame speeds,\n",
    "    extrapolate and estimate the uncertainty in the final flame speed.\n",
    "    Also makes a plot.\n",
    "    \"\"\"\n",
    "    grids = list(grids)\n",
    "    speeds = list(speeds)\n",
    "    def speed_from_grid_size(grid_size, true_speed, error):\n",
    "        \"\"\"\n",
    "        Given a grid size (or an array or list of grid sizes), return a prediction\n",
    "        (or array of predictions) of the computed flame speed, based on the parameters\n",
    "        `true_speed` and `error`        \n",
    "        \"\"\"\n",
    "        return true_speed +  error / np.array(grid_size)\n",
    "\n",
    "    # Use last 4 grids to extrapolate\n",
    "    popt, pcov = scipy.optimize.curve_fit(speed_from_grid_size, grids[-4:], speeds[-4:])\n",
    "    true_speed_estimate = popt[0]\n",
    "    perr = np.sqrt(np.diag(pcov))\n",
    "\n",
    "    percent_error_in_true_speed = 100 * perr[0] / true_speed_estimate\n",
    "    estimated_percent_error = 100 * (speed_from_grid_size(grids[-1], *popt) - true_speed_estimate) / true_speed_estimate\n",
    "    total_percent_error_estimate = abs(percent_error_in_true_speed) + abs(estimated_percent_error)\n",
    "\n",
    "    print(f\"Fitted true_speed is {popt[0]*100:.4f} ± {perr[0]*100:.4f} cm/s ({percent_error_in_true_speed:.2f}%)\")\n",
    "    print(f\"Difference from extrapolated speed {estimated_percent_error:.2f}%\")\n",
    "    print(f\"Estimated total error {total_percent_error_estimate:.2f}%\")\n",
    "    \n",
    "    if not plot:\n",
    "        return true_speed_estimate, total_percent_error_estimate\n",
    "\n",
    "    f, ax = plt.subplots(1, 1)\n",
    "    ax.semilogx(grids, speeds,'o-')\n",
    "    ax.set_ylim(min(speeds[-5:] + [true_speed_estimate-perr[0]]) * 0.95,\n",
    "                max(speeds[-5:]+[true_speed_estimate+perr[0]]) * 1.05)\n",
    "    ax.plot(grids[-4:], speeds[-4:], 'or')\n",
    "    extrapolated_grids = np.logspace(np.log10(grids[0]), np.log10(8 * grids[-1]), 100)\n",
    "    ax.plot(extrapolated_grids, speed_from_grid_size(extrapolated_grids, *popt),':r')\n",
    "    xlims = min(extrapolated_grids), max(extrapolated_grids)\n",
    "    ax.set_xlim(xlims)\n",
    "    ax.hlines(true_speed_estimate, *xlims, colors='r', linestyles='dashed')\n",
    "\n",
    "    ax.hlines([true_speed_estimate-perr[0], true_speed_estimate+perr[0]], *xlims,\n",
    "              colors='r', linestyles='dashed', alpha=0.3)\n",
    "    ax.fill_between(xlims, true_speed_estimate-perr[0],true_speed_estimate+perr[0], facecolor='red', alpha=0.1)\n",
    "\n",
    "    above = popt[1] / abs(popt[1]) # will be +1 if approach from above or -1 if approach from below\n",
    "    \n",
    "    local_speed_estimate = speed_from_grid_size(grids[-1], *popt)\n",
    "    local_err = np.array([[max(true_speed_estimate-local_speed_estimate, 0)],\n",
    "                          [max(local_speed_estimate-true_speed_estimate, 0)]])\n",
    "    extrap_err = np.array([[abs(perr[0])], [0]])\n",
    "    ax.errorbar([grids[-1]], [true_speed_estimate], local_err, capsize=10, color='k', lw=2, capthick=2)\n",
    "    ax.errorbar([grids[-1]*3], [true_speed_estimate], abs(perr[0]), capsize=10, color='k', lw=2, capthick=2)\n",
    "        \n",
    "    ax.annotate(f\"{abs(estimated_percent_error):.2f}%\",\n",
    "                xy=(grids[-1], local_speed_estimate),\n",
    "                xycoords='data',\n",
    "                xytext=(10,20*above),\n",
    "                textcoords='offset points',\n",
    "                arrowprops=dict(arrowstyle='->',\n",
    "                               connectionstyle='arc3')\n",
    "                )\n",
    "\n",
    "    ax.annotate(rf\"$\\pm${abs(percent_error_in_true_speed):.2f}%\",\n",
    "                xy=(grids[-1]*3, true_speed_estimate-abs(perr[0])),\n",
    "                xycoords='data',\n",
    "                xytext=(10,-20*above),\n",
    "                textcoords='offset points',\n",
    "                arrowprops=dict(arrowstyle='->',\n",
    "                                connectionstyle='arc3')\n",
    "                )\n",
    "\n",
    "    ax.set(ylabel=\"Flame speed (m/s)\", xlabel=\"Grid size\")\n",
    "    plt.show()\n",
    "    \n",
    "    return true_speed_estimate, total_percent_error_estimate"
   ]
  },
  {
   "cell_type": "code",
   "execution_count": null,
   "metadata": {},
   "outputs": [],
   "source": [
    "def make_callback(flame):\n",
    "    speeds = []\n",
    "    grids = []\n",
    "\n",
    "    def callback(_):\n",
    "        speed = flame.u[0]\n",
    "        grid = len(flame.grid)\n",
    "        speeds.append(speed)\n",
    "        grids.append(grid)\n",
    "        print(f\"Iteration {len(grids)} ({grids[-1]} points). Current flame speed is is {speed*100:.4f} cm/s\")\n",
    "        if len(grids) < 5:\n",
    "            return 1.0 # \n",
    "        try:\n",
    "            extrapolate_uncertainty(grids, speeds)\n",
    "        except Exception as e:\n",
    "            print(\"Couldn't estimate uncertainty. \" + str(e))\n",
    "            return 1.0 # continue anyway\n",
    "\n",
    "        return 1.0\n",
    "    return callback, speeds, grids\n"
   ]
  },
  {
   "cell_type": "markdown",
   "metadata": {},
   "source": [
    "### Define the gas mixture and kinetic mechanism"
   ]
  },
  {
   "cell_type": "code",
   "execution_count": null,
   "metadata": {},
   "outputs": [],
   "source": [
    "gas = ct.Solution('input-files/gri30_noNOx.cti')"
   ]
  },
  {
   "cell_type": "markdown",
   "metadata": {},
   "source": [
    "### Set flame simulation conditions and solver properties"
   ]
  },
  {
   "cell_type": "code",
   "execution_count": null,
   "metadata": {},
   "outputs": [],
   "source": [
    "# Temperature and pressure\n",
    "To = 300\n",
    "Po = ct.one_atm\n",
    "\n",
    "# Domain width in meters\n",
    "width = 0.06\n",
    "\n",
    "# Set the gas to be a stoichiometric CH4/air mixture \n",
    "gas.set_equivalence_ratio(0.9, 'CH4', {'O2':1.0, 'N2':3.76})\n",
    "gas.TP = To, Po\n",
    "\n",
    "# Disable logging\n",
    "loglevel = 0\n",
    "\n",
    "# Create the flame object\n",
    "flame = ct.FreeFlame(gas, width=width)\n",
    "\n",
    "# Define tight tolerances for the solver\n",
    "flame.set_refine_criteria(ratio=2, slope=0.01, curve=0.01)\n",
    "\n",
    "# Set maxiumum number of grid points to be very high (otherwise default is 1000)\n",
    "flame.set_max_grid_points(flame.flame, 10000)\n",
    "\n",
    "# Set up the the callback function and lists of speeds and grids\n",
    "callback, speeds, grids = make_callback(flame)\n",
    "flame.set_steady_callback(callback)"
   ]
  },
  {
   "cell_type": "markdown",
   "metadata": {},
   "source": [
    "### Solve"
   ]
  },
  {
   "cell_type": "code",
   "execution_count": null,
   "metadata": {
    "scrolled": false
   },
   "outputs": [],
   "source": [
    "flame.solve(loglevel=loglevel, auto=True)"
   ]
  },
  {
   "cell_type": "code",
   "execution_count": null,
   "metadata": {},
   "outputs": [],
   "source": [
    "best_true_speed_estimate, best_total_percent_error_estimate =  extrapolate_uncertainty(grids, speeds)"
   ]
  },
  {
   "cell_type": "code",
   "execution_count": null,
   "metadata": {
    "scrolled": false
   },
   "outputs": [],
   "source": [
    "def analyze_errors(grids, speeds):\n",
    "    true_speed_estimates = []\n",
    "    total_percent_error_estimates = []\n",
    "    actual_extrapolated_percent_errors = []\n",
    "    actual_raw_percent_errors = []\n",
    "    for i in range(3, len(grids)):\n",
    "        print(f\"{grids[i]} point grid:\")\n",
    "        true_speed_estimate, total_percent_error_estimate = extrapolate_uncertainty(grids[:i+1], speeds[:i+1], plot=False)\n",
    "        actual_extrapolated_percent_error = 100 * abs(true_speed_estimate - best_true_speed_estimate) / best_true_speed_estimate\n",
    "        actual_raw_percent_error = 100 * abs(speeds[i] - best_true_speed_estimate) / best_true_speed_estimate\n",
    "        print(f\"Actual extrapolated error (with hindsight) {actual_extrapolated_percent_error:.1f}%\")\n",
    "        print(f\"Actual raw error (with hindsight) {actual_raw_percent_error:.1f}%\")\n",
    "\n",
    "        true_speed_estimates.append(true_speed_estimate)\n",
    "        total_percent_error_estimates.append(total_percent_error_estimate)\n",
    "        actual_extrapolated_percent_errors.append(actual_extrapolated_percent_error)\n",
    "        actual_raw_percent_errors.append(actual_raw_percent_error)\n",
    "        print()\n",
    "\n",
    "    f, ax = plt.subplots()\n",
    "    ax.loglog(grids[3:], actual_raw_percent_errors,'o-', label='raw error')\n",
    "    ax.loglog(grids[3:], actual_extrapolated_percent_errors,'o-', label='extrapolated error')\n",
    "    ax.loglog(grids[3:], total_percent_error_estimates,'o-', label='estimated error')\n",
    "    ax.set(ylabel=\"Error in flame speed (%)\", xlabel=\"Grid size\", title=flame.get_refine_criteria())\n",
    "    ax.yaxis.set_major_formatter\n",
    "    ax.legend()"
   ]
  },
  {
   "cell_type": "code",
   "execution_count": null,
   "metadata": {
    "scrolled": false
   },
   "outputs": [],
   "source": [
    "analyze_errors(grids, speeds)"
   ]
  },
  {
   "cell_type": "markdown",
   "metadata": {},
   "source": [
    "## Middling refine criteria"
   ]
  },
  {
   "cell_type": "code",
   "execution_count": null,
   "metadata": {},
   "outputs": [],
   "source": [
    "refine_criteria = {'ratio':3, 'slope': 0.1, 'curve': 0.1}"
   ]
  },
  {
   "cell_type": "code",
   "execution_count": null,
   "metadata": {
    "scrolled": false
   },
   "outputs": [],
   "source": [
    "# Reset the gas\n",
    "gas.set_equivalence_ratio(0.9, 'CH4', {'O2':1.0, 'N2':3.76})\n",
    "gas.TP = To, Po\n",
    "\n",
    "# Create a new flame object\n",
    "flame = ct.FreeFlame(gas, width=width)\n",
    "\n",
    "flame.set_refine_criteria(**refine_criteria)\n",
    "flame.set_max_grid_points(flame.flame, 1e4)\n",
    "\n",
    "callback, speeds, grids = make_callback(flame)\n",
    "flame.set_steady_callback(callback)\n",
    "\n",
    "flame.solve(loglevel=loglevel, auto=True)\n"
   ]
  },
  {
   "cell_type": "code",
   "execution_count": null,
   "metadata": {},
   "outputs": [],
   "source": [
    "analyze_errors(grids, speeds)"
   ]
  },
  {
   "cell_type": "code",
   "execution_count": null,
   "metadata": {},
   "outputs": [],
   "source": []
  }
 ],
 "metadata": {
  "kernelspec": {
   "display_name": "Python 3",
   "language": "python",
   "name": "python3"
  },
  "language_info": {
   "codemirror_mode": {
    "name": "ipython",
    "version": 3
   },
   "file_extension": ".py",
   "mimetype": "text/x-python",
   "name": "python",
   "nbconvert_exporter": "python",
   "pygments_lexer": "ipython3",
   "version": "3.7.2"
  }
 },
 "nbformat": 4,
 "nbformat_minor": 1
}
