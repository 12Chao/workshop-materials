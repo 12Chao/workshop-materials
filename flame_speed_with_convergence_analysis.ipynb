{
 "cells": [
  {
   "cell_type": "markdown",
   "metadata": {},
   "source": [
    "# Flame Speed with Convergence Analysis"
   ]
  },
  {
   "cell_type": "markdown",
   "metadata": {},
   "source": [
    "In this example we simulate a freely-propagating, adiabatic, 1-D flame and\n",
    "* Calculate its laminar burning velocity\n",
    "* Estimate the uncertainty in the laminar burning velocity calculation, due to grid size.\n",
    "\n",
    "The figure below illustrates the setup, in a flame-fixed co-ordinate system. The reactants enter with density $\\rho_{u}$, temperature $T_{u}$ and speed $S_{u}$. The products exit the flame at speed $S_{b}$, density $\\rho_{b}$ and temperature $T_{b}$."
   ]
  },
  {
   "cell_type": "markdown",
   "metadata": {},
   "source": [
    "<img src=\"images/flameSpeed.png\" alt=\"Freely Propagating Flame\" style=\"width: 300px;\"/>"
   ]
  },
  {
   "cell_type": "markdown",
   "metadata": {},
   "source": [
    "### Import Modules"
   ]
  },
  {
   "cell_type": "code",
   "execution_count": null,
   "metadata": {},
   "outputs": [],
   "source": [
    "import cantera as ct\n",
    "import numpy as np\n",
    "import pandas as pd\n",
    "\n",
    "from IPython.display import display, HTML\n",
    "\n",
    "import scipy\n",
    "import scipy.optimize\n",
    "\n",
    "print(\"Running Cantera Version: \" + str(ct.__version__))"
   ]
  },
  {
   "cell_type": "code",
   "execution_count": null,
   "metadata": {},
   "outputs": [],
   "source": [
    "# Import plotting modules and define plotting preference\n",
    "%matplotlib inline\n",
    "from matplotlib import pyplot as plt\n",
    "plt.rcParams['axes.labelsize'] = 14\n",
    "plt.rcParams['xtick.labelsize'] = 12\n",
    "plt.rcParams['ytick.labelsize'] = 12\n",
    "plt.rcParams['legend.fontsize'] = 10\n",
    "plt.rcParams['figure.figsize'] = (8,6)\n",
    "\n",
    "# Get the best of both ggplot and seaborn\n",
    "plt.style.use('ggplot')\n",
    "plt.style.use('seaborn-deep')\n",
    "\n",
    "plt.rcParams['figure.autolayout'] = True"
   ]
  },
  {
   "cell_type": "markdown",
   "metadata": {},
   "source": [
    "## Estimate uncertainty from grid size and speeds"
   ]
  },
  {
   "cell_type": "code",
   "execution_count": null,
   "metadata": {},
   "outputs": [],
   "source": [
    "def extrapolate_uncertainty(grids, speeds, plot=True):\n",
    "    \"\"\"\n",
    "    Given a list of grid sizes and a corresponding list of flame speeds,\n",
    "    extrapolate and estimate the uncertainty in the final flame speed.\n",
    "    Also makes a plot.\n",
    "    \"\"\"\n",
    "    grids = list(grids)\n",
    "    speeds = list(speeds)\n",
    "    def speed_from_grid_size(grid_size, true_speed, error):\n",
    "        \"\"\"\n",
    "        Given a grid size (or an array or list of grid sizes)\n",
    "        return a prediction (or array of predictions)\n",
    "        of the computed flame speed, based on \n",
    "        the parameters `true_speed` and `error`        \n",
    "        \"\"\"\n",
    "        return true_speed +  error * np.array(grid_size)**-1.\n",
    "\n",
    "\n",
    "    popt, pcov = scipy.optimize.curve_fit(speed_from_grid_size, grids[-4:], speeds[-4:])\n",
    "\n",
    "    perr = np.sqrt(np.diag(pcov))\n",
    "    true_speed_estimate  = popt[0]\n",
    "    percent_error_in_true_speed = 100.*perr[0] / popt[0]\n",
    "    print(\"Fitted true_speed is {:.4f} ± {:.4f} cm/s ({:.1f}%)\".format(\n",
    "        popt[0]*100,\n",
    "        perr[0]*100,\n",
    "        percent_error_in_true_speed\n",
    "        ))\n",
    "    #print \"convergerce rate wrt grid size is {:.1f} ± {:.1f}\".format(popt[2], perr[2])\n",
    "    estimated_percent_error = 100. * (speed_from_grid_size(grids[-1], *popt) - true_speed_estimate) / true_speed_estimate\n",
    "    print(\"Estimated error in final calculation {:.1f}%\".format(estimated_percent_error))\n",
    "\n",
    "    total_percent_error_estimate = abs(percent_error_in_true_speed) + abs(estimated_percent_error)\n",
    "    print(\"Estimated total error {:.1f}%\".format(total_percent_error_estimate))\n",
    "    \n",
    "    if not plot:\n",
    "        return true_speed_estimate, total_percent_error_estimate\n",
    "\n",
    "    plt.semilogx(grids,speeds,'o-')\n",
    "    plt.ylim(min(speeds[-5:]+[true_speed_estimate])*.95, max(speeds[-5:]+[true_speed_estimate])*1.05)\n",
    "    plt.plot(grids[-4:], speeds[-4:], 'or')\n",
    "    extrapolated_grids = grids + [grids[-1] * i for i in range(2,8)]\n",
    "    plt.plot(extrapolated_grids,speed_from_grid_size(extrapolated_grids,*popt),':r')\n",
    "    plt.xlim(*plt.xlim())\n",
    "    plt.hlines(true_speed_estimate, *plt.xlim(), colors=u'r', linestyles=u'dashed')\n",
    "\n",
    "    plt.hlines(true_speed_estimate+perr[0], *plt.xlim(), colors=u'r', linestyles=u'dashed', alpha=0.3)\n",
    "    plt.hlines(true_speed_estimate-perr[0], *plt.xlim(), colors=u'r', linestyles=u'dashed', alpha=0.3)\n",
    "    plt.fill_between(plt.xlim(), true_speed_estimate-perr[0],true_speed_estimate+perr[0], facecolor='red', alpha=0.1 )\n",
    "\n",
    "    #plt.text(grids[-1],speeds[-1],\"{:.1f}%\".format(estimated_percent_error))\n",
    "\n",
    "    above = popt[1]/abs(popt[1]) # will be +1 if approach from above or -1 if approach from below\n",
    "    \n",
    "    plt.annotate(\"\",\n",
    "                 xy=(grids[-1], true_speed_estimate),\n",
    "                 xycoords='data',\n",
    "                 xytext=(grids[-1], speed_from_grid_size(grids[-1], *popt)),\n",
    "                 textcoords='data',\n",
    "                 arrowprops=dict(arrowstyle='|-|',\n",
    "                                connectionstyle='arc3',\n",
    "                                color='black', shrinkA=0, shrinkB=0),\n",
    "                )\n",
    "        \n",
    "    plt.annotate(\"{:.1f}%\".format(abs(estimated_percent_error)),\n",
    "                 xy=(grids[-1], speed_from_grid_size(grids[-1], *popt)),\n",
    "                 xycoords='data',\n",
    "                 xytext=(10,20*above),\n",
    "                 textcoords='offset points',\n",
    "                 arrowprops=dict(arrowstyle='->',\n",
    "                                connectionstyle='arc3')\n",
    "                )\n",
    "    \n",
    "    plt.annotate(\"\",\n",
    "                 xy=(grids[-1]*4, true_speed_estimate-(above*perr[0])),\n",
    "                 xycoords='data',\n",
    "                 xytext=(grids[-1]*4, true_speed_estimate),\n",
    "                 textcoords='data',\n",
    "                 arrowprops=dict(arrowstyle='|-|',\n",
    "                                connectionstyle='arc3',\n",
    "                                color='black', shrinkA=0, shrinkB=0),\n",
    "                )\n",
    "    plt.annotate(\"{:.1f}%\".format(abs(percent_error_in_true_speed)),\n",
    "                 xy=(grids[-1]*4, true_speed_estimate-(above*perr[0])),\n",
    "                 xycoords='data',\n",
    "                 xytext=(10,-20*above),\n",
    "                 textcoords='offset points',\n",
    "                 arrowprops=dict(arrowstyle='->',\n",
    "                                connectionstyle='arc3')\n",
    "                )\n",
    "\n",
    "    plt.ylabel(\"Flame speed (m/s)\")\n",
    "    plt.xlabel(\"Grid size\")\n",
    "    plt.show()\n",
    "    \n",
    "    return true_speed_estimate, total_percent_error_estimate"
   ]
  },
  {
   "cell_type": "code",
   "execution_count": null,
   "metadata": {},
   "outputs": [],
   "source": [
    "def make_callback(flame):\n",
    "    speeds = []\n",
    "    grids = []\n",
    "\n",
    "    def callback(_):\n",
    "        speed = flame.u[0]\n",
    "        grid = len(flame.grid)\n",
    "        speeds.append(speed)\n",
    "        grids.append(grid)\n",
    "        print(\"Iteration {}\".format(len(grids)))\n",
    "        print(\"Current flame speed is is {:.4f} cm/s\".format(speed*100.))\n",
    "        if len(grids) < 5:\n",
    "            return 1.0 # \n",
    "        try:\n",
    "            extrapolate_uncertainty(grids, speeds)\n",
    "        except Exception as e:\n",
    "            print(\"Couldn't estimate uncertainty. \" + str(e))\n",
    "            return 1.0 # continue anyway\n",
    "\n",
    "        return 1.0\n",
    "    return callback, speeds, grids\n"
   ]
  },
  {
   "cell_type": "markdown",
   "metadata": {},
   "source": [
    "### Define the reactant conditions, gas mixture and kinetic mechanism associated with the gas"
   ]
  },
  {
   "cell_type": "code",
   "execution_count": null,
   "metadata": {},
   "outputs": [],
   "source": [
    "#Inlet Temperature in Kelvin and Inlet Pressure in Pascals\n",
    "#In this case we are setting the inlet T and P to room temperature conditions\n",
    "To = 300\n",
    "Po = 101325\n",
    "\n",
    "#Define the gas-mixutre and kinetics\n",
    "#In this case, we are choosing a GRI3.0 gas\n",
    "gas = ct.Solution('input-files/gri30_noNOx.cti')\n",
    "\n",
    "# Create a stoichiometric CH4/Air premixed mixture \n",
    "gas.set_equivalence_ratio(1.0, 'CH4', {'O2':1.0, 'N2':3.76})\n",
    "gas.TP = To, Po"
   ]
  },
  {
   "cell_type": "markdown",
   "metadata": {},
   "source": [
    "### Define flame simulation conditions"
   ]
  },
  {
   "cell_type": "code",
   "execution_count": null,
   "metadata": {},
   "outputs": [],
   "source": [
    "# Domain width in metres\n",
    "width = 0.014\n",
    "\n",
    "# Create the flame object\n",
    "flame = ct.FreeFlame(gas, width=width)\n",
    "\n",
    "# Define logging level\n",
    "loglevel = 1"
   ]
  },
  {
   "cell_type": "code",
   "execution_count": null,
   "metadata": {},
   "outputs": [],
   "source": [
    "# Define tight tolerances for the solver\n",
    "refine_criteria = {'ratio':2, 'slope': 0.01, 'curve': 0.01}\n",
    "flame.set_refine_criteria(**refine_criteria)\n",
    "\n",
    "# Set maxiumum number of grid points to be very high (otherwise default is 1000)\n",
    "flame.set_max_grid_points(flame.domains[flame.domain_index('flame')], 1e4)\n",
    "\n",
    "# Set up the the callback function and lists of speeds and grids\n",
    "callback, speeds, grids = make_callback(flame)\n",
    "flame.set_steady_callback(callback)\n",
    "\n",
    "# Define logging level\n",
    "loglevel = 1"
   ]
  },
  {
   "cell_type": "markdown",
   "metadata": {},
   "source": [
    "### Solve"
   ]
  },
  {
   "cell_type": "code",
   "execution_count": null,
   "metadata": {
    "scrolled": false
   },
   "outputs": [],
   "source": [
    "flame.solve(loglevel=loglevel, auto=True)\n",
    "\n",
    "Su0 = flame.u[0]\n",
    "print(\"Flame Speed is: {:.2f} cm/s\".format(Su0*100))\n"
   ]
  },
  {
   "cell_type": "code",
   "execution_count": null,
   "metadata": {},
   "outputs": [],
   "source": [
    "best_true_speed_estimate, best_total_percent_error_estimate =  extrapolate_uncertainty(grids, speeds)"
   ]
  },
  {
   "cell_type": "code",
   "execution_count": null,
   "metadata": {},
   "outputs": [],
   "source": [
    "len(grids)"
   ]
  },
  {
   "cell_type": "code",
   "execution_count": null,
   "metadata": {
    "scrolled": false
   },
   "outputs": [],
   "source": [
    "def analyze_errors(grids, speeds):\n",
    "    true_speed_estimates = [None for i in speeds]\n",
    "    total_percent_error_estimates = [None for i in speeds]\n",
    "    actual_extrapolated_percent_errors = [None for i in speeds]\n",
    "    actual_raw_percent_errors = [None for i in speeds]\n",
    "    for i in range(3,len(grids)):\n",
    "        print(grids[:i+1])\n",
    "        true_speed_estimate, total_percent_error_estimate = extrapolate_uncertainty(grids[:i+1], speeds[:i+1], plot=False)\n",
    "        actual_extrapolated_percent_error = 100. * abs(true_speed_estimate - best_true_speed_estimate) / best_true_speed_estimate\n",
    "        actual_raw_percent_error = 100. * abs(speeds[i] - best_true_speed_estimate) / best_true_speed_estimate\n",
    "        print(\"Actual extrapolated error (with hindsight) {:.1f}%\".format(actual_extrapolated_percent_error))\n",
    "        print(\"Actual raw error (with hindsight) {:.1f}%\".format(actual_raw_percent_error))\n",
    "\n",
    "        true_speed_estimates[i] = true_speed_estimate\n",
    "        total_percent_error_estimates[i] = total_percent_error_estimate\n",
    "        actual_extrapolated_percent_errors[i] = actual_extrapolated_percent_error\n",
    "        actual_raw_percent_errors[i] = actual_raw_percent_error\n",
    "        print()\n",
    "        \n",
    "    plt.loglog(grids, actual_raw_percent_errors,'o-', label='raw error')\n",
    "    plt.loglog(grids, actual_extrapolated_percent_errors,'o-', label='extrapolated error')\n",
    "    plt.loglog(grids, total_percent_error_estimates,'o-', label='estimated error')\n",
    "    plt.ylabel(\"Error in flame speed (%)\")\n",
    "    plt.xlabel(\"Grid size\")\n",
    "    plt.legend()\n",
    "    plt.title(flame.get_refine_criteria())\n",
    "    plt.show()\n",
    "    flame.get_refine_criteria()\n",
    "    \n",
    "    data = pd.DataFrame(data={'actual error in raw value': actual_raw_percent_errors,\n",
    "                   'actual error in extrapolated value':actual_extrapolated_percent_errors,\n",
    "                   'estimated error':total_percent_error_estimates}, \n",
    "              index=grids)\n",
    "    display(data)\n"
   ]
  },
  {
   "cell_type": "code",
   "execution_count": null,
   "metadata": {
    "scrolled": false
   },
   "outputs": [],
   "source": [
    "analyze_errors(grids, speeds)"
   ]
  },
  {
   "cell_type": "markdown",
   "metadata": {},
   "source": [
    "## Middling refine criteria"
   ]
  },
  {
   "cell_type": "code",
   "execution_count": null,
   "metadata": {},
   "outputs": [],
   "source": [
    "refine_criteria = {'ratio':3, 'slope': 0.1, 'curve': 0.1}"
   ]
  },
  {
   "cell_type": "code",
   "execution_count": null,
   "metadata": {
    "scrolled": true
   },
   "outputs": [],
   "source": [
    "# Reset the gas\n",
    "gas.set_equivalence_ratio(1.0, 'CH4', {'O2':1.0, 'N2':3.76})\n",
    "gas.TP = To, Po\n",
    "\n",
    "# Create a new flame object\n",
    "flame = ct.FreeFlame(gas, width=width)\n",
    "\n",
    "flame.set_refine_criteria(**refine_criteria)\n",
    "flame.set_max_grid_points(flame.domains[flame.domain_index('flame')], 1e4)\n",
    "\n",
    "callback, speeds, grids = make_callback(flame)\n",
    "flame.set_steady_callback(callback)\n",
    "\n",
    "# Define logging level\n",
    "loglevel = 1\n",
    "\n",
    "flame.solve(loglevel=loglevel, auto=True)\n",
    "\n",
    "Su0 = flame.u[0]\n",
    "print(\"Flame Speed is: {:.2f} cm/s\".format(Su0*100))"
   ]
  },
  {
   "cell_type": "code",
   "execution_count": null,
   "metadata": {},
   "outputs": [],
   "source": [
    "analyze_errors(grids, speeds)"
   ]
  },
  {
   "cell_type": "markdown",
   "metadata": {},
   "source": [
    "## Default (loose) criteria"
   ]
  },
  {
   "cell_type": "code",
   "execution_count": null,
   "metadata": {},
   "outputs": [],
   "source": [
    "flame = ct.FreeFlame(gas, width=width)\n",
    "flame.get_refine_criteria()\n",
    "refine_criteria = flame.get_refine_criteria()\n",
    "refine_criteria.update({'prune':0})\n",
    "refine_criteria"
   ]
  },
  {
   "cell_type": "code",
   "execution_count": null,
   "metadata": {
    "scrolled": true
   },
   "outputs": [],
   "source": [
    "gas.set_equivalence_ratio(1.0, 'CH4', {'O2':1.0, 'N2':3.76})\n",
    "gas.TP = To, Po\n",
    "\n",
    "# Create a new flame object\n",
    "flame = ct.FreeFlame(gas, width=width)\n",
    "\n",
    "flame.set_refine_criteria(**refine_criteria)\n",
    "flame.set_max_grid_points(flame.domains[flame.domain_index('flame')], 1e4)\n",
    "\n",
    "callback, speeds, grids = make_callback(flame)\n",
    "flame.set_steady_callback(callback)\n",
    "\n",
    "# Define logging level\n",
    "loglevel = 1\n",
    "\n",
    "flame.solve(loglevel=loglevel, auto=True)\n",
    "\n",
    "Su0 = flame.u[0]\n",
    "print(\"Flame Speed is: {:.2f} cm/s\".format(Su0*100))"
   ]
  },
  {
   "cell_type": "code",
   "execution_count": null,
   "metadata": {},
   "outputs": [],
   "source": [
    "analyze_errors(grids, speeds)"
   ]
  },
  {
   "cell_type": "markdown",
   "metadata": {},
   "source": [
    "## Middling refine criteria"
   ]
  },
  {
   "cell_type": "code",
   "execution_count": null,
   "metadata": {},
   "outputs": [],
   "source": [
    "refine_criteria = {'ratio':3, 'slope': 0.1, 'curve': 0.1}"
   ]
  },
  {
   "cell_type": "code",
   "execution_count": null,
   "metadata": {
    "scrolled": true
   },
   "outputs": [],
   "source": [
    "# Reset the gas\n",
    "gas.set_equivalence_ratio(1.0, 'CH4', {'O2':1.0, 'N2':3.76})\n",
    "gas.TP = To, Po\n",
    "\n",
    "# Create a new flame object\n",
    "flame = ct.FreeFlame(gas, width=width)\n",
    "\n",
    "flame.set_refine_criteria(**refine_criteria)\n",
    "flame.set_max_grid_points(flame.domains[flame.domain_index('flame')], 1e4)\n",
    "\n",
    "callback, speeds, grids = make_callback(flame)\n",
    "flame.set_steady_callback(callback)\n",
    "\n",
    "# Define logging level\n",
    "loglevel = 1\n",
    "\n",
    "flame.solve(loglevel=loglevel, auto=True)\n",
    "\n",
    "Su0 = flame.u[0]\n",
    "print(\"Flame Speed is: {:.2f} cm/s\".format(Su0*100))"
   ]
  },
  {
   "cell_type": "code",
   "execution_count": null,
   "metadata": {},
   "outputs": [],
   "source": [
    "analyze_errors(grids, speeds)"
   ]
  },
  {
   "cell_type": "markdown",
   "metadata": {},
   "source": [
    "### Plot figures\n",
    "\n",
    "Check and see if all has gone well. Plot temperature and species fractions to see"
   ]
  },
  {
   "cell_type": "markdown",
   "metadata": {},
   "source": [
    "#### Temperature Plot"
   ]
  },
  {
   "cell_type": "code",
   "execution_count": null,
   "metadata": {},
   "outputs": [],
   "source": [
    "plt.figure()\n",
    "\n",
    "plt.plot(flame.grid*100, flame.T, '-o')\n",
    "plt.xlabel('Distance (cm)')\n",
    "plt.ylabel('Temperature (K)');"
   ]
  },
  {
   "cell_type": "markdown",
   "metadata": {},
   "source": [
    "#### Major species' plot"
   ]
  },
  {
   "cell_type": "code",
   "execution_count": null,
   "metadata": {},
   "outputs": [],
   "source": [
    "\"\"\"\n",
    "# To plot species, we first have to identify the index of the species in the array\n",
    "# For this, cut & paste the following lines and run in a new cell to get the index\n",
    "for i, specie in enumerate(gas.species()):\n",
    "    print(str(i) + '. ' + str(specie))\n",
    "\"\"\"\n",
    "\n",
    "# Extract concentration data\n",
    "X_CH4 = flame.X[13]\n",
    "X_CO2 = flame.X[15]\n",
    "X_H2O = flame.X[5]\n",
    "\n",
    "plt.figure()\n",
    "\n",
    "plt.plot(flame.grid*100, X_CH4, '-o', label=r'$CH_{4}$')\n",
    "plt.plot(flame.grid*100, X_CO2, '-s', label=r'$CO_{2}$')\n",
    "plt.plot(flame.grid*100, X_H2O, '-<', label=r'$H_{2}O$')\n",
    "\n",
    "plt.legend(loc=2)\n",
    "plt.xlabel('Distance (cm)')\n",
    "plt.ylabel('MoleFractions');"
   ]
  },
  {
   "cell_type": "markdown",
   "metadata": {},
   "source": [
    "## Try a Hydrogen flame (still with GRI mech)"
   ]
  },
  {
   "cell_type": "code",
   "execution_count": null,
   "metadata": {},
   "outputs": [],
   "source": [
    "# Tight criteria\n",
    "refine_criteria = {'ratio':2, 'slope': 0.01, 'curve': 0.01}"
   ]
  },
  {
   "cell_type": "code",
   "execution_count": null,
   "metadata": {
    "scrolled": true
   },
   "outputs": [],
   "source": [
    "# Reset the gas\n",
    "gas.set_equivalence_ratio(1.0, 'H2', {'O2':1.0, 'N2':3.76})\n",
    "gas.TP = To, Po\n",
    "\n",
    "# Create a new flame object\n",
    "flame = ct.FreeFlame(gas, width=width)\n",
    "\n",
    "flame.set_refine_criteria(**refine_criteria)\n",
    "flame.set_max_grid_points(flame.domains[flame.domain_index('flame')], 1e4)\n",
    "\n",
    "callback, speeds, grids = make_callback(flame)\n",
    "flame.set_steady_callback(callback)\n",
    "\n",
    "# Define logging level\n",
    "loglevel = 1\n",
    "\n",
    "flame.solve(loglevel=loglevel, auto=True)\n",
    "\n",
    "Su0 = flame.u[0]\n",
    "print(\"Flame Speed is: {:.2f} cm/s\".format(Su0*100))"
   ]
  },
  {
   "cell_type": "code",
   "execution_count": null,
   "metadata": {},
   "outputs": [],
   "source": [
    "best_true_speed_estimate, best_total_percent_error_estimate =  extrapolate_uncertainty(grids, speeds)"
   ]
  },
  {
   "cell_type": "code",
   "execution_count": null,
   "metadata": {
    "scrolled": false
   },
   "outputs": [],
   "source": [
    "analyze_errors(grids, speeds)"
   ]
  },
  {
   "cell_type": "markdown",
   "metadata": {},
   "source": [
    "## Middling refine criteria, Hydrogen flame"
   ]
  },
  {
   "cell_type": "code",
   "execution_count": null,
   "metadata": {},
   "outputs": [],
   "source": [
    "refine_criteria = {'ratio':3, 'slope': 0.1, 'curve': 0.1}"
   ]
  },
  {
   "cell_type": "code",
   "execution_count": null,
   "metadata": {
    "scrolled": true
   },
   "outputs": [],
   "source": [
    "# Reset the gas\n",
    "gas.set_equivalence_ratio(1.0, 'H2', {'O2':1.0, 'N2':3.76})\n",
    "gas.TP = To, Po\n",
    "\n",
    "# Create a new flame object\n",
    "flame = ct.FreeFlame(gas, width=width)\n",
    "\n",
    "flame.set_refine_criteria(**refine_criteria)\n",
    "flame.set_max_grid_points(flame.domains[flame.domain_index('flame')], 1e4)\n",
    "\n",
    "callback, speeds, grids = make_callback(flame)\n",
    "flame.set_steady_callback(callback)\n",
    "\n",
    "# Define logging level\n",
    "loglevel = 1\n",
    "\n",
    "flame.solve(loglevel=loglevel, auto=True)\n",
    "\n",
    "Su0 = flame.u[0]\n",
    "print(\"Flame Speed is: {:.2f} cm/s\".format(Su0*100))"
   ]
  },
  {
   "cell_type": "code",
   "execution_count": null,
   "metadata": {
    "scrolled": false
   },
   "outputs": [],
   "source": [
    "analyze_errors(grids, speeds)"
   ]
  },
  {
   "cell_type": "code",
   "execution_count": null,
   "metadata": {},
   "outputs": [],
   "source": []
  }
 ],
 "metadata": {
  "kernelspec": {
   "display_name": "Python 3",
   "language": "python",
   "name": "python3"
  },
  "language_info": {
   "codemirror_mode": {
    "name": "ipython",
    "version": 3
   },
   "file_extension": ".py",
   "mimetype": "text/x-python",
   "name": "python",
   "nbconvert_exporter": "python",
   "pygments_lexer": "ipython3",
   "version": "3.7.2"
  }
 },
 "nbformat": 4,
 "nbformat_minor": 1
}
