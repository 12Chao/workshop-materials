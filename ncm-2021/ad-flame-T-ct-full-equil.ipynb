{
 "cells": [
  {
   "cell_type": "markdown",
   "id": "20a1b5a3",
   "metadata": {},
   "source": [
    "$$\\require{mhchem}$$"
   ]
  },
  {
   "cell_type": "markdown",
   "id": "3d2675ad",
   "metadata": {},
   "source": [
    "# Adiabatic Flame Temperature: Full Equilibrium with Cantera\n",
    "\n",
    "The adiabatic flame temperature is the temperature achieved when a given fuel-oxidizer combination is combusted in a perfectly insulated reactor. If no energy is lost to the surroundings via heat transfer and the reaction occurs at constant pressure, conservation of energy dictates that the total enthalpy of the reactants is equal to the total enthalpy of the products. Defining _state 1_ as the reactants and _state 2_ as the products, we can write:\n",
    "\n",
    "$$h_{\\text{mix}, 2} = h_{\\text{mix}, 1}$$\n",
    "\n",
    "The enthalpy of the mixture has two components:\n",
    "\n",
    "1. the enthalpy of formation: $\\Delta^{\\circ}_{\\text{f}}h$ \n",
    "2. the sensible enthalpy: $h_i$\n",
    "\n",
    "To make this more concrete, let's pick a specific reaction: stoichiometric combustion of methane, $\\ce{CH4}$ with air:\n",
    "\n",
    "$$\\ce{CH4 + 2 O2 + $7.52$N2 <=> 2 H2O + CO2 + $7.52$N2}$$"
   ]
  },
  {
   "cell_type": "markdown",
   "id": "5ff9e41b",
   "metadata": {},
   "source": [
    "From the reaction stoichiometry (note that the net stoichiometric coefficient for $\\ce{N2}$ is zero), the heat of combustion released by this reaction is:\n",
    "\n",
    "$$\\begin{aligned}q_{\\text{rxn}} &= -\\sum_k \\nu_k \\Delta^{\\circ}_{\\text{f}}h_k\\\\\n",
    "&= \\Delta^{\\circ}_{\\text{f}}h_{\\rm CH_4} + 2\\Delta^\\circ_{\\rm f}h_{\\rm O_2} - \\Delta^\\circ_{\\rm f}h_{\\rm CO_2}-2 \\Delta^\\circ_{\\rm f}h_{\\rm H_2O}\\end{aligned}$$\n",
    "\n",
    "where $\\nu_k$ is the stoichiometric coefficient of species $k$, which is positive for products and negative for reactants. By definition, the heat of reaction is released at the reference temperature.\n",
    "\n",
    "However, since the reaction must occur at constant enthalpy, the heat released must be stored in the products. In essence, the heat is used to heat the products from the initial, reference, temperature to a final temperature:\n",
    "\n",
    "$$\\begin{aligned}q_{\\text{heating}} &= \\sum_k\\nu_{\\text{prod},k}\\left[h_k\\left(T_2\\right) - h_k\\left(T_1\\right)\\right]\\\\\n",
    "&= h_{\\ce{CO2}}\\left(T_2\\right) - h_{\\ce{CO_2}}\\left(T_1\\right) + 2\\left[h_{\\ce{H2O}}\\left(T_2\\right) - h_{\\ce{H2O}}\\left(T_1\\right)\\right] + 7.52\\left[h_{\\ce{N2}}\\left(T_2\\right) - h_{\\ce{N_2}}\\left(T_1\\right)\\right]\\end{aligned}$$\n",
    "\n",
    "where, again, states 1 and 2 represent the final and initial states, respectively. $\\nu_{\\text{prod}}$ is the product stoichiometric coefficient. Note that this assumes complete combution - there are no reactant species left to heat."
   ]
  },
  {
   "cell_type": "markdown",
   "id": "7f4f76da",
   "metadata": {},
   "source": [
    "For a purely adiabatic reaction, we will have $q_{\\rm rxn} = q_{\\rm heating}$, and hence:\n",
    "\n",
    "$$\\sum_k\\nu_{\\text{prod},k}\\left[h_k\\left(T_2\\right) - h_k\\left(T_1\\right)\\right] + \\sum_k \\nu_k \\Delta^{\\circ}_{\\text{f}}h_k = 0$$\n",
    "\n",
    "or:\n",
    "\n",
    "$$h_{\\ce{CO2}}\\left(T_2\\right) - h_{\\ce{CO_2}}\\left(T_1\\right) + 2\\left[h_{\\ce{H2O}}\\left(T_2\\right) - h_{\\ce{H2O}}\\left(T_1\\right)\\right] + 7.52\\left[h_{\\ce{N2}}\\left(T_2\\right) - h_{\\ce{N_2}}\\left(T_1\\right)\\right] + \\Delta^{\\circ}_{\\text{f}}h_{\\rm CH_4} + 2\\Delta^\\circ_{\\rm f}h_{\\rm O_2} - \\Delta^\\circ_{\\rm f}h_{\\rm CO_2}-2 \\Delta^\\circ_{\\rm f}h_{\\rm H_2O} = 0$$\n",
    "\n",
    "Note that only a few variables are dependent on the final temperature $T_2$.  We might be tempted to write the above equation in terms of those variables, but let's hold off for now. Our next step really depends on what method we use to solve the problem. In short, we need a means of calculating the enthalpy values, so that we may determine which value of $T_2$ satisfies our adiabatic condition.  "
   ]
  },
  {
   "cell_type": "markdown",
   "id": "9ca90290",
   "metadata": {},
   "source": [
    "## Cantera - Full Equilibrium\n",
    "\n",
    "In [another Notebook](./ad-flame-T-ct-comp-comb.ipynb), you learned how to find the adiabatic flame temperature assuming complete combustion. In that Notebook, the input file was restricted to two product species, plus nitrogen. In real combustion applications, of course, a wide array of minor product species and side reactions are possible that can impact $T_{ad}$ in ways that we might care about.\n",
    "\n",
    "In general, performing calculations with Cantera involves three basic steps:\n",
    "\n",
    "1. Identify or create a YAML-based input file.\n",
    "2. Create Cantera phases and set initial conditions.\n",
    "3. Run the calculation.\n",
    "\n",
    "The only step requiring modification as compared to the [complete combustion Notebook](./ad-flame-T-ct-comp-comb.ipynb) is the first! We need a new input file to represent a more complex combustion chemistry. This is one of the most wonderfully powerful aspects of Cantera. You can simply change the input file without changing any of your code to see the effect of different assumptions on your calculation."
   ]
  },
  {
   "cell_type": "markdown",
   "id": "b86291c9",
   "metadata": {},
   "source": [
    "### Cantera input files, revisited\n",
    "\n",
    "#### Mechanism files that come with Cantera.\n",
    "\n",
    "From our previous input file, `methane.yaml`, we know that Cantera comes with a small collection of pre-defined iput files, and that one of these is `gri30.yaml`, which represents the GRI-3.0 mechanism for natural gas combustion developed in the 1970s and last updated in the 1990s.  In most cases, these mechanism files are included in Cantera for demonstration purposes only, and are not meant as an endorsement of that particular chemistry (this is particularly true in the case of `gri30.yaml`).\n",
    "\n",
    "New and improved mechanisms are constantly developed and reported in the literature, representing the best-available data and community understanding. Many of these mechanisms are published in a format that is incompatible with Cantera, however. How can we use these input files in Cantera?\n",
    "\n",
    "#### Conversion from Chemkin format\n",
    "\n",
    "Most commonly, mechanisms are published and made available in a format consistent with the CHEMKIN software suite.  These input files can be converted to Cantera format, using the script `ck2yaml` (`ck` = \"Chemkin\").\n",
    "\n",
    "We have downloaded the mechanism files for one such mechanism, the `NUIGMech1.1` from the National University of Ireland, Galway (http://www.nuigalway.ie/combustionchemistrycentre/mechanismdownloads/). These files are stored in the folder `input-files/NUIG`.\n",
    "\n",
    "We will use the `ck2yaml` Python script file from the command line to convert these files into YAML format. Navigate to the directory `input-files/NUIG` and run the code:\n",
    "\n",
    "```ck2yaml --input=NUIGMECH_1.1_HT.MECH, --thermo=NUIGMech1.1.THERM, --transport=NUIGMech1.1.TRAN --output=nuig_11.yaml```\n",
    "\n",
    "This will result in several error messages and a failure to convert.  These mechanism files have hundreds of species and sometimes thousands of reactions; errors can be quite common! We have catalogued some of the most common conversion errors, so that you can debug as necessary, available [here](https://cantera.org/tutorials/ck2yaml-tutorial.html#debugging-common-errors-in-ck-files).\n",
    "\n",
    "One thing we can try is re-running the conversion script with the `permissive` option:\n",
    "\n",
    "```ck2yaml --input=NUIGMECH_1.1_HT.MECH, --thermo=NUIGMech1.1.THERM, --transport=NUIGMech1.1.TRAN --output=nuig_11.yaml --permissive```\n",
    "\n",
    "We see that the conversion now runs successfully, but with a _signiciant_ number of warnings, species skipped, etc.  It is certainly worth following up on these and investigating, for any research endeavor of import!  But for today's demonstration, we will boldly forge on..."
   ]
  }
 ],
 "metadata": {
  "kernelspec": {
   "display_name": "Python 3",
   "language": "python",
   "name": "python3"
  },
  "language_info": {
   "codemirror_mode": {
    "name": "ipython",
    "version": 3
   },
   "file_extension": ".py",
   "mimetype": "text/x-python",
   "name": "python",
   "nbconvert_exporter": "python",
   "pygments_lexer": "ipython3",
   "version": "3.9.5"
  }
 },
 "nbformat": 4,
 "nbformat_minor": 5
}
