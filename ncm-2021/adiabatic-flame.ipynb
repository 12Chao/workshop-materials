{
 "metadata": {
  "language_info": {
   "codemirror_mode": {
    "name": "ipython",
    "version": 3
   },
   "file_extension": ".py",
   "mimetype": "text/x-python",
   "name": "python",
   "nbconvert_exporter": "python",
   "pygments_lexer": "ipython3",
   "version": "3.6.13"
  },
  "orig_nbformat": 2,
  "kernelspec": {
   "name": "python3613jvsc74a57bd04c8356c5c5070596190d4f1c96815314e26df6048e3743688587ea1a4660c2ac",
   "display_name": "Python 3.6.13 64-bit ('cantera': conda)"
  }
 },
 "nbformat": 4,
 "nbformat_minor": 2,
 "cells": [
  {
   "cell_type": "code",
   "execution_count": null,
   "metadata": {},
   "outputs": [],
   "source": []
  },
  {
   "source": [
    "# Adiabatic flame temperature notebook.\n",
    "\n",
    "Today, we are going to demonstrate the use of Cantera to calculate adiabatic flame temperatures for a range of fuels and conditions, and compare several methods in Cantera to how one would do it without Cantera.\n",
    "\n",
    "## Adiabatic Flame Temperatures\n",
    "\n",
    "As a bit of background, the adiabatic flame temperature is the temperature achieved when a given fuel-oxidizer combination is combustion in a perfectly insulated reactor. If no heat is lost to the surroundings and the reaction occurs at constant pressure, conservation of energy dictates that the reaction proceeds at constant enthalpy.  Namely, the enthalpy at the end of combustion (_state 2_) must equal that at the beginning (_state 1_):\n",
    "\n",
    "$$ h_{\\rm mix, 2} = h_{\\rm mix, 1}$$\n",
    "\n",
    "Wehn we consider the enthalpy of the mixture, there are two components to consider: the enthalpy of formation $\\Delta^\\circ_{\\rm f}h$ and the sensible enthalpy $h_i$.\n",
    "\n",
    "To make this more concrete, let's pick a specific reaction: stoichiometric combustion of methane, CH$_4$ with air::\n",
    "$${\\rm CH_4 + 2\\left(O_2 + 3.76\\,N_2\\right) \\leftrightharpoons 2\\,H_2O + CO_2 + 7.52\\,N_2 }$$\n",
    "\n",
    "From the reaction stoichiometry (note that the net stoichiometric coefficient for N$_2$ is zero), the heat of combustion released by this reaction is:\n",
    "$$ q_{\\rm rxn} = -\\sum_k \\nu_k \\Delta^\\circ_{{\\rm f}}h_k = \\Delta^\\circ_{\\rm f}h_{\\rm CH_4} + 2\\Delta^\\circ_{\\rm f}h_{\\rm O_2} - \\Delta^\\circ_{\\rm f}h_{\\rm CO_2}-2 \\Delta^\\circ_{\\rm f}h_{\\rm H_2O}$$\n",
    "\n",
    "Since the reaction must occur at constant enthalpy, the heat released must be stored in the products. In essence, the heat is used to heat the products to a final temperature:\n",
    "$$q_{\\rm heating} = \\sum_k\\nu_{{\\rm prod},k}\\left[h_k(T_2) - h_k(T_1)\\right] = h_{\\rm CO_2}(T_2) - h_{\\rm CO_2}(T_1) + 2\\left[h_{\\rm H_2O}(T_2) - h_{\\rm H_2O}(T_1)\\right] + 7.52\\left[h_{\\rm N_2}(T_2) - h_{\\rm N_2}(T_1)\\right] $$\n",
    "where, again, states 1 and 2 represent the final and initial states, respectively.  $\\nu_{\\rm prod}$ is the reverse stoichiometric coefficient (i.e. that for all product species). Note that this assumes complete combution - there are no reactant species left to heat.\n",
    "\n",
    "For a purely adiabatic reaction, we will have $q_{\\rm rxn} = q_{\\rm heating}$, and hence:\n",
    "$$\\sum_k\\nu_{{\\rm prod},k}\\left[h_k(T_2) - h_k(T_1)\\right] + \\sum_k \\nu_k \\Delta^\\circ_{{\\rm f}}h_k = 0$$\n",
    "or:\n",
    "$$h_{\\rm CO_2}(T_2) - h_{\\rm CO_2}(T_1) + 2\\left[h_{\\rm H_2O}(T_2) - h_{\\rm H_2O}(T_1)\\right] + 7.52\\left[h_{\\rm N_2}(T_2) - h_{\\rm N_2}(T_1)\\right] + \\Delta^\\circ_{\\rm f}h_{\\rm CO_2}-2 \\Delta^\\circ_{\\rm f}h_{\\rm H_2O} - \\Delta^\\circ_{\\rm f}h_{\\rm CH_4} + 2\\Delta^\\circ_{\\rm f}h_{\\rm O_2} = 0$$\n",
    "\n",
    "Note that only a few variables are dependent on the final temperature $T_2$.  We might be tempted to write the above equation in terms of those variables, but let's hold off for now. Our next step really depends on what method we use to solve the problem. In short, we need a means of calculating the enthalpy values, so that we may determine which value of $T_2$ satisfies our adiabatic condition.  \n",
    "\n",
    "## Approach 1 - Complete combustion, calculating \"by hand\" and using tabulated data.\n",
    "\n",
    "One popular source for these values are the [JANAF tables](https://janaf.nist.gov/), a thermodynamic database maintained by NIST.  These provide a range of thermodynamic properties, including enthalpis of formation, total sensible enthalpy, specific, and others, for a range of temperatures and for a wide variety of species.  For the curious, a collection of these tables are stored in the `data` folder that accompanies this notebook.\n",
    "\n",
    "We will take the enthalpies of formation at the initial condition of 298.15 K:\n",
    "\n",
    "| Species $k\\hspace{3em}$ | $\\Delta^\\circ_{\\rm f}h_k(298.15 K)\\,\\frac{\\rm kJ}{\\rm mol}$|\n",
    "|---|---|\n",
    "|CH$_4$| -74.873 |\n",
    "| O$_2$| 0.0 |\n",
    "| N$_2$| 0.0 |\n",
    "| CO$_2$| -393.522 |\n",
    "| H$_2$O | -241.826|\n",
    "\n",
    "From these, let's solve for the heat released by the reaction.  Give it the variable name `q_rxn`:"
   ],
   "cell_type": "markdown",
   "metadata": {}
  },
  {
   "cell_type": "code",
   "execution_count": 12,
   "metadata": {},
   "outputs": [],
   "source": [
    "# Entahlpies of formation, kJ/mol\n",
    "h_f_CH4 = -74.873\n",
    "h_f_CO2 = -393.522\n",
    "h_f_H2O = -241.826\n",
    "h_f_O2 = 0\n",
    "\n",
    "q_rxn = h_f_CH4 + 2*h_f_O2 - h_f_CO2 - 2*h_f_H2O\n"
   ]
  },
  {
   "cell_type": "code",
   "execution_count": 13,
   "metadata": {},
   "outputs": [
    {
     "output_type": "stream",
     "name": "stdout",
     "text": [
      "The heat of reaction is 802.30 kJ/mol.\n"
     ]
    }
   ],
   "source": [
    "print('The heat of reaction is {:.2f} kJ/mol.'.format(q_rxn))"
   ]
  },
  {
   "source": [
    "This heat must be stored in the sensible energy of the products, which reach an elevated temperature $T_2$, after combustion.\n",
    "\n",
    "To calculate the final temeprature, we need to estimate how the species enthalpies change as a function of temperature. The JANAF tables actually give us $h_k(T) - h_k(298.15\\,{\\rm K})$ as a function of $T$, allowing for a high-precision solution.  This is demosntrated in the `adiabatic-flame-detailed.ipynb` notebook in this repo.\n",
    "\n",
    "However, a simpler and nearly as acurrate solution uses the definition of the specific heat to calculate the change in enthalpy: \n",
    "$$ h_k(T_2) - h_k(T_1) = \\int_{T_1}^{T_2}C_p dT$$\n",
    "If $C_p$ is constant, this reduces to:\n",
    "$$ h_k(T_2) - h_k(T_1) = C_p\\left(T_2 - T_1\\right)$$\n",
    "While $C_p$ is not in fact constant, we can take the value at some intermediate temperature and recognize that the variation in $C_p$ from this average value is not _too_ significant.\n",
    "\n",
    "Finally, to simplify a little bit further, let us recognize that, on a molar basis, our products are $\\frac{7.52}{10.52} = 71.5%$ nitrogen.  So let us consult the JANAF tables once more, and choose the $C_p$ of N$_2$ at $T_{\\rm avg} = 1000$ K (a guess value) as our $C_{p,{\\rm avg}}$ for the mixture.\n",
    "$$C_{p,{\\rm avg}} = 32.697\\,\\frac{\\rm J}{\\rm mol-K}$$\n",
    "\n",
    "Thefefore, $q_{\\rm heating} = C_{p,{\\rm avg}}\\,n_{\\rm tot}\\left(T_2 - T_1\\right)$, where $n_{\\rm tot} = 10.52$, and we can therefore solve directly for $T_2$:\n",
    "\n",
    "$$T_2 = T_1 + \\frac{q_{\\rm rxn}}{n_{\\rm tot}C_{p,{\\rm avg}}}$$"
   ],
   "cell_type": "markdown",
   "metadata": {}
  },
  {
   "cell_type": "code",
   "execution_count": 14,
   "metadata": {},
   "outputs": [
    {
     "output_type": "stream",
     "name": "stdout",
     "text": [
      "Initial T_ad = 2630.61 K.\nT_avg = 1464.38\n"
     ]
    }
   ],
   "source": [
    "T_1 = 298.15 # Initial temperature, K\n",
    "C_p_avg = 32.697*10**(-3) #Convert to kJ/mol-K\n",
    "n_tot = 10.52\n",
    "\n",
    "T_2 = T_1 + q_rxn/n_tot/C_p_avg\n",
    "print('Initial T_ad = {:.2f} K.'.format(T_2))\n",
    "print('T_avg = {:.2f}'.format(0.5*(T_1+T_2)))"
   ]
  },
  {
   "source": [
    "Not bad!  If this is correct, our average temperature would $T_{\\rm avg} = \\frac{298.15 + 2630.61\\,{\\rm K}}{2}= 1464.4$ K.  So our average $C_p$ was taken at a temperature that is perhaps a bit low.  What if we re-did it, using $C_{p,\\,{\\rm N_2}}(1400\\,{\\rm K})=34.518\\,\\frac{\\rm J}{\\rm mol-K}$? \n",
    "\n",
    "Right away, we can see that $C_p$ hasn't changed all _that_ much, in going from 1000 K to 1400 K.  But let's check, anyway:"
   ],
   "cell_type": "markdown",
   "metadata": {}
  },
  {
   "source": [
    "C_p_avg = 34.518*10**(-3) #Convert to kJ/mol-K\n",
    "\n",
    "T_2 = T_1 + q_rxn/n_tot/C_p_avg\n",
    "print('Initial T_ad = {:.2f} K.'.format(T_2))\n",
    "print('T_avg = {:.2f}'.format(0.5*(T_1+T_2)))\n"
   ],
   "cell_type": "code",
   "metadata": {},
   "execution_count": 15,
   "outputs": [
    {
     "output_type": "stream",
     "name": "stdout",
     "text": [
      "Initial T_ad = 2507.56 K.\nT_avg = 1402.85\n"
     ]
    }
   ]
  },
  {
   "source": [
    "We see that the adiabatic flame temperature estimate _did_ drop by 123 K, and now our actual average temperature is quite close to our guess value.\n",
    "\n",
    "Again a still more accurate approach would be to use the species enthalpy values directly, and search the tabulated data to find a $T_2$ that satisfies our adiabatic condition.  This involves a _slightly_ more sophisticated coding approach, and is left as an extension code (`adiabatic-flame-detailed.ipynb`) for you to explore on your own.\n",
    "\n",
    "We will note here that the detailed approach returns an adiabatic flame temperature of $T_{\\rm ad} = 2327$ K, which is not _too_ far off from our rather simple estimate, here!\n",
    "\n",
    "## Approach 2: complete combustion, using Cantera.\n",
    "We will now show how to use Cantera to do this same calculation, using simple function calls to automate and generalize the process.  We will first repeat the \"complete combustion\" calcuation above, and then demonstrate a more realistic case with an array of intermediate and minor species.  \n",
    "\n",
    "To skip to the end for a minute, we are going to find the adiabatic flame temperature by asking cantera to find the equilibrium state of a fuel-air mixture held at fixed enthalpy and pressure.  The function call will look like this:\n",
    "\n",
    "> ``` gas.equilibrate('HP')```\n",
    "\n",
    "Let's look at the individual pieces of this function call.  Cantera's source code is in C++, and calculations are based on user-created ''phase'' objects.  A phase object is an instantiation of one of Cantera's C++ classes, which includes any number of methods (i.e. functions) belonging to that class.\n",
    "\n",
    "In the example above, we have created an ideal gas object called gas.  Among the methods defined by the Cantera source code for this class (and others) is an `equlibrate` function, which we call. The `equilibrate` routine requires two intensive mixture-average properties be held constant, which we specify via the string 'HP'.\n",
    "\n",
    "But how do we create the gas object?  And how do we set the correct conditions so that the _correct_ enthalpy and pressure values are used?  In all cases, performing calculations with Cantera involves three basic steps:\n",
    "\n",
    "- Identify or develop a YAML-based input file.\n",
    "- Create Cantera phases and set initial conditions.\n",
    "- Run the calculation.\n",
    "\n",
    "### Cantera input files"
   ],
   "cell_type": "markdown",
   "metadata": {}
  },
  {
   "source": [
    "### Create Cantera phases and set initial conditions\n",
    "\n",
    "Okay, now that we have created our input file `methane.yaml`, we can create the phase object in Python, using Cantera routines.\n"
   ],
   "cell_type": "markdown",
   "metadata": {}
  },
  {
   "cell_type": "code",
   "execution_count": 16,
   "metadata": {},
   "outputs": [],
   "source": [
    "import cantera as ct\n",
    "\n",
    "gas = ct.Solution('input-files/methane.yaml')"
   ]
  },
  {
   "source": [
    "Again, this has created a Cantera class object with the Python variable name `gas`, representing an ideal gas phase object.\n",
    "\n",
    "We next want to set the initial conditions:\n",
    "\n",
    "- Temperature = 298 K\n",
    "- Stoichiometric mixture of methane and air: 1 mole of CH$_4$ to 2 moles of (O$_2$ + 3.76 N$_2$)\n",
    "- One atmosphere of pressure.\n",
    "\n",
    "To do this, we will use the Cantera method `TPX`, which is a member of our ideal gas class (and nearly all other Cantera phase classes). The syntax looks like this:\n",
    "> ``` gas.TPX = T_value, P_value, molefractions```\n",
    "where `T_value`, `P_value`, and `molefractions` are variables we create to specify the relevant values.  \n",
    "\n",
    "Temperature and pressure are relatively straightforwad: we set the numerical values in units of K and Pa, respectively.  For pressure, there is even a cantera function `one_atm` to give use the value of one standard atmosphere in Pa (i.e. `ct.one_atm = 101325`).\n",
    "\n",
    "For the mole fraction values, we have two options.  We can pass an array of mole fractions, in the exact order expected by Cantera, or we can pass a string that specifies the mole fractions of individual species, in any order.  For either option, Cantera's default behavior is to normalize the values so that the sum of all mole fractions equals one, so that only the relative values matter (note: this default normalization can be disabled, when needed).\n",
    "\n",
    "We will choose the latter option, where the species names and mole fractions are separated by a colon, and entries for each species are separated by commas:\n",
    ">```gas.TPX = 298, ct.one_atm, 'CH4:1.0, O2:2.0, N2:7.52'```\n",
    "\n",
    "Note that, even here, there are other ways to set this strin (e.g. using Python string formatting) which can be helpful when trying to generalize your code or base your string input on the results of some other calculation.\n"
   ],
   "cell_type": "markdown",
   "metadata": {}
  },
  {
   "cell_type": "code",
   "execution_count": 17,
   "metadata": {},
   "outputs": [],
   "source": [
    "gas.TPX = 298, ct.one_atm, 'CH4:1.0, O2:2.0, N2:7.52'"
   ]
  },
  {
   "source": [
    "We can verify that we set the state as intended by printing out the state of the `gas` object:"
   ],
   "cell_type": "markdown",
   "metadata": {}
  },
  {
   "cell_type": "code",
   "execution_count": 18,
   "metadata": {},
   "outputs": [
    {
     "output_type": "stream",
     "name": "stdout",
     "text": [
      "\n  methane-air:\n\n       temperature   298 K\n          pressure   1.0132e+05 Pa\n           density   1.1301 kg/m^3\n  mean mol. weight   27.633 kg/kmol\n   phase of matter   gas\n\n                          1 kg             1 kmol     \n                     ---------------   ---------------\n          enthalpy       -2.5674e+05       -7.0947e+06  J\n   internal energy        -3.464e+05       -9.5724e+06  J\n           entropy            7240.5        2.0008e+05  J/K\n    Gibbs function       -2.4144e+06       -6.6719e+07  J\n heat capacity c_p            1076.9             29758  J/K\n heat capacity c_v            775.99             21443  J/K\n\n                      mass frac. Y      mole frac. X     chem. pot. / RT\n                     ---------------   ---------------   ---------------\n               CH4          0.055187          0.095057           -54.877\n                O2           0.22014           0.19011           -26.334\n                N2           0.72467           0.71483           -23.369\n     [   +2 minor]                 0                 0  \n\n"
     ]
    }
   ],
   "source": [
    "gas()"
   ]
  },
  {
   "source": [
    "### Run the calcualtion:\n",
    "\n",
    "Okay, so now all that is left is to run our calculation, and ask Cantera to give us the temperature of the equilibrated state.\n",
    "\n",
    "Again, this is done via the `equilibrate` function:\n",
    "\n",
    ">```gas.equlibrate('HP')```\n",
    "\n",
    "We can then report out the adiabatic flame temperature by calling the gas object's temperature method:\n",
    "\n",
    ">```gas.T```"
   ],
   "cell_type": "markdown",
   "metadata": {}
  },
  {
   "cell_type": "code",
   "execution_count": 19,
   "metadata": {},
   "outputs": [],
   "source": [
    "gas.equilibrate('HP')\n",
    "T_ad = gas.T"
   ]
  },
  {
   "cell_type": "code",
   "execution_count": 20,
   "metadata": {},
   "outputs": [
    {
     "output_type": "stream",
     "name": "stdout",
     "text": [
      "The adiabatic flame temperature is T_ad = 2325.49 K.\nThe adiabatic flame temperature from our hand calculation was T_ad = 2507.56 K.\n"
     ]
    }
   ],
   "source": [
    "print('The adiabatic flame temperature is T_ad = {:.2f} K.'.format(T_ad))\n",
    "print('The adiabatic flame temperature from our hand calculation was T_ad = {:.2f} K.'.format(T_2))"
   ]
  },
  {
   "source": [
    "So our result is quite close to that reported by the \"detailed\" method, but without any of the coding required in that notebook.  Let's look at the final, equilibrated state:"
   ],
   "cell_type": "markdown",
   "metadata": {}
  },
  {
   "cell_type": "code",
   "execution_count": 21,
   "metadata": {},
   "outputs": [
    {
     "output_type": "stream",
     "name": "stdout",
     "text": [
      "\n  methane-air:\n\n       temperature   2325.5 K\n          pressure   1.0133e+05 Pa\n           density   0.14481 kg/m^3\n  mean mol. weight   27.633 kg/kmol\n   phase of matter   gas\n\n                          1 kg             1 kmol     \n                     ---------------   ---------------\n          enthalpy       -2.5674e+05       -7.0947e+06  J\n   internal energy       -9.5644e+05        -2.643e+07  J\n           entropy              9867        2.7266e+05  J/K\n    Gibbs function       -2.3202e+07       -6.4116e+08  J\n heat capacity c_p              1524             42113  J/K\n heat capacity c_v            1223.1             33799  J/K\n\n                      mass frac. Y      mole frac. X     chem. pot. / RT\n                     ---------------   ---------------   ---------------\n               CH4        6.3133e-08        1.0875e-07           -50.584\n                O2        2.5184e-07        2.1749e-07           -44.654\n               H2O           0.12394           0.19011            -42.32\n                N2           0.72467           0.71483           -27.787\n               CO2           0.15139          0.095057           -55.253\n\n"
     ]
    }
   ],
   "source": [
    "gas()"
   ]
  },
  {
   "source": [
    "Note that not _all_ of the methane and oxygen are consumed, in this equilibrium calculation (this would consitute a very low entropy state, and therefore is not favored by thermodynamics).  Note also that Cantera has preserved the relative amounts of each _element_.  We can quickly verify that 3 moles of reactants (CH$_4$ + 2 O$_2$) makes three moles of product (2 H$_2$O + CO$_2$), which means that our N$_2$ mole fraction is unchanged, before and after the reaction."
   ],
   "cell_type": "markdown",
   "metadata": {}
  },
  {
   "source": [
    "## Approach 3 - Complex combustion, using Cantera\n",
    "\n",
    "Note also that our flame has only two product species (plus nitrogen), because that is all we have _allowed_; our input file lists only five species, so those are the only five species considerd here (no piece of code will ever do anything we have not explicitly told it to do, wittingly or not!).\n",
    "\n",
    "In real combustion applications, of course, a wide array of minor product species and side reactions are possible that can impact $T_{ad}$ in ways that we might care about.  How can we take a look at those?\n",
    "\n",
    "Using the three steps from above:\n",
    "\n",
    "- Identify or develop a YAML-based input file.\n",
    "- Create Cantera phases and set initial conditions.\n",
    "- Run the calculation.\n",
    "\n",
    "The only step requiring modification is the first: we need a new input file to represent a more complex combustion chemistry."
   ],
   "cell_type": "markdown",
   "metadata": {}
  },
  {
   "source": [
    "### Cantera input files, revisited.\n",
    "\n",
    "#### Mechanism files that come with Cantera.\n",
    "\n",
    "From our previous input file, `methane.yaml`, we know that Cantera comes with a small collection of pre-defined iput files, and that one of these is `gri30.yaml`, which represents the GRI-3.0 mechanism for natural gas combustion developed in the 1970s and last updated in the 1990s.  In most cases, these mechanism files are included in Cantear for demonstration purposes only, and are not meant as an endoresement of that particular chemistry (this is partiulcarly true in the case of `gri30.yaml`).\n",
    "\n",
    "We will plot adiabatic flame temperatures based on `gri30.yaml`, but: new and improved mechanisms are constantly developed and reported in the literature, representing the best-available data and community understanding.  How can we use these calculations in Cantera?\n",
    "\n",
    "#### Conversion from Chemkin format\n",
    "Most commonly, mechanisms are published and made available in a format consistent with the Chemkin software suite.  These input files can easily be converted to Cantera format, using the script `ck2yaml` (`ck` = \"Chemkin\").\n",
    "\n",
    "We have downloaded the mechanism files for one such mechanism, the `NUIGMech1.1` from the National University of Ireland, Galway (http://www.nuigalway.ie/combustionchemistrycentre/mechanismdownloads/). These files are stored in the folder `input-files/NUIG`.\n",
    "\n",
    "We will use the `ck2yaml` Python script file from the command line to convert these files into YAML format. Navigate to the directory `input-files/NUIG` and run the code:\n",
    "\n",
    "```ck2yaml --input=NUIGMECH_1.1_HT.MECH, --thermo=NUIGMech1.1.THERM, --transport=NUIGMech1.1.TRAN --output=nuig_11.yaml```\n",
    "\n",
    "This will result in several error messages and a failure to convert.  These mechanism files have hundreds of species and sometimes 1000s reactions; errors can be quite common! We have catalogued some of the most common conversion errors, so that you can debug as necessary, available [here](https://cantera.org/tutorials/ck2yaml-tutorial.html#debugging-common-errors-in-ck-files).\n",
    "\n",
    "One thing we can try is re-running the conversion script with the `permissive` option:\n",
    "\n",
    "```ck2yaml --input=NUIGMECH_1.1_HT.MECH, --thermo=NUIGMech1.1.THERM, --transport=NUIGMech1.1.TRAN --output=nuig_11.yaml --permissive```\n",
    "\n",
    "We see that the conversion now runs successfully, but with a _signiciant_ number of warnings, species skipped, etc.  It is certainly worth following up on these and investigating, for any research endeavor of import!  But for today's demonstration, we will boldly forge on..."
   ],
   "cell_type": "markdown",
   "metadata": {}
  }
 ]
}