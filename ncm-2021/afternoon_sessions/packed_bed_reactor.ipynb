{
 "cells": [
  {
   "cell_type": "markdown",
   "id": "8c56171a",
   "metadata": {},
   "source": [
    "# Partial oxidation of Methane over platinum\n",
    "\n",
    "The following is an exercise in creating a PFR using a series of CSTRs. "
   ]
  },
  {
   "cell_type": "code",
   "execution_count": 9,
   "id": "f43d1b80",
   "metadata": {},
   "outputs": [],
   "source": [
    "import cantera as ct\n",
    "import matplotlib.pyplot as plt\n",
    "import pandas as pd\n",
    "import csv"
   ]
  },
  {
   "cell_type": "markdown",
   "id": "prime-gnome",
   "metadata": {},
   "source": [
    "### Inputs \n",
    "specify the inputs for the packed bed reactor\n",
    "- the Reactor dimensions (radius, length, and catalyst bed area)\n",
    "- the catalyst properties (surface area to volume ratio) \n",
    "- inlet conditions (flowrate, mole fractions)\n",
    "- solver specifications (number of CSTRs we will use to approximate a PFR, time step size) \n"
   ]
  },
  {
   "cell_type": "code",
   "execution_count": 10,
   "id": "synthetic-promise",
   "metadata": {},
   "outputs": [],
   "source": [
    "# Inputs \n",
    "temp = 600.0           # Temperature in (K)\n",
    "length = 0.3           # Catalyst bed length (m)\n",
    "area = 1.0e3           # Catalyst bed area (m^2)\n",
    "cat_area_per_vol = 10  # Catalyst particle surface area per unit volume (m^2/m^3)\n",
    "velocity = 0.4         # gas velocity (m/s)\n",
    "porosity = 0.3         # Catalyst bed porosity (unitless) \n",
    "\n",
    "# The PFR will be simulated by a chain of 'NReactors' stirred reactors.\n",
    "NReactors = 201\n",
    "dt = 1.0\n",
    "\n",
    "# catalyst area in one reactor\n",
    "cat_area = cat_area_per_vol * rvol\n",
    "mass_flow_rate = velocity * gas.density * area"
   ]
  },
  {
   "cell_type": "markdown",
   "id": "c2da1394",
   "metadata": {},
   "source": [
    "### Create Cantera phases and set initial conditions\n",
    "\n",
    "greate a gas thermophase using the \"methane_pox_on_pt.yaml\" example. then, create a surface phase using the following: \n",
    "```\n",
    "surf = ct.Interface(yaml_file, 'Pt_surf', [gas])\n",
    "```\n",
    "\n",
    "specify the temperature, pressure, and concentrations for the gas phase. specify the temperature and pressure for the surface phase"
   ]
  },
  {
   "cell_type": "code",
   "execution_count": 11,
   "id": "66999a7a",
   "metadata": {},
   "outputs": [],
   "source": [
    "# Input file containing the surface reaction mechanism. \n",
    "# One of Cantera's out of the box example files\n",
    "yaml_file = 'methane_pox_on_pt.yaml'\n",
    "\n",
    "# results file where we will save our data\n",
    "output_filename = 'surf_pfr_output.csv'\n",
    "\n",
    "# import the gas model and set the initial conditions\n",
    "gas = ct.Solution(yaml_file, 'gas')\n",
    "gas.TPX = temp, ct.one_atm, 'CH4:1, O2:1.5, AR:0.1'\n",
    "\n",
    "# import the surface model, specifying the gas phase, and also the name for the surface phase\n",
    "surf = ct.Interface(yaml_file, 'Pt_surf', [gas])\n",
    "surf.TP = temp, ct.one_atm"
   ]
  },
  {
   "cell_type": "markdown",
   "id": "dirty-lesbian",
   "metadata": {},
   "source": [
    "### Practical Troubleshooting \n",
    "What is often required for the solver to converage properly is a good initial guess of surface coverage. this can be done by advancing the coverages in the first reactor:"
   ]
  },
  {
   "cell_type": "code",
   "execution_count": 12,
   "id": "compliant-scoop",
   "metadata": {},
   "outputs": [
    {
     "name": "stdout",
     "output_type": "stream",
     "text": [
      "\n",
      "  Pt_surf:\n",
      "\n",
      "       temperature   600 K\n",
      "          pressure   1.0132e+05 Pa\n",
      "           density   5.3334e-06 kg/m^3\n",
      "  mean mol. weight   196.08 kg/kmol\n",
      "   phase of matter   unspecified\n",
      "\n",
      "                          1 kg             1 kmol     \n",
      "                     ---------------   ---------------\n",
      "          enthalpy       -1.7207e+05        -3.374e+07  J\n",
      "   internal energy       -1.7207e+05        -3.374e+07  J\n",
      "           entropy            29.659            5815.5  J/K\n",
      "    Gibbs function       -1.8986e+05       -3.7229e+07  J\n",
      " heat capacity c_p            63.345             12421  J/K\n",
      " heat capacity c_v            63.345             12421  J/K\n",
      "\n",
      "                      mass frac. Y      mole frac. X     chem. pot. / RT\n",
      "                     ---------------   ---------------   ---------------\n",
      "             PT(S)         0.0099491              0.01           -4.6052\n",
      "              H(S)           0.99005              0.99           -7.4916\n",
      "     [   +9 minor]                 0                 0  \n",
      "\n"
     ]
    }
   ],
   "source": [
    "# coverage before advancing the coverages\n",
    "surf()"
   ]
  },
  {
   "cell_type": "code",
   "execution_count": 13,
   "id": "fifteen-single",
   "metadata": {},
   "outputs": [
    {
     "name": "stdout",
     "output_type": "stream",
     "text": [
      "\n",
      "  Pt_surf:\n",
      "\n",
      "       temperature   600 K\n",
      "          pressure   1.0132e+05 Pa\n",
      "           density   5.6971e-06 kg/m^3\n",
      "  mean mol. weight   209.45 kg/kmol\n",
      "   phase of matter   unspecified\n",
      "\n",
      "                          1 kg             1 kmol     \n",
      "                     ---------------   ---------------\n",
      "          enthalpy        -4.755e+05       -9.9594e+07  J\n",
      "   internal energy        -4.755e+05       -9.9594e+07  J\n",
      "           entropy            117.09             24525  J/K\n",
      "    Gibbs function       -5.4575e+05       -1.1431e+08  J\n",
      " heat capacity c_p            83.935             17580  J/K\n",
      " heat capacity c_v            83.935             17580  J/K\n",
      "\n",
      "                      mass frac. Y      mole frac. X     chem. pot. / RT\n",
      "                     ---------------   ---------------   ---------------\n",
      "             PT(S)           0.14741           0.15827           -1.8435\n",
      "              H(S)        1.1603e-05        1.2394e-05            -18.78\n",
      "            H2O(S)         1.199e-05        1.1785e-05           -73.128\n",
      "             OH(S)         0.0090086         0.0088966           -47.697\n",
      "             CO(S)            0.0795          0.074639           -65.415\n",
      "            CO2(S)        3.1714e-07        2.7782e-07            -99.05\n",
      "            CH3(S)         0.0029743         0.0029649           -18.089\n",
      "            CH2(S)        2.4192e-08        2.4232e-08           -5.9381\n",
      "             CH(S)        4.2451e-13        4.2727e-13            2.6342\n",
      "              C(S)        1.5836e-07        1.6016e-07           -4.6616\n",
      "              O(S)           0.76108            0.7552           -22.855\n",
      "\n"
     ]
    }
   ],
   "source": [
    "# coverage after advancing coverages\n",
    "surf.advance_coverages(1.0)\n",
    "surf()"
   ]
  },
  {
   "cell_type": "markdown",
   "id": "varied-image",
   "metadata": {},
   "source": [
    "Alternatively, if one has a guess for the initial coverage, they may specify it similar to how the gas phase mole fractions are specified:"
   ]
  },
  {
   "cell_type": "code",
   "execution_count": 17,
   "id": "developing-national",
   "metadata": {},
   "outputs": [],
   "source": [
    "surf.coverages = 'PT(S):0.1'"
   ]
  },
  {
   "cell_type": "markdown",
   "id": "tribal-resolution",
   "metadata": {},
   "source": [
    "### Creating a chain of CSTRs to approximate a PFR\n",
    "The plug flow reactor is represented by a linear chain of zero-dimensional reactors. The gas at the inlet to the first one has the specified inlet composition, and for all others the inlet composition is fixed at the composition of the reactor immediately upstream. Since in a PFR model there is no diffusion, the upstream reactors are not affected by any downstream reactors, and therefore the problem may be solved by simply marching from the first to last reactor, integrating each one to steady state.\n",
    "\n",
    "<img src=\"../Images/Chain_of_CSTRs.png\"  width=\"700\">"
   ]
  },
  {
   "cell_type": "code",
   "execution_count": 8,
   "id": "pending-treasurer",
   "metadata": {},
   "outputs": [
    {
     "name": "stdout",
     "output_type": "stream",
     "text": [
      "    distance       X_CH4        X_H2        X_CO\n",
      "    0.000000    0.096211    0.000187    0.000000\n",
      "   15.000000    0.096173    0.000180    0.000000\n",
      "   30.000000    0.096149    0.000175    0.000000\n",
      "   45.000000    0.096134    0.000172    0.000001\n",
      "   60.000000    0.096124    0.000170    0.000001\n",
      "   75.000000    0.096118    0.000169    0.000001\n",
      "   90.000000    0.096114    0.000168    0.000001\n",
      "  105.000000    0.096111    0.000167    0.000002\n",
      "  120.000000    0.096109    0.000167    0.000003\n",
      "  135.000000    0.096107    0.000167    0.000003\n",
      "  150.000000    0.096106    0.000167    0.000004\n",
      "  165.000000    0.096105    0.000167    0.000005\n",
      "  180.000000    0.096104    0.000167    0.000006\n",
      "  195.000000    0.096104    0.000167    0.000006\n",
      "  210.000000    0.096103    0.000166    0.000007\n",
      "  225.000000    0.096103    0.000166    0.000008\n",
      "  240.000000    0.096102    0.000166    0.000009\n",
      "  255.000000    0.096102    0.000166    0.000010\n",
      "  270.000000    0.096102    0.000166    0.000010\n",
      "  285.000000    0.096102    0.000166    0.000011\n",
      "  300.000000    0.096101    0.000166    0.000011\n",
      "Results saved to 'surf_pfr_output.csv'\n"
     ]
    }
   ],
   "source": [
    "# for our chain of CSTRs approach, we need to determine \n",
    "# the differential reactor length \n",
    "rlen = length/(NReactors-1)\n",
    "rvol = area * rlen * porosity\n",
    "\n",
    "# create a new reactor\n",
    "r = ct.IdealGasReactor(gas, energy='off')\n",
    "r.volume = rvol\n",
    "\n",
    "# create a reservoir to represent the reactor immediately upstream. Note\n",
    "# that the gas object is set already to the state of the upstream reactor\n",
    "upstream = ct.Reservoir(gas, name='upstream')\n",
    "\n",
    "# create a reservoir for the reactor to exhaust into. The composition of\n",
    "# this reservoir is irrelevant.\n",
    "downstream = ct.Reservoir(gas, name='downstream')\n",
    "\n",
    "# Add the reacting surface to the reactor. The area is set to the desired\n",
    "# catalyst area in the reactor.\n",
    "rsurf = ct.ReactorSurface(surf, r, A=cat_area)\n",
    "\n",
    "# The mass flow rate into the reactor will be fixed by using a\n",
    "# MassFlowController object.\n",
    "m = ct.MassFlowController(upstream, r, mdot=mass_flow_rate)\n",
    "\n",
    "# We need an outlet to the downstream reservoir. This will determine the\n",
    "# pressure in the reactor. The value of K will only affect the transient\n",
    "# pressure difference.\n",
    "v = ct.PressureController(r, downstream, master=m, K=1e-5)\n",
    "\n",
    "sim = ct.ReactorNet([r])\n",
    "sim.max_err_test_fails = 12\n",
    "\n",
    "# set relative and absolute tolerances on the simulation\n",
    "sim.rtol = 1.0e-9\n",
    "sim.atol = 1.0e-21\n",
    "\n",
    "# print columns\n",
    "print('    distance       X_CH4        X_H2        X_CO')\n",
    "\n",
    "for n in range(NReactors):\n",
    "    # Set the state of the reservoir to match that of the previous reactor\n",
    "    gas.TDY = r.thermo.TDY\n",
    "    upstream.syncState()\n",
    "    sim.reinitialize()\n",
    "    sim.advance_to_steady_state()\n",
    "    dist = n * rlen * 1.0e3  # distance in mm\n",
    "\n",
    "    if n % 10 == 0:\n",
    "        print('  {0:10f}  {1:10f}  {2:10f}  {3:10f}'.format(\n",
    "            dist, *gas['CH4', 'H2', 'CO'].X))\n",
    "\n",
    "    # write the gas mole fractions and surface coverages vs. distance\n",
    "    output_data.append(\n",
    "        [dist, r.T - 273.15, r.thermo.P/ct.one_atm] + list(gas.X)\n",
    "        + list(surf.coverages)\n",
    "    )\n",
    "\n",
    "with open(output_filename, 'w', newline=\"\") as outfile:\n",
    "    writer = csv.writer(outfile)\n",
    "    writer.writerow(['Distance (mm)', 'T (C)', 'P (atm)'] +\n",
    "                    gas.species_names + surf.species_names)\n",
    "    writer.writerows(output_data)\n",
    "\n",
    "print(\"Results saved to '{0}'\".format(output_filename))\n"
   ]
  },
  {
   "cell_type": "markdown",
   "id": "integral-nevada",
   "metadata": {},
   "source": [
    "## Results\n",
    "plot the resulting surface coverages and concentrations over the length of the PFR. "
   ]
  },
  {
   "cell_type": "code",
   "execution_count": 14,
   "id": "decimal-disaster",
   "metadata": {},
   "outputs": [],
   "source": [
    "# read in the csv to a pandas dataframe\n",
    "df = pd.read_csv('surf_pfr_output.csv')"
   ]
  },
  {
   "cell_type": "code",
   "execution_count": 15,
   "id": "supreme-ebony",
   "metadata": {},
   "outputs": [
    {
     "data": {
      "text/plain": [
       "<AxesSubplot:xlabel='Distance (mm)'>"
      ]
     },
     "execution_count": 15,
     "metadata": {},
     "output_type": "execute_result"
    },
    {
     "data": {
      "image/png": "[encoded data removed]",
      "text/plain": [
       "<Figure size 432x288 with 1 Axes>"
      ]
     },
     "metadata": {
      "needs_background": "light"
     },
     "output_type": "display_data"
    }
   ],
   "source": [
    "# plot the distance down the reactor vs the mole fractions\n",
    "df.plot(\"Distance (mm)\", ['H2','O2', 'H2O', 'CH4', 'CO', 'CO2',])"
   ]
  }
 ],
 "metadata": {
  "celltoolbar": "Tags",
  "kernelspec": {
   "display_name": "Python 3",
   "language": "python",
   "name": "python3"
  },
  "language_info": {
   "codemirror_mode": {
    "name": "ipython",
    "version": 3
   },
   "file_extension": ".py",
   "mimetype": "text/x-python",
   "name": "python",
   "nbconvert_exporter": "python",
   "pygments_lexer": "ipython3",
   "version": "3.9.1"
  }
 },
 "nbformat": 4,
 "nbformat_minor": 5
}
