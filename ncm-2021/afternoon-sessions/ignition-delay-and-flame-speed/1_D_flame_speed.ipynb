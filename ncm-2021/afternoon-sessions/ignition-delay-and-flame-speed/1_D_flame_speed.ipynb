{
 "cells": [
  {
   "cell_type": "markdown",
   "id": "ab73f17b",
   "metadata": {},
   "source": [
    "# Flame Speed"
   ]
  },
  {
   "cell_type": "markdown",
   "id": "3f3c08f2",
   "metadata": {},
   "source": [
    "In this example we simulate a freely-propagating, adiabatic, 1-D flame and\n",
    "* Calculate its laminar burning velocity\n",
    "* Perform a sensitivity analysis of its kinetics\n",
    "\n",
    "The figure below illustrates the setup, in a flame-fixed coordinate system. The reactants enter with density $\\rho_{u}$, temperature $T_{u}$ and speed $S_{u}$. The products exit the flame at speed $S_{b}$, density $\\rho_{b}$ and temperature $T_{b}$."
   ]
  },
  {
   "cell_type": "markdown",
   "id": "b69a5abd",
   "metadata": {},
   "source": [
    "<img src=\"./images/flameSpeed.png\" alt=\"Freely Propagating Flame\" style=\"width: 300px;\"/>"
   ]
  },
  {
   "cell_type": "code",
   "execution_count": null,
   "id": "59a1f855",
   "metadata": {},
   "outputs": [],
   "source": [
    "# Write Python source code in this cell"
   ]
  },
  {
   "cell_type": "markdown",
   "id": "aa2f4c93",
   "metadata": {},
   "source": [
    "## Cantera Simulation Steps\n",
    "\n",
    "Most Cantera simulations are accomplished by three steps:\n",
    "\n",
    "1. Create a phase from an input file\n",
    "2. Set boundary/input conditions\n",
    "3. Run the simulation\n",
    "\n",
    "In the case of an adiabatic free flame, Cantera has a built-in model to quickly calculate flame speeds."
   ]
  },
  {
   "cell_type": "markdown",
   "id": "25517f27",
   "metadata": {},
   "source": [
    "### Define the reactant conditions, gas mixture and kinetic mechanism associated with the gas"
   ]
  },
  {
   "cell_type": "code",
   "execution_count": null,
   "id": "057dfe90",
   "metadata": {},
   "outputs": [],
   "source": [
    "# Write Python source code in this cell"
   ]
  },
  {
   "cell_type": "markdown",
   "id": "0b037b14",
   "metadata": {},
   "source": [
    "### Define flame simulation conditions"
   ]
  },
  {
   "cell_type": "code",
   "execution_count": null,
   "id": "e86c7e1e",
   "metadata": {},
   "outputs": [],
   "source": [
    "# Write Python source code in this cell"
   ]
  },
  {
   "cell_type": "markdown",
   "id": "e6fc39d5",
   "metadata": {},
   "source": [
    "### Run the simulation\n",
    "\n",
    "With the input conditions set, we need to create the appropriate flame object and run the simulation. The `FreeFlame` class can take either an array of grid points or a width. Specifying the width is preferred and Cantera will automatically set and refine a grid in the simulation."
   ]
  },
  {
   "cell_type": "code",
   "execution_count": null,
   "id": "a1fad8f9",
   "metadata": {},
   "outputs": [],
   "source": [
    "# Write Python source code in this cell"
   ]
  },
  {
   "cell_type": "markdown",
   "id": "937ee522",
   "metadata": {},
   "source": [
    "With 1-D flames, we need to consider species and energy transport by convection and diffusion. For species diffusion, there are several ways of calculating the binary diffusion coefficient of every pair of species. The simpler assumption is that the species is diffusing into an average mixture. The more complicated, but more accurate, assumption is to calculate the multi-component diffusion coefficients.\n",
    "\n",
    "In this example, we are using the mixture-average assumption, with the `\"Mix\"` keyword. Using the `\"Multi\"` solution can substantially increase the time it takes to reach a solution.\n",
    "\n",
    "However, you can start by solving the system with the mixture-average assumption and switch to the multicomponent assumption after a good initial solution has already been achieved."
   ]
  },
  {
   "cell_type": "code",
   "execution_count": null,
   "id": "2dc1d644",
   "metadata": {},
   "outputs": [],
   "source": [
    "# Write Python source code in this cell"
   ]
  },
  {
   "cell_type": "markdown",
   "id": "97401d46",
   "metadata": {},
   "source": [
    "Cantera can automatically refine the solution grid to meet certain criteria. The `ratio` limits the maximum distance between two grid points, where as the `slope` and `curve` are related to the solution components. The `slope` criteria adds grid points in locations where the slope of the solution components exceeds the threshold, and the `curve` criteria adds grid points where the curvature of the solution components exceeds the threshold."
   ]
  },
  {
   "cell_type": "code",
   "execution_count": null,
   "id": "166c4895",
   "metadata": {},
   "outputs": [],
   "source": [
    "# Write Python source code in this cell"
   ]
  },
  {
   "cell_type": "markdown",
   "id": "e5ffd872",
   "metadata": {},
   "source": [
    "Cantera's 1-D solver can produce several levels of output, depending on how much detail you want to see. If you're pretty sure a solution is going to work, then a `loglevel` of 0 (no output) or 1 (minimal output) will be appropriate. If a case is failing, you can increase `loglevel` up to a maximum of 8 to have more and more output from each solution step."
   ]
  },
  {
   "cell_type": "code",
   "execution_count": null,
   "id": "e2f6cb1c",
   "metadata": {},
   "outputs": [],
   "source": [
    "# Write Python source code in this cell"
   ]
  },
  {
   "cell_type": "markdown",
   "id": "09c35a44",
   "metadata": {},
   "source": [
    "### Solve"
   ]
  },
  {
   "cell_type": "markdown",
   "id": "b7e24996",
   "metadata": {},
   "source": [
    "The `auto` option in the solve function tries to automatically solve the flame by applying a few common techniques.\n",
    "\n",
    "First, the flame is solved on a sparse grid with the transport calculations set to mixture averaged (even if the user has set them to multicomponent). Then grid refinement is enabled, with points added according to the values of the `ratio`, `slope`, and `curve` parameters in the `set_refine_criteria()` function.\n",
    "\n",
    "If the initial solve on the sparse grid fails to converge, the simulation is attempted again, but this time with the energy equation disabled. Once the simulation has been solved on the refined grid with the mixture averaged transport, Cantera enables multicomponent transport and Soret diffusion, if they have been set by the user.\n",
    "\n",
    "In general, it is recommended that you use the `auto` option the first time you run the solver, unless the simulation fails. On subsequent invocations of `solve`, you should not include the `auto` option (or set it to `False`)."
   ]
  },
  {
   "cell_type": "code",
   "execution_count": null,
   "id": "97080b85",
   "metadata": {},
   "outputs": [],
   "source": [
    "# Write Python source code in this cell"
   ]
  },
  {
   "cell_type": "code",
   "execution_count": null,
   "id": "a4c4a1c0",
   "metadata": {},
   "outputs": [],
   "source": [
    "# Write Python source code in this cell"
   ]
  },
  {
   "cell_type": "markdown",
   "id": "06e67093",
   "metadata": {},
   "source": [
    "### Plot figures\n",
    "\n",
    "Check and see if all has gone well. Plot temperature and species fractions to see. We expect that the solution at the boundaries of the domain will have zero gradient (in other words, that the domain width that we specified is wide enough for the flame). Notice that Cantera automatically expanded the domain from 2 cm to 4 cm to accommodate the flame thickness."
   ]
  },
  {
   "cell_type": "markdown",
   "id": "b710d748",
   "metadata": {},
   "source": [
    "#### Temperature Plot"
   ]
  },
  {
   "cell_type": "code",
   "execution_count": null,
   "id": "a2af4de6",
   "metadata": {},
   "outputs": [],
   "source": [
    "# Write Python source code in this cell"
   ]
  },
  {
   "cell_type": "markdown",
   "id": "05125d78",
   "metadata": {},
   "source": [
    "## Sensitivity analysis\n",
    "Compute normalized sensitivities of flame speed $S_u$ to changes in the rate coefficient $k_i$ for each reaction\n",
    "$$s_i = \\frac{k_i}{S_u} \\frac{d S_u}{d k_i}$$\n",
    "\n",
    "Note that this will be much slower when multicomponent or Soret diffusion are turned on."
   ]
  },
  {
   "cell_type": "code",
   "execution_count": null,
   "id": "8c89e1bb",
   "metadata": {},
   "outputs": [],
   "source": [
    "# Write Python source code in this cell"
   ]
  },
  {
   "cell_type": "code",
   "execution_count": null,
   "id": "d53cb79c",
   "metadata": {},
   "outputs": [],
   "source": [
    "# Write Python source code in this cell"
   ]
  },
  {
   "cell_type": "markdown",
   "id": "db0d2b3c",
   "metadata": {},
   "source": [
    "## Solving multiple flames (parameter sweep) \n",
    "\n",
    "Cantera also makes it easy to re-use solutions from previous flames to compute conditions for a similar flame. This is very useful when doing a parameter sweep. In this case, we are going to sweep over a range of equivalence ratios. We will start at the lower limit of the equivalence ratio range we are interested in, 0.6."
   ]
  },
  {
   "cell_type": "code",
   "execution_count": null,
   "id": "dd2d730e",
   "metadata": {},
   "outputs": [],
   "source": [
    "# Write Python source code in this cell"
   ]
  },
  {
   "cell_type": "markdown",
   "id": "4e927b52",
   "metadata": {},
   "source": [
    "In the grid refinement criteria, it is important that we add one more condition, `prune`. This parameter controls when grid points can be removed from the simulation. Since we are conducting a sweep of equivalence ratios here, we expect the flame thickness to vary so that the number of grid points necessary will vary as well. Without `prune`, the number of grid points could never decrease and it would slow down some of the solutions."
   ]
  },
  {
   "cell_type": "code",
   "execution_count": null,
   "id": "9e077eee",
   "metadata": {},
   "outputs": [],
   "source": [
    "# Write Python source code in this cell"
   ]
  },
  {
   "cell_type": "markdown",
   "id": "12108a0f",
   "metadata": {},
   "source": [
    "Now we will solve the flame. For this first case, we are going to set `auto=True`."
   ]
  },
  {
   "cell_type": "code",
   "execution_count": null,
   "id": "e128297c",
   "metadata": {},
   "outputs": [],
   "source": [
    "# Write Python source code in this cell"
   ]
  },
  {
   "cell_type": "markdown",
   "id": "9ddd2290",
   "metadata": {},
   "source": [
    "Now we will construct the range of equivalence ratios to loop over. Notice that the rest of these solutions are conducted with `auto=False`, since we are starting from a known-good solution."
   ]
  },
  {
   "cell_type": "code",
   "execution_count": null,
   "id": "d6816543",
   "metadata": {},
   "outputs": [],
   "source": [
    "# Write Python source code in this cell"
   ]
  },
  {
   "cell_type": "code",
   "execution_count": null,
   "id": "9dd687aa",
   "metadata": {},
   "outputs": [],
   "source": [
    "# Write Python source code in this cell"
   ]
  }
 ],
 "metadata": {
  "kernelspec": {
   "display_name": "Python 3",
   "language": "python",
   "name": "python3"
  },
  "language_info": {
   "codemirror_mode": {
    "name": "ipython",
    "version": 3
   },
   "file_extension": ".py",
   "mimetype": "text/x-python",
   "name": "python",
   "nbconvert_exporter": "python",
   "pygments_lexer": "ipython3",
   "version": "3.9.4"
  }
 },
 "nbformat": 4,
 "nbformat_minor": 5
}
