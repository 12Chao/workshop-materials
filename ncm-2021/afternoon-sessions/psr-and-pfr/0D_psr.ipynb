{
 "cells": [
  {
   "cell_type": "code",
   "execution_count": null,
   "id": "7cba05d5",
   "metadata": {},
   "outputs": [],
   "source": [
    "# Write Python source code in this cell"
   ]
  },
  {
   "cell_type": "markdown",
   "id": "6732ad82",
   "metadata": {},
   "source": [
    "# 0-D Perfectly Stirred Reactor\n",
    "\n",
    "In this example, we will explore how to use _user-defined functions_. In Cantera, we can connect several components together to create an open control volume, rather than the closed batch reactor we used to conduct constant U-V simultions previously.\n",
    "\n",
    "Perfectly stirred reactors are one such example. The PSR is typically a constant volume reaction chamber with a single inlet and outlet to allow flow in and out. In Cantera, we can use several components to control the flow rate in a `Reactor`, including a `PressureController`, which calculates the mass flow rate by\n",
    "\n",
    "$$\\dot{m} = \\dot{m}_{\\text{master}} + K(P_1 - P_2)$$\n",
    "\n",
    "where $K$ is a constant. Another option is a `MassFlowController`, which sets the mass flow rate to the specified value, regardless of the pressure difference. In this example, we will use a `MassFlowController` between the upstream condition and the reactor, to maintain the flow rate at the defined value; and we will use a `PressureController` to ensure constant pressure.\n",
    "\n",
    "In conducting experiments with PSR-analogs, the experimentalists might hold the residence time of the reactants in the reactor constant and vary the inlet conditions (equivalence ratio, temperature, etc.), perhaps to measure the mole fractions of the products coming out of the reactor. Cantera does not have a pre-defined function to set a constant residence time, but we can use a user-defined function to calculate the mass flow rate required to give a certain residence time. Essentially, we will divide the mass of the gas in the reactor by the residence time, and set the mass flow rate through the `MassFlowController` with this function.\n",
    "\n",
    "The inspiration for this function comes from a post on the User Group: (https://groups.google.com/d/msg/cantera-users/dMUhi5kVVDk/bDFYWMQsgbAJ)\n",
    "\n",
    "## Set Up Cantera Simulation\n",
    "\n",
    "As usual, we have a 3 step procedure to run the calculation:\n",
    "\n",
    "1. Create a phase object from an input file\n",
    "2. Set the initial/boundary conditions\n",
    "3. Run the simulation\n",
    "\n",
    "First, we will load a simple H2/O2 mechanism that is distributed with Cantera."
   ]
  },
  {
   "cell_type": "code",
   "execution_count": null,
   "id": "ba0558b4",
   "metadata": {},
   "outputs": [],
   "source": [
    "# Write Python source code in this cell"
   ]
  },
  {
   "cell_type": "markdown",
   "id": "048fa099",
   "metadata": {},
   "source": [
    "We need to define a container for the inlet gas and another container for the exhaust to go to. We will use `Reservoir`s, which are similar to `Reactor`s, except the thermodynamic state in a `Reservoir` is always constant, and they are not included in a `ReactorNet`."
   ]
  },
  {
   "cell_type": "code",
   "execution_count": null,
   "id": "c0b6d84e",
   "metadata": {},
   "outputs": [],
   "source": [
    "# Write Python source code in this cell"
   ]
  },
  {
   "cell_type": "markdown",
   "id": "07bef7fe",
   "metadata": {},
   "source": [
    "Now we will set the state of the main `Reactor` to the constant enthalpy-pressure equilibrium state. This ensures we start with the steady burning condition."
   ]
  },
  {
   "cell_type": "code",
   "execution_count": null,
   "id": "67156a3f",
   "metadata": {},
   "outputs": [],
   "source": [
    "# Write Python source code in this cell"
   ]
  },
  {
   "cell_type": "code",
   "execution_count": null,
   "id": "87771676",
   "metadata": {},
   "outputs": [],
   "source": [
    "# Write Python source code in this cell"
   ]
  },
  {
   "cell_type": "markdown",
   "id": "a5de81b8",
   "metadata": {},
   "source": [
    "Here, we have defined the function we will use to set the mass flow rate. For this example, the residence time is $10^{-4}\\ \\text{s}$. Next, we define the `MassFlowController` between the `upstream` reservoir and the reactor and we set the mass flow rate to be computed by the `mdot_in()` function.\n",
    "\n",
    "We also set up a `PressureController` which is connected to the `inlet` mass flow controller to ensure that the pressure is constant in the reactor."
   ]
  },
  {
   "cell_type": "code",
   "execution_count": null,
   "id": "de716275",
   "metadata": {},
   "outputs": [],
   "source": [
    "# Write Python source code in this cell"
   ]
  },
  {
   "cell_type": "markdown",
   "id": "1c510edc",
   "metadata": {},
   "source": [
    "Now we can create the `ReactorNet` and run the simulation until we achieve steady state. We will assume that steady state occurs after the integration has gone for five residence times, then check afterwards."
   ]
  },
  {
   "cell_type": "code",
   "execution_count": null,
   "id": "5f25d106",
   "metadata": {},
   "outputs": [],
   "source": [
    "# Write Python source code in this cell"
   ]
  },
  {
   "cell_type": "code",
   "execution_count": null,
   "id": "12850321",
   "metadata": {},
   "outputs": [],
   "source": [
    "# Write Python source code in this cell"
   ]
  },
  {
   "cell_type": "markdown",
   "id": "1d4181ac",
   "metadata": {},
   "source": [
    "From this, we can see that after about 0.1 ms, the solution has already reached steady state."
   ]
  },
  {
   "cell_type": "markdown",
   "id": "4d0fa3f5",
   "metadata": {},
   "source": [
    "Another common case to study is changing the residence time until the reactor extinguishes (that is, the steady state solution is the non-reacting solution). We will use the `pandas` library `DataFrame` to store the data for a range of equivalence ratios."
   ]
  },
  {
   "cell_type": "markdown",
   "id": "a7147a75",
   "metadata": {},
   "source": [
    "# Varying Residence Time to Extinction"
   ]
  },
  {
   "cell_type": "markdown",
   "id": "73b4cdaf",
   "metadata": {},
   "source": [
    "Here, we define an array of residence times on a logarithmic scale, from $10^0$ to $10^{-5}$ seconds. We choose a `logspace` rather than a `linspace` because the residence time is varying over so many orders of magnitude. Then, we define several equivalence ratios and set up the `SolutionArray`s."
   ]
  },
  {
   "cell_type": "code",
   "execution_count": null,
   "id": "c4c80b56",
   "metadata": {},
   "outputs": [],
   "source": [
    "# Write Python source code in this cell"
   ]
  },
  {
   "cell_type": "markdown",
   "id": "9cc80d8c",
   "metadata": {},
   "source": [
    "In this `SolutionArray`, each row is a different residence time and each column is a different equivalence ratio."
   ]
  },
  {
   "cell_type": "code",
   "execution_count": null,
   "id": "410eba0f",
   "metadata": {},
   "outputs": [],
   "source": [
    "# Write Python source code in this cell"
   ]
  },
  {
   "cell_type": "code",
   "execution_count": null,
   "id": "42cec44a",
   "metadata": {},
   "outputs": [],
   "source": [
    "# Write Python source code in this cell"
   ]
  }
 ],
 "metadata": {
  "kernelspec": {
   "display_name": "Python 3",
   "language": "python",
   "name": "python3"
  },
  "language_info": {
   "codemirror_mode": {
    "name": "ipython",
    "version": 3
   },
   "file_extension": ".py",
   "mimetype": "text/x-python",
   "name": "python",
   "nbconvert_exporter": "python",
   "pygments_lexer": "ipython3",
   "version": "3.9.4"
  }
 },
 "nbformat": 4,
 "nbformat_minor": 5
}
