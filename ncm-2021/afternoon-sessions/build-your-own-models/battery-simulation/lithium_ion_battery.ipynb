{
 "cells": [
  {
   "cell_type": "markdown",
   "id": "8daec7e1",
   "metadata": {},
   "source": [
    "# Lithium Ion Battery Example"
   ]
  },
  {
   "cell_type": "markdown",
   "id": "5334a69d",
   "metadata": {},
   "source": [
    "## Single particle model of a battery anode\n",
    " \n",
    "In this example we will illustrate how to calculate electric potential of a battery half-cell (focused on just one electrode--the anode), during charging of the battery.\n",
    "\n",
    "Note that the thermodynamic model for the `BinarySolutionTabulatedThermo` class, used to descrige the intercalation of graphite, is presented in greater detail in the reference: M. Mayur, S. DeCaluwe, B. L. Kee, W. G. Bessler, \"Modeling thermodynamics and kinetics of intercalation phases for lithium-ion batteries in open source software\", _Electrochimica Acta_, *323*, 2019, p. 134797.\n",
    "\n",
    "Other than the typical Cantera dependencies, plotting functions require that you have matplotlib installed, and integration requires Scipy's solve_ivp. See https://matplotlib.org/ and https://docs.scipy.org/doc/scipy/reference/generated/scipy.integrate.solve_ivp.html for additional info.\n",
    "\n",
    "The battery here, can be thought of as consisting of two particles--anode and cathode--connected by a liquid electrolyte:\n",
    "\n",
    "<img src=\"SingleParticleBattery.png\" alt=\"Cartoon of a Single Particle Battery Model\" style=\"width: 500px;\"/>\n",
    "\n",
    "For simplicity's sake, we will focus on just the anode particle and the adjacent electrolyte.  The state of the anode will be characterized by that of a representative/average anode particle. \n",
    "\n",
    "### State variables\n",
    "The state of our system is presented by the following variables:\n",
    "\n",
    "- $\\phi_{\\rm anode}$: electric potential of graphite anode.\n",
    "- $\\phi_{\\rm elyte}$: electric potential of electrolyte.\n",
    "- $X_{k,\\,{\\rm anode}}$: Mole fraction of intercalated Li in the anode.\n",
    "- $C_{k,\\,{\\rm elyte}}$: molar density of electrolyte species $k,\\,{\\rm elyte}$.\n",
    "\n",
    "### Processes:\n",
    "There are four processes occuring in our simulation domain, each associated with the movement of electrical charge and a corresponding current $I$:\n",
    "- External applied current $i_{\\rm ext}$\n",
    "- Ionic current $i_{\\rm io}$ which brings Li$^+$ ions in the electrolyte phase into/out of the domain.\n",
    "- Electro-chemical reactions at the anode-electrolyte interface, with an associated Faradaic current $i_{\\rm Far}$.\n",
    "- Double-layer current $i_{\\rm dl}$, associated with the movement of charge between the bulk of a phase and the phase interface.\n",
    "\n",
    "Each of these processes impacts our state variables, in some way.\n",
    "\n",
    "\n",
    "<img src=\"spm_interfaces.png\" alt=\"Cartoon of anode processes.\" style=\"width: 500px;\"/>\n",
    "\n",
    "Note from the image that all current densities $i$ are defined as positive when they move positive charge toward the anode current collector. This will be important, below, when we define our residual function.\n",
    "\n",
    "### Assumptions\n",
    "The primary two assumptions that we will make are:\n",
    "- The battery is isothermal (constant temperature).\n",
    "- The bulk interior of any phase is charge neutral.\n",
    "\n",
    "The first assumption is straightforward enough, but the second requries a little explanation.  In electrochemical systems, charge buildup can occur at the interfaces between charges, but the interior of each phase is very nearly charge neutral, at all times.  If a charge imabalance occurs in the interior of a phase, it typically results in very large electric fields, which drive the charge toward neutrality.  Simply assuming charge neutrality, then, is a decent approximation. \n",
    "\n",
    "This has three main impacts on our simulation:\n",
    "\n",
    "1. If the domain as a whole is charge neutral, that means that the external applied current $i_{\\rm ext}$ at any time is exactly equal to the ionic current $i_{\\rm io}$ entering the anode domain.\n",
    "2. At any given time, the faradaic current $i_{\\rm Far}$ is determined by the local state variables $\\phi_{\\rm anode}$, $\\phi_{\\rm elyte}$, $X_{k,\\,{\\rm anode}}$, and $C_{k,\\,{\\rm elyte}}$.  So there is no guarantee that $i_{\\rm Far} = i_{\\rm ion} = i_{\\rm elyte}$, which is required to maintain charge neutrality in the individual phases.  The double layer current, $i_{\\rm dl}$, then, is calculated at any given time as that required to maintain charge neutrality in the phases.  There is an equal and opposite movement of charges to the interface on either side of the phase bondary:\n",
    "\n",
    "In the anode phase:\n",
    "$$ i_{\\rm dl} = i_{\\rm Far} - i_{\\rm ext}$$\n",
    "or in the electrolyte phase:\n",
    "$$ i_{\\rm dl} = i_{\\rm Far} - i_{\\rm io}$$\n",
    "\n",
    "3. From this, we know that the movement of Li$^+$ ions out of the bulk electrolyte to the anode or the interface, $i_{\\rm Far} + i_{\\rm dl}$ is equal to the movement of Li$^+$ ions into the anode, $i_{\\rm io}$.  Therefore, the electrolyte species concentrations are constant, in this relatively simple model, and can be stored as a parameter rather than a state variable.\n",
    "\n",
    "### Boundary conditions:\n",
    "The primary boundary condition will be the applied current $i_{\\rm ext}$--this is the current at which the user charges the battery.\n",
    "\n",
    "While not technically a boundary condition, we will also assume that the electrolyte electric potential equals zero. We only care about the electric potentials in a _relative_ sense, and as such can set one of $\\phi_{\\rm anode}$ and $\\phi_{\\rm elyte,\\, anode}$ to the reference potential of zero (because it is the difference in electric potential which drives currents, the actual potential values are irrelevant). \n",
    "\n",
    "Note that the cathode potential will also be relative to the electrolyte potential, and so our cell voltage, were we simulating the entire cell:\n",
    "\n",
    "$$V_{\\rm cell} = \\left(\\phi_{\\rm cathode} - \\phi_{\\rm elyte}\\right) -  \\left(\\phi_{\\rm anode} - \\phi_{\\rm elyte}\\right) =  \\phi_{\\rm cathode} - \\phi_{\\rm anode}$$\n",
    "is unaffected by our choice of a reference potential.\n",
    "\n",
    "## Begin by importing the necessary packages:"
   ]
  },
  {
   "cell_type": "code",
   "execution_count": 1,
   "id": "b0b30930",
   "metadata": {
    "scrolled": true
   },
   "outputs": [
    {
     "name": "stdout",
     "output_type": "stream",
     "text": [
      "Cantera version: 2.5.1\n"
     ]
    }
   ],
   "source": [
    "import cantera as ct\n",
    "\n",
    "from scipy.integrate import solve_ivp\n",
    "import numpy as np\n",
    "%matplotlib notebook\n",
    "import matplotlib.pyplot as plt\n",
    "\n",
    "print(f\"Cantera version: {ct.__version__}\")"
   ]
  },
  {
   "cell_type": "markdown",
   "id": "32f6ad54",
   "metadata": {},
   "source": [
    "### Build the model\n",
    "\n",
    "We're actually going to build the model \"backwards\" - jump down to the bottom to build the model framework, and then work back from there to fill in the necessary model components. \n",
    "\n",
    "The blocks are all numbered in order, the numbers just run in reverse so head to the bottom and look for item 1!"
   ]
  },
  {
   "cell_type": "markdown",
   "id": "3e7d7d7f",
   "metadata": {},
   "source": [
    "### 4. Provide user inputs\n",
    "\n",
    "Given the subsequent cells, we need to provide the external current, strings to represent the input/mechanism file names, the microstructure of the anode (volume fraction, anode average particle diameter, and thickness0, double-layer capacitance, and initial conditions:"
   ]
  },
  {
   "cell_type": "code",
   "execution_count": null,
   "id": "ec7ad2c9",
   "metadata": {},
   "outputs": [],
   "source": [
    "# Write Python source code in this cell"
   ]
  },
  {
   "cell_type": "markdown",
   "id": "f0aecd83",
   "metadata": {},
   "source": [
    "### 3. Create class structures for params, anode, and electrolyte.\n",
    "\n",
    "We will create Python class objects to hold all necessary parameters associated with the simulation, plus parameters and Cantera objects associated with the anode and electrolyte phases.\n",
    "\n",
    "The electrolyte phase properties are constant, so we set there once, here, and do not need to pass the object to any functions. The anode class contains Cantera objects for the anode phase, the electron-conducting phase (which in reality is the same as the anode phase, but Cantera currently currently considers an electron as equivalent to other chemical species in the phase.  It is therefore easier to consider a separate \"conductor\" phase whose only species is the electron.\n",
    "\n",
    "The anode class also stores the double layer capacitanbce and the molar density of the discharged anode (kmol of Li 'host' sites per total volume of electrode).\n",
    "\n",
    "The params class holds other parameters, including the external current density, integration time spane, anode phase volume fraction, anode thickness, and anode/electrolyte interface area (m$^2$ interface per m$^2$ geometric area)."
   ]
  },
  {
   "cell_type": "code",
   "execution_count": null,
   "id": "e52e340d",
   "metadata": {},
   "outputs": [],
   "source": [
    "# Write Python source code in this cell"
   ]
  },
  {
   "cell_type": "markdown",
   "id": "5bdfee2b",
   "metadata": {},
   "source": [
    "### 2. The residual function\n",
    "\n",
    "We need one governing equatio for each state variable.  We have already assumed $\\phi_{\\rm elyte} = 0.0$ V, so that leaves governing equations for:\n",
    "- $\\phi_{\\rm anode}$: electric potential of graphite anode.\n",
    "- $X_{k,\\,{\\rm anode}}$: Mole fraction of intercalated Li in the anode.\n",
    "- $C_{k,\\,{\\rm elyte}}$: molar density of electrolyte species $k,\\,{\\rm elyte}$.\n",
    "\n",
    "#### Anode electric potential:\n",
    "Assuming that the bulk phase potential on either side of the anode-electrolyte interface is equilibrated with the double layer potential, the anode potential is defined by the equation for the double layer potential:\n",
    "\n",
    "$$\\Delta \\phi_{\\rm dl} = \\phi_{\\rm anode} - \\phi_{\\rm elyte}$$\n",
    "\n",
    "which leads to \n",
    "\n",
    "$$\\phi_{\\rm anode} = \\Delta \\phi_{\\rm dl} + \\phi_{\\rm elyte}$$\n",
    "\n",
    "Finally, given our assumption that $\\phi_{\\rm elyte} = 0$:\n",
    "\n",
    "$$\\phi_{\\rm anode} = \\Delta \\phi_{\\rm dl}$$\n",
    "\n",
    "We model the double layer as a capacitor, so that the voltage is equal to the charge stored in the double layer, divided by a constant capacitance:\n",
    "\n",
    "$$\\frac{d\\phi_{\\rm anode}}{dt} = \\frac{d\\Delta\\phi_{\\rm dl}}{dt} = \\frac{1}{C_{\\rm dl}}\\frac{dQ_{\\rm dl}}{dt}$$\n",
    "\n",
    "Lastly, recognizing that $\\frac{dQ_{\\rm dl}}{dt} = -i_{\\rm dl}$ (positive $i_{\\rm dl}$ means the anode side of the dl becomes more negative), we get:\n",
    "\n",
    "<div class=\"alert alert-danger\" role=\"alert\">\n",
    "$$\\frac{d\\phi_{\\rm anode}}{dt} = -\\frac{i_{\\rm dl}}{A_{\\rm int}C_{\\rm dl}}$$\n",
    "</div>\n",
    "\n",
    "where $I_{\\rm dl}$ is defined as above and $A_{\\rm int}$ is equal to the anode-electrolyte interface area, per unit geometric area of the battery. We will show calculation of $i_{\\rm dl}$ further below.\n",
    "\n",
    "#### Mole fraction of intercalated Li in the anode phase\n",
    "\n",
    "We track this via $X_{\\rm LiC_6}$, where the anode is assumed to consist of either $C_6$ or $LiC_6$ (with the mole fractions summing to one).\n",
    "\n",
    "From a mole balance, we have:\n",
    "\n",
    "<div class=\"alert alert-danger\" role=\"alert\">\n",
    "$$\\frac{dX_{\\rm LiC_6}}{dt} = \\frac{A_{\\rm int}}{n_{\\rm anode}\\varepsilon_{\\rm anode}\\Delta y_{\\rm anode}} \\dot{s}_{\\rm LiC_6}$$\n",
    "</div>\n",
    "\n",
    "where $n_{\\rm anode}$ is the molar density of ${\\rm C_6}$ in the discharged anode (kmol/m<sup>3</sup> of graphite), $\\varepsilon_{\\rm anode}$ is the volume fraction of graphite in the anode, $\\Delta y_{\\rm anode}$ is the anode thickness, and $\\dot{s}_{\\rm LiC_6}$ is the molar production rate of LiC$_6$ due to interfacial reactions (kmol of Li per m<sup>2</sup> of interface area per second). This last term is calculated via Cantera, via the function `int.get_net_prod_rates(anode)`, which retrieves the anode-phase production rates due to reactions associated with the interface object `int`.  \n",
    "\n",
    "We can use a similar approach to get the faradaic current, via the production of electrons in the conductor phase. We noted before that positive #i_{\\rm Far}$ corresponds to positive charge moving to the anode. Thefore, it is proportional to the opposite of the electron creation rate:\n",
    "\n",
    "$$i_{\\rm Far} = -\\frac{A_{\\rm int}}{\\Delta y_{\\rm anode}}\\dot{s}_{\\rm e^-} $$"
   ]
  },
  {
   "cell_type": "code",
   "execution_count": null,
   "id": "cfae55c9",
   "metadata": {},
   "outputs": [],
   "source": [
    "# Write Python source code in this cell"
   ]
  },
  {
   "cell_type": "markdown",
   "id": "38e7b2ae",
   "metadata": {},
   "source": [
    "## 1. The main code - Initialize the model, run the integrator, and plot results!\n",
    "\n",
    "We will use the `scipy.integrate` function `solve_ivp`, which takes an initial state and integrates it over a user-defined time span, according to user-defined differential equations for each variable.\n",
    "\n",
    "At a minimum, then, the integrator function requires three things (in the following order):\n",
    "- The derivative function (which we will generalize to call the \"residual,\" here).\n",
    "- The time span over which to integrate\n",
    "- The initial values of all state variables\n",
    "\n",
    "Each of these must be predefined--scroll up to block 2, which defines the residual function.  We will also pass in extra arguments to the function via `args`, which includes the user defined parameters plus the anode and electrolyte class objects.\n",
    "\n",
    "We will save the results (the time for each time step and the state vector SV at each time step) to a variable called `solution`.\n",
    "\n",
    "Then we will do some basic plotting of the results.  Note that the plotting expects that the anode potential (relative to that the electrolyte) is stored as the first variable, and the degree of lithiation (mole fraction of LiC6 in the anode) is stored as the second variable.  Note also that the code below expects that the params object has varaibles `tspan` and `i_ext`.\n"
   ]
  },
  {
   "cell_type": "code",
   "execution_count": null,
   "id": "804ed360",
   "metadata": {},
   "outputs": [],
   "source": [
    "# Write Python source code in this cell"
   ]
  },
  {
   "cell_type": "markdown",
   "id": "9617798a",
   "metadata": {},
   "source": [
    "### We can also model the discharge of the anode.\n",
    "\n",
    "To do so, we simply need to take the final solution vector as our new `SV_0`, and change the sign on the external current:"
   ]
  },
  {
   "cell_type": "code",
   "execution_count": null,
   "id": "2acf4a83",
   "metadata": {},
   "outputs": [],
   "source": [
    "# Write Python source code in this cell"
   ]
  },
  {
   "cell_type": "markdown",
   "id": "55bb5d1e",
   "metadata": {},
   "source": [
    "#### Now integrate and plot, just like before:"
   ]
  },
  {
   "cell_type": "code",
   "execution_count": null,
   "id": "18788597",
   "metadata": {},
   "outputs": [],
   "source": [
    "# Write Python source code in this cell"
   ]
  }
 ],
 "metadata": {
  "kernelspec": {
   "display_name": "Python 3",
   "language": "python",
   "name": "python3"
  },
  "language_info": {
   "codemirror_mode": {
    "name": "ipython",
    "version": 3
   },
   "file_extension": ".py",
   "mimetype": "text/x-python",
   "name": "python",
   "nbconvert_exporter": "python",
   "pygments_lexer": "ipython3",
   "version": "3.9.4"
  }
 },
 "nbformat": 4,
 "nbformat_minor": 5
}
