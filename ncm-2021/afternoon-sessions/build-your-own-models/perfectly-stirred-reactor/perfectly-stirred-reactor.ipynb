{
 "cells": [
  {
   "cell_type": "markdown",
   "id": "occupied-sixth",
   "metadata": {},
   "source": [
    "### Import packages"
   ]
  },
  {
   "cell_type": "code",
   "execution_count": null,
   "id": "f01e510f",
   "metadata": {},
   "outputs": [],
   "source": [
    "# Write Python source code in this cell"
   ]
  },
  {
   "cell_type": "markdown",
   "id": "arbitrary-karen",
   "metadata": {},
   "source": [
    "# Make your own: 0-D Perfectly Stirred Reactor\n",
    "\n",
    "The perfectly stirred reactor (aka \"PSR\") is defined by a relatively simple set of governing equations, providing an excellent opportunity to demonstrate how we can use Cantera as a \"calculator\" to provide the terms and variables required for solving a set of equations of our own choosing.\n",
    "\n",
    "<img src=\"PSR.png\" alt=\"Cartoon of a Perfectly Stirred Chemical Reactor.\" style=\"width: 500px;\"/>\n",
    "\n",
    "The model includes user inputs for the inlet gas conditions (temperature, pressure, composition) and mass flux (typically defined in terms of the residence time $\\tau$), some condition for the outlet flow, and an optional heat transfer boundary condition."
   ]
  },
  {
   "cell_type": "markdown",
   "id": "adopted-drove",
   "metadata": {},
   "source": [
    "## Differential equations:\n",
    "\n",
    "Given the above, the state of the reactor is defined entirely by the temperature $T$ and the mass densities of each species $\\rho_k$.  Note that we could use some combination of mass/mole fractions and pressure or total mass density.  But $\\rho = \\sum_k \\rho_k$ and $Y_k = \\frac{\\rho_k}{\\rho}$ provides sufficient information to fix the reactor state.\n",
    "\n",
    "### Species mass densities:\n",
    "The species mass densities change due to three phenomena:\n",
    "- Flux of species in: $\\dot{m}_{\\rm in} Y_{k,\\,{\\rm in}}$\n",
    "- Flux of species out: $\\dot{m}_{\\rm out} Y_{k}$, where $\\dot{m} = K\\left(P - P_{\\rm out}\\right)$ and $Y_k$ is the current composition of the reactor contents. $K$ is a user-defined \"valve\" coefficient for the outlet flow.\n",
    "- Homogeneous chemical reactions occuring within the reactor, which occur at a molar rate of $\\omega_k\\,\\left[\\frac{{\\rm kmol}-k}{\\rm m^3 s}\\right]$\n",
    "\n",
    "We will pose all state and process variables with respect to the total reactor volume.  Hence, for a gas-phase species $k$, we have:\n",
    "\n",
    "<div class=\"alert-danger\">\n",
    "    $$ \\frac{d\\rho_k}{dt} =  \\dot{m}^{\\prime\\prime\\prime}_{\\rm in}Y_{k,\\,{\\rm in}} - Y_kK\\left(P - P_{\\rm out}\\right) + W_k\\omega_k$$\n",
    "</div>\n",
    "where $W_k$ is the species molecular weight $\\left[\\frac{\\rm kg}{{\\rm kmol}-k}\\right]$.\n",
    "\n",
    "### Temperature:\n",
    "Assuming constant volume and a single-inlet single-exit reactor, the temperature of an ideal gas reactor is described on the [Cantera web page](https://cantera.org/science/reactors.html#ideal-gas-reactor) as:\n",
    "\n",
    "<div class=\"alert-danger\">\n",
    "    $$ \\frac{dT}{dt} = \\frac{1}{\\rho c_v}\\left(-q + \\dot{m}^{\\prime\\prime\\prime}_{\\rm in}\\left(h_{\\rm in} - \\sum_k u_kY_{k,{\\rm in}}\\right) - \\frac{p}{\\rho}\\dot{m}_{\\rm out}-\\sum_k\\omega_k u_k \\right)$$\n",
    "</div>\n",
    "\n",
    "where, again, all mass flow rates $\\dot{m}$ are per unit volume of reactor and $q$ is an optional heat loss term."
   ]
  },
  {
   "cell_type": "markdown",
   "id": "auburn-discretion",
   "metadata": {},
   "source": [
    "### Define the residual:"
   ]
  },
  {
   "cell_type": "code",
   "execution_count": null,
   "id": "fb506255",
   "metadata": {},
   "outputs": [],
   "source": [
    "# Write Python source code in this cell"
   ]
  },
  {
   "cell_type": "markdown",
   "id": "comprehensive-radiation",
   "metadata": {},
   "source": [
    "### User inputs:"
   ]
  },
  {
   "cell_type": "code",
   "execution_count": null,
   "id": "e882a6dd",
   "metadata": {},
   "outputs": [],
   "source": [
    "# Write Python source code in this cell"
   ]
  },
  {
   "cell_type": "markdown",
   "id": "revolutionary-closure",
   "metadata": {},
   "source": [
    "### Instantiate Cantera objects:"
   ]
  },
  {
   "cell_type": "code",
   "execution_count": null,
   "id": "689df706",
   "metadata": {},
   "outputs": [],
   "source": [
    "# Write Python source code in this cell"
   ]
  },
  {
   "cell_type": "markdown",
   "id": "starting-transformation",
   "metadata": {},
   "source": [
    "### Initialize the Solution Vector and compute solution:"
   ]
  },
  {
   "cell_type": "code",
   "execution_count": null,
   "id": "3212c54c",
   "metadata": {},
   "outputs": [],
   "source": [
    "# Write Python source code in this cell"
   ]
  },
  {
   "cell_type": "markdown",
   "id": "right-accused",
   "metadata": {},
   "source": [
    "### Some basic plotting:"
   ]
  },
  {
   "cell_type": "code",
   "execution_count": null,
   "id": "d8443d11",
   "metadata": {},
   "outputs": [],
   "source": [
    "# Write Python source code in this cell"
   ]
  }
 ],
 "metadata": {
  "kernelspec": {
   "display_name": "Python 3",
   "language": "python",
   "name": "python3"
  },
  "language_info": {
   "codemirror_mode": {
    "name": "ipython",
    "version": 3
   },
   "file_extension": ".py",
   "mimetype": "text/x-python",
   "name": "python",
   "nbconvert_exporter": "python",
   "pygments_lexer": "ipython3",
   "version": "3.9.4"
  }
 },
 "nbformat": 4,
 "nbformat_minor": 5
}
