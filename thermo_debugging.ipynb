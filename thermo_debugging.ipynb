{
 "cells": [
  {
   "cell_type": "code",
   "execution_count": 1,
   "metadata": {},
   "outputs": [],
   "source": [
    "import cantera as ct\n",
    "import cantera.ck2cti as ck2cti\n",
    "import numpy as np\n",
    "\n",
    "%matplotlib notebook\n",
    "import matplotlib.pyplot as plt"
   ]
  },
  {
   "cell_type": "markdown",
   "metadata": {},
   "source": [
    "## Converting from Chemkin"
   ]
  },
  {
   "cell_type": "markdown",
   "metadata": {},
   "source": [
    "One of the most common problems that users encounter is converting CHEMKIN format input files to Cantera CTI format. Unfortunately, the CHEMKIN interpreter for these files is not very strict about complying with its own standard, so files that work just fine in CHEMKIN require some massaging to work with Cantera. Let's look at one example:"
   ]
  },
  {
   "cell_type": "code",
   "execution_count": 2,
   "metadata": {},
   "outputs": [
    {
     "name": "stderr",
     "output_type": "stream",
     "text": [
      "WARNING:root:\n",
      "ERROR: Unable to parse 'input-files/mech_debug/mech.txt' near line 73:\n",
      "\n"
     ]
    },
    {
     "ename": "InputParseError",
     "evalue": "Unrecognized token on REACTIONS line, 'BASE'",
     "output_type": "error",
     "traceback": [
      "\u001b[0;31m---------------------------------------------------------------------------\u001b[0m",
      "\u001b[0;31mInputParseError\u001b[0m                           Traceback (most recent call last)",
      "\u001b[0;32m<ipython-input-2-3e2262f47e5c>\u001b[0m in \u001b[0;36m<module>\u001b[0;34m\u001b[0m\n\u001b[1;32m      6\u001b[0m     \u001b[0mthermoFile\u001b[0m\u001b[0;34m=\u001b[0m\u001b[0;34m'input-files/mech_debug/thermo.txt'\u001b[0m\u001b[0;34m,\u001b[0m\u001b[0;34m\u001b[0m\u001b[0;34m\u001b[0m\u001b[0m\n\u001b[1;32m      7\u001b[0m     \u001b[0mtransportFile\u001b[0m\u001b[0;34m=\u001b[0m\u001b[0;34m'input-files/mech_debug/tran.txt'\u001b[0m\u001b[0;34m,\u001b[0m\u001b[0;34m\u001b[0m\u001b[0;34m\u001b[0m\u001b[0m\n\u001b[0;32m----> 8\u001b[0;31m     \u001b[0moutName\u001b[0m\u001b[0;34m=\u001b[0m\u001b[0;34m'input-files/mech_debug/mech.cti'\u001b[0m\u001b[0;34m,\u001b[0m\u001b[0;34m\u001b[0m\u001b[0;34m\u001b[0m\u001b[0m\n\u001b[0m\u001b[1;32m      9\u001b[0m );\n",
      "\u001b[0;32m~/miniconda3/envs/cantera-workshop/lib/python3.7/site-packages/cantera/ck2cti.py\u001b[0m in \u001b[0;36mconvertMech\u001b[0;34m(inputFile, thermoFile, transportFile, surfaceFile, phaseName, outName, quiet, permissive)\u001b[0m\n\u001b[1;32m   2198\u001b[0m             \u001b[0;32mtry\u001b[0m\u001b[0;34m:\u001b[0m\u001b[0;34m\u001b[0m\u001b[0;34m\u001b[0m\u001b[0m\n\u001b[1;32m   2199\u001b[0m                 \u001b[0;31m# Read input mechanism files\u001b[0m\u001b[0;34m\u001b[0m\u001b[0;34m\u001b[0m\u001b[0;34m\u001b[0m\u001b[0m\n\u001b[0;32m-> 2200\u001b[0;31m                 \u001b[0mparser\u001b[0m\u001b[0;34m.\u001b[0m\u001b[0mloadChemkinFile\u001b[0m\u001b[0;34m(\u001b[0m\u001b[0minputFile\u001b[0m\u001b[0;34m)\u001b[0m\u001b[0;34m\u001b[0m\u001b[0;34m\u001b[0m\u001b[0m\n\u001b[0m\u001b[1;32m   2201\u001b[0m             \u001b[0;32mexcept\u001b[0m \u001b[0mException\u001b[0m\u001b[0;34m:\u001b[0m\u001b[0;34m\u001b[0m\u001b[0;34m\u001b[0m\u001b[0m\n\u001b[1;32m   2202\u001b[0m                 logging.warning(\"\\nERROR: Unable to parse '{0}' near line {1}:\\n\".format(\n",
      "\u001b[0;32m~/miniconda3/envs/cantera-workshop/lib/python3.7/site-packages/cantera/ck2cti.py\u001b[0m in \u001b[0;36mloadChemkinFile\u001b[0;34m(self, path, skipUndeclaredSpecies, surface)\u001b[0m\n\u001b[1;32m   1808\u001b[0m                             \u001b[0mself\u001b[0m\u001b[0;34m.\u001b[0m\u001b[0mmotz_wise\u001b[0m \u001b[0;34m=\u001b[0m \u001b[0;32mFalse\u001b[0m\u001b[0;34m\u001b[0m\u001b[0;34m\u001b[0m\u001b[0m\n\u001b[1;32m   1809\u001b[0m                         \u001b[0;32melse\u001b[0m\u001b[0;34m:\u001b[0m\u001b[0;34m\u001b[0m\u001b[0;34m\u001b[0m\u001b[0m\n\u001b[0;32m-> 1810\u001b[0;31m                             \u001b[0;32mraise\u001b[0m \u001b[0mInputParseError\u001b[0m\u001b[0;34m(\u001b[0m\u001b[0;34m\"Unrecognized token on REACTIONS line, {0!r}\"\u001b[0m\u001b[0;34m.\u001b[0m\u001b[0mformat\u001b[0m\u001b[0;34m(\u001b[0m\u001b[0mtoken\u001b[0m\u001b[0;34m)\u001b[0m\u001b[0;34m)\u001b[0m\u001b[0;34m\u001b[0m\u001b[0;34m\u001b[0m\u001b[0m\n\u001b[0m\u001b[1;32m   1811\u001b[0m \u001b[0;34m\u001b[0m\u001b[0m\n\u001b[1;32m   1812\u001b[0m                     \u001b[0mself\u001b[0m\u001b[0;34m.\u001b[0m\u001b[0mprocessed_units\u001b[0m \u001b[0;34m=\u001b[0m \u001b[0;32mTrue\u001b[0m\u001b[0;34m\u001b[0m\u001b[0;34m\u001b[0m\u001b[0m\n",
      "\u001b[0;31mInputParseError\u001b[0m: Unrecognized token on REACTIONS line, 'BASE'"
     ]
    }
   ],
   "source": [
    "# Command line equivalent:\n",
    "# python -m cantera.ck2cti --input=mech.txt --thermo=thermo.txt --transport=tran.txt --out=mech.cti\n",
    "parser = ck2cti.Parser()\n",
    "parser.convertMech(\n",
    "    inputFile='input-files/mech_debug/mech.txt',\n",
    "    thermoFile='input-files/mech_debug/thermo.txt',\n",
    "    transportFile='input-files/mech_debug/tran.txt',\n",
    "    outName='input-files/mech_debug/mech.cti',\n",
    ");"
   ]
  },
  {
   "cell_type": "code",
   "execution_count": 3,
   "metadata": {},
   "outputs": [
    {
     "name": "stderr",
     "output_type": "stream",
     "text": [
      "INFO:root:Skipping unexpected species \"C3H4CY\" while reading thermodynamics entry.\n",
      "INFO:root:Skipping unexpected species \"C4H5\" while reading thermodynamics entry.\n",
      "INFO:root:Skipping unexpected species \"CH3NO3\" while reading thermodynamics entry.\n",
      "INFO:root:Skipping unexpected species \"CH2NO3\" while reading thermodynamics entry.\n",
      "INFO:root:Skipping unexpected species \"HCCOH\" while reading thermodynamics entry.\n",
      "INFO:root:Skipping unexpected species \"N2O5\" while reading thermodynamics entry.\n",
      "INFO:root:Error while reading thermo entry starting on line 523:\n",
      "\"\"\"\n",
      "TC4H7             A 8/83C   4H\t 7    0    0G   300.     3000.\t  1500.        1\n",
      " 0.4219753E 01  0.2882451E-01 -0.1399213E-04  0.3340718E-08 -0.3226427E-12     2\n",
      " 0.1266295E 05  0.3253111E 01 -0.2152314E+01  0.5547424E-01 -0.6226715E-04     3\n",
      " 0.4593056E-07 -0.1492297E-10  0.1407443E 05  0.3421103E 02  0.1543086E+05     4\n",
      "\"\"\"\n",
      "WARNING:root:\n",
      "ERROR: Unable to parse 'input-files/mech_debug/thermo.txt' near line 526:\n",
      "\n"
     ]
    },
    {
     "ename": "ValueError",
     "evalue": "could not convert string to float: 'E-08 -0.32'",
     "output_type": "error",
     "traceback": [
      "\u001b[0;31m---------------------------------------------------------------------------\u001b[0m",
      "\u001b[0;31mValueError\u001b[0m                                Traceback (most recent call last)",
      "\u001b[0;32m<ipython-input-3-834bbba57065>\u001b[0m in \u001b[0;36m<module>\u001b[0;34m\u001b[0m\n\u001b[1;32m      5\u001b[0m     \u001b[0mthermoFile\u001b[0m\u001b[0;34m=\u001b[0m\u001b[0;34m'input-files/mech_debug/thermo.txt'\u001b[0m\u001b[0;34m,\u001b[0m\u001b[0;34m\u001b[0m\u001b[0;34m\u001b[0m\u001b[0m\n\u001b[1;32m      6\u001b[0m     \u001b[0mtransportFile\u001b[0m\u001b[0;34m=\u001b[0m\u001b[0;34m'input-files/mech_debug/tran.txt'\u001b[0m\u001b[0;34m,\u001b[0m\u001b[0;34m\u001b[0m\u001b[0;34m\u001b[0m\u001b[0m\n\u001b[0;32m----> 7\u001b[0;31m     \u001b[0moutName\u001b[0m\u001b[0;34m=\u001b[0m\u001b[0;34m'input-files/mech_debug/mech.cti'\u001b[0m\u001b[0;34m,\u001b[0m\u001b[0;34m\u001b[0m\u001b[0;34m\u001b[0m\u001b[0m\n\u001b[0m\u001b[1;32m      8\u001b[0m );\n",
      "\u001b[0;32m~/miniconda3/envs/cantera-workshop/lib/python3.7/site-packages/cantera/ck2cti.py\u001b[0m in \u001b[0;36mconvertMech\u001b[0;34m(inputFile, thermoFile, transportFile, surfaceFile, phaseName, outName, quiet, permissive)\u001b[0m\n\u001b[1;32m   2222\u001b[0m             \u001b[0;32mtry\u001b[0m\u001b[0;34m:\u001b[0m\u001b[0;34m\u001b[0m\u001b[0;34m\u001b[0m\u001b[0m\n\u001b[1;32m   2223\u001b[0m                 parser.loadChemkinFile(thermoFile,\n\u001b[0;32m-> 2224\u001b[0;31m                                      skipUndeclaredSpecies=bool(inputFile))\n\u001b[0m\u001b[1;32m   2225\u001b[0m             \u001b[0;32mexcept\u001b[0m \u001b[0mException\u001b[0m\u001b[0;34m:\u001b[0m\u001b[0;34m\u001b[0m\u001b[0;34m\u001b[0m\u001b[0m\n\u001b[1;32m   2226\u001b[0m                 logging.warning(\"\\nERROR: Unable to parse '{0}' near line {1}:\\n\".format(\n",
      "\u001b[0;32m~/miniconda3/envs/cantera-workshop/lib/python3.7/site-packages/cantera/ck2cti.py\u001b[0m in \u001b[0;36mloadChemkinFile\u001b[0;34m(self, path, skipUndeclaredSpecies, surface)\u001b[0m\n\u001b[1;32m   1749\u001b[0m                             \u001b[0;32mif\u001b[0m \u001b[0mline\u001b[0m\u001b[0;34m[\u001b[0m\u001b[0;36m79\u001b[0m\u001b[0;34m]\u001b[0m \u001b[0;34m==\u001b[0m \u001b[0;34m'4'\u001b[0m\u001b[0;34m:\u001b[0m\u001b[0;34m\u001b[0m\u001b[0;34m\u001b[0m\u001b[0m\n\u001b[1;32m   1750\u001b[0m                                 \u001b[0;32mtry\u001b[0m\u001b[0;34m:\u001b[0m\u001b[0;34m\u001b[0m\u001b[0;34m\u001b[0m\u001b[0m\n\u001b[0;32m-> 1751\u001b[0;31m                                     \u001b[0mlabel\u001b[0m\u001b[0;34m,\u001b[0m \u001b[0mthermo\u001b[0m\u001b[0;34m,\u001b[0m \u001b[0mcomp\u001b[0m\u001b[0;34m,\u001b[0m \u001b[0mnote\u001b[0m \u001b[0;34m=\u001b[0m \u001b[0mself\u001b[0m\u001b[0;34m.\u001b[0m\u001b[0mreadThermoEntry\u001b[0m\u001b[0;34m(\u001b[0m\u001b[0mthermo\u001b[0m\u001b[0;34m,\u001b[0m \u001b[0mTintDefault\u001b[0m\u001b[0;34m)\u001b[0m\u001b[0;34m\u001b[0m\u001b[0;34m\u001b[0m\u001b[0m\n\u001b[0m\u001b[1;32m   1752\u001b[0m                                 \u001b[0;32mexcept\u001b[0m \u001b[0mException\u001b[0m \u001b[0;32mas\u001b[0m \u001b[0me\u001b[0m\u001b[0;34m:\u001b[0m\u001b[0;34m\u001b[0m\u001b[0;34m\u001b[0m\u001b[0m\n\u001b[1;32m   1753\u001b[0m                                     \u001b[0merror_line_number\u001b[0m \u001b[0;34m=\u001b[0m \u001b[0mself\u001b[0m\u001b[0;34m.\u001b[0m\u001b[0mline_number\u001b[0m \u001b[0;34m-\u001b[0m \u001b[0mlen\u001b[0m\u001b[0;34m(\u001b[0m\u001b[0mcurrent\u001b[0m\u001b[0;34m)\u001b[0m \u001b[0;34m+\u001b[0m \u001b[0;36m1\u001b[0m\u001b[0;34m\u001b[0m\u001b[0;34m\u001b[0m\u001b[0m\n",
      "\u001b[0;32m~/miniconda3/envs/cantera-workshop/lib/python3.7/site-packages/cantera/ck2cti.py\u001b[0m in \u001b[0;36mreadThermoEntry\u001b[0;34m(self, lines, TintDefault)\u001b[0m\n\u001b[1;32m   1061\u001b[0m         \u001b[0;31m# Remember that the high-T polynomial comes first!\u001b[0m\u001b[0;34m\u001b[0m\u001b[0;34m\u001b[0m\u001b[0;34m\u001b[0m\u001b[0m\n\u001b[1;32m   1062\u001b[0m         \u001b[0mTmin\u001b[0m \u001b[0;34m=\u001b[0m \u001b[0mfortFloat\u001b[0m\u001b[0;34m(\u001b[0m\u001b[0mlines\u001b[0m\u001b[0;34m[\u001b[0m\u001b[0;36m0\u001b[0m\u001b[0;34m]\u001b[0m\u001b[0;34m[\u001b[0m\u001b[0;36m45\u001b[0m\u001b[0;34m:\u001b[0m\u001b[0;36m55\u001b[0m\u001b[0;34m]\u001b[0m\u001b[0;34m)\u001b[0m\u001b[0;34m\u001b[0m\u001b[0;34m\u001b[0m\u001b[0m\n\u001b[0;32m-> 1063\u001b[0;31m         \u001b[0mTmax\u001b[0m \u001b[0;34m=\u001b[0m \u001b[0mfortFloat\u001b[0m\u001b[0;34m(\u001b[0m\u001b[0mlines\u001b[0m\u001b[0;34m[\u001b[0m\u001b[0;36m0\u001b[0m\u001b[0;34m]\u001b[0m\u001b[0;34m[\u001b[0m\u001b[0;36m55\u001b[0m\u001b[0;34m:\u001b[0m\u001b[0;36m65\u001b[0m\u001b[0;34m]\u001b[0m\u001b[0;34m)\u001b[0m\u001b[0;34m\u001b[0m\u001b[0;34m\u001b[0m\u001b[0m\n\u001b[0m\u001b[1;32m   1064\u001b[0m         \u001b[0;32mtry\u001b[0m\u001b[0;34m:\u001b[0m\u001b[0;34m\u001b[0m\u001b[0;34m\u001b[0m\u001b[0m\n\u001b[1;32m   1065\u001b[0m             \u001b[0mTint\u001b[0m \u001b[0;34m=\u001b[0m \u001b[0mfortFloat\u001b[0m\u001b[0;34m(\u001b[0m\u001b[0mlines\u001b[0m\u001b[0;34m[\u001b[0m\u001b[0;36m0\u001b[0m\u001b[0;34m]\u001b[0m\u001b[0;34m[\u001b[0m\u001b[0;36m65\u001b[0m\u001b[0;34m:\u001b[0m\u001b[0;36m75\u001b[0m\u001b[0;34m]\u001b[0m\u001b[0;34m)\u001b[0m\u001b[0;34m\u001b[0m\u001b[0;34m\u001b[0m\u001b[0m\n",
      "\u001b[0;32m~/miniconda3/envs/cantera-workshop/lib/python3.7/site-packages/cantera/ck2cti.py\u001b[0m in \u001b[0;36mfortFloat\u001b[0;34m(s)\u001b[0m\n\u001b[1;32m    905\u001b[0m     \u001b[0ms\u001b[0m \u001b[0;34m=\u001b[0m \u001b[0ms\u001b[0m\u001b[0;34m.\u001b[0m\u001b[0mreplace\u001b[0m\u001b[0;34m(\u001b[0m\u001b[0;34m'D'\u001b[0m\u001b[0;34m,\u001b[0m \u001b[0;34m'E'\u001b[0m\u001b[0;34m)\u001b[0m\u001b[0;34m.\u001b[0m\u001b[0mreplace\u001b[0m\u001b[0;34m(\u001b[0m\u001b[0;34m'd'\u001b[0m\u001b[0;34m,\u001b[0m \u001b[0;34m'e'\u001b[0m\u001b[0;34m)\u001b[0m\u001b[0;34m\u001b[0m\u001b[0;34m\u001b[0m\u001b[0m\n\u001b[1;32m    906\u001b[0m     \u001b[0ms\u001b[0m \u001b[0;34m=\u001b[0m \u001b[0ms\u001b[0m\u001b[0;34m.\u001b[0m\u001b[0mreplace\u001b[0m\u001b[0;34m(\u001b[0m\u001b[0;34m'E '\u001b[0m\u001b[0;34m,\u001b[0m \u001b[0;34m'E+'\u001b[0m\u001b[0;34m)\u001b[0m\u001b[0;34m.\u001b[0m\u001b[0mreplace\u001b[0m\u001b[0;34m(\u001b[0m\u001b[0;34m'e '\u001b[0m\u001b[0;34m,\u001b[0m \u001b[0;34m'e+'\u001b[0m\u001b[0;34m)\u001b[0m\u001b[0;34m\u001b[0m\u001b[0;34m\u001b[0m\u001b[0m\n\u001b[0;32m--> 907\u001b[0;31m     \u001b[0;32mreturn\u001b[0m \u001b[0mfloat\u001b[0m\u001b[0;34m(\u001b[0m\u001b[0ms\u001b[0m\u001b[0;34m)\u001b[0m\u001b[0;34m\u001b[0m\u001b[0;34m\u001b[0m\u001b[0m\n\u001b[0m\u001b[1;32m    908\u001b[0m \u001b[0;34m\u001b[0m\u001b[0m\n\u001b[1;32m    909\u001b[0m \u001b[0;34m\u001b[0m\u001b[0m\n",
      "\u001b[0;31mValueError\u001b[0m: could not convert string to float: 'E-08 -0.32'"
     ]
    }
   ],
   "source": [
    "# Command line equivalent:\n",
    "# python -m cantera.ck2cti --input=mech_fixed.txt --thermo=thermo.txt --transport=tran.txt --out=mech.cti\n",
    "parser.convertMech(\n",
    "    inputFile='input-files/mech_debug/mech_fixed.txt',\n",
    "    thermoFile='input-files/mech_debug/thermo.txt',\n",
    "    transportFile='input-files/mech_debug/tran.txt',\n",
    "    outName='input-files/mech_debug/mech.cti',\n",
    ");"
   ]
  },
  {
   "cell_type": "code",
   "execution_count": 4,
   "metadata": {},
   "outputs": [
    {
     "name": "stderr",
     "output_type": "stream",
     "text": [
      "INFO:root:Skipping unexpected species \"C3H4CY\" while reading thermodynamics entry.\n",
      "INFO:root:Skipping unexpected species \"C4H5\" while reading thermodynamics entry.\n",
      "INFO:root:Skipping unexpected species \"CH3NO3\" while reading thermodynamics entry.\n",
      "INFO:root:Skipping unexpected species \"CH2NO3\" while reading thermodynamics entry.\n",
      "INFO:root:Skipping unexpected species \"HCCOH\" while reading thermodynamics entry.\n",
      "INFO:root:Skipping unexpected species \"N2O5\" while reading thermodynamics entry.\n",
      "INFO:root:Skipping unexpected species \"TC4H7\" while reading thermodynamics entry.\n"
     ]
    },
    {
     "ename": "InputParseError",
     "evalue": "Ignoring duplicate transport data for species \"NCN\" on line 152 of \"input-files/mech_debug/tran.txt\".",
     "output_type": "error",
     "traceback": [
      "\u001b[0;31m---------------------------------------------------------------------------\u001b[0m",
      "\u001b[0;31mInputParseError\u001b[0m                           Traceback (most recent call last)",
      "\u001b[0;32m<ipython-input-4-19115ac3ff3d>\u001b[0m in \u001b[0;36m<module>\u001b[0;34m\u001b[0m\n\u001b[1;32m      5\u001b[0m     \u001b[0mthermoFile\u001b[0m\u001b[0;34m=\u001b[0m\u001b[0;34m'input-files/mech_debug/thermo_fixed.txt'\u001b[0m\u001b[0;34m,\u001b[0m\u001b[0;34m\u001b[0m\u001b[0;34m\u001b[0m\u001b[0m\n\u001b[1;32m      6\u001b[0m     \u001b[0mtransportFile\u001b[0m\u001b[0;34m=\u001b[0m\u001b[0;34m'input-files/mech_debug/tran.txt'\u001b[0m\u001b[0;34m,\u001b[0m\u001b[0;34m\u001b[0m\u001b[0;34m\u001b[0m\u001b[0m\n\u001b[0;32m----> 7\u001b[0;31m     \u001b[0moutName\u001b[0m\u001b[0;34m=\u001b[0m\u001b[0;34m'input-files/mech_debug/mech.cti'\u001b[0m\u001b[0;34m,\u001b[0m\u001b[0;34m\u001b[0m\u001b[0;34m\u001b[0m\u001b[0m\n\u001b[0m\u001b[1;32m      8\u001b[0m );\n",
      "\u001b[0;32m~/miniconda3/envs/cantera-workshop/lib/python3.7/site-packages/cantera/ck2cti.py\u001b[0m in \u001b[0;36mconvertMech\u001b[0;34m(inputFile, thermoFile, transportFile, surfaceFile, phaseName, outName, quiet, permissive)\u001b[0m\n\u001b[1;32m   2233\u001b[0m             \u001b[0;32mwith\u001b[0m \u001b[0mopen\u001b[0m\u001b[0;34m(\u001b[0m\u001b[0mtransportFile\u001b[0m\u001b[0;34m,\u001b[0m \u001b[0;34m'rU'\u001b[0m\u001b[0;34m)\u001b[0m \u001b[0;32mas\u001b[0m \u001b[0mf\u001b[0m\u001b[0;34m:\u001b[0m\u001b[0;34m\u001b[0m\u001b[0;34m\u001b[0m\u001b[0m\n\u001b[1;32m   2234\u001b[0m                 \u001b[0mlines\u001b[0m \u001b[0;34m=\u001b[0m \u001b[0;34m[\u001b[0m\u001b[0mstrip_nonascii\u001b[0m\u001b[0;34m(\u001b[0m\u001b[0mline\u001b[0m\u001b[0;34m)\u001b[0m \u001b[0;32mfor\u001b[0m \u001b[0mline\u001b[0m \u001b[0;32min\u001b[0m \u001b[0mf\u001b[0m\u001b[0;34m]\u001b[0m\u001b[0;34m\u001b[0m\u001b[0;34m\u001b[0m\u001b[0m\n\u001b[0;32m-> 2235\u001b[0;31m             \u001b[0mparser\u001b[0m\u001b[0;34m.\u001b[0m\u001b[0mparseTransportData\u001b[0m\u001b[0;34m(\u001b[0m\u001b[0mlines\u001b[0m\u001b[0;34m,\u001b[0m \u001b[0mtransportFile\u001b[0m\u001b[0;34m,\u001b[0m \u001b[0;36m1\u001b[0m\u001b[0;34m)\u001b[0m\u001b[0;34m\u001b[0m\u001b[0;34m\u001b[0m\u001b[0m\n\u001b[0m\u001b[1;32m   2236\u001b[0m \u001b[0;34m\u001b[0m\u001b[0m\n\u001b[1;32m   2237\u001b[0m             \u001b[0;31m# Transport validation: make sure all species have transport data\u001b[0m\u001b[0;34m\u001b[0m\u001b[0;34m\u001b[0m\u001b[0;34m\u001b[0m\u001b[0m\n",
      "\u001b[0;32m~/miniconda3/envs/cantera-workshop/lib/python3.7/site-packages/cantera/ck2cti.py\u001b[0m in \u001b[0;36mparseTransportData\u001b[0;34m(self, lines, filename, line_offset)\u001b[0m\n\u001b[1;32m   1981\u001b[0m                     self.warn('Ignoring duplicate transport data'\n\u001b[1;32m   1982\u001b[0m                          ' for species \"{0}\" on line {1} of \"{2}\".'.format(\n\u001b[0;32m-> 1983\u001b[0;31m                             speciesName, line_offset + i, filename))\n\u001b[0m\u001b[1;32m   1984\u001b[0m \u001b[0;34m\u001b[0m\u001b[0m\n\u001b[1;32m   1985\u001b[0m     \u001b[0;32mdef\u001b[0m \u001b[0mgetSpeciesString\u001b[0m\u001b[0;34m(\u001b[0m\u001b[0mself\u001b[0m\u001b[0;34m,\u001b[0m \u001b[0mspeciesList\u001b[0m\u001b[0;34m,\u001b[0m \u001b[0mindent\u001b[0m\u001b[0;34m)\u001b[0m\u001b[0;34m:\u001b[0m\u001b[0;34m\u001b[0m\u001b[0;34m\u001b[0m\u001b[0m\n",
      "\u001b[0;32m~/miniconda3/envs/cantera-workshop/lib/python3.7/site-packages/cantera/ck2cti.py\u001b[0m in \u001b[0;36mwarn\u001b[0;34m(self, message)\u001b[0m\n\u001b[1;32m    959\u001b[0m     \u001b[0;32mdef\u001b[0m \u001b[0mwarn\u001b[0m\u001b[0;34m(\u001b[0m\u001b[0mself\u001b[0m\u001b[0;34m,\u001b[0m \u001b[0mmessage\u001b[0m\u001b[0;34m)\u001b[0m\u001b[0;34m:\u001b[0m\u001b[0;34m\u001b[0m\u001b[0;34m\u001b[0m\u001b[0m\n\u001b[1;32m    960\u001b[0m         \u001b[0;32mif\u001b[0m \u001b[0mself\u001b[0m\u001b[0;34m.\u001b[0m\u001b[0mwarning_as_error\u001b[0m\u001b[0;34m:\u001b[0m\u001b[0;34m\u001b[0m\u001b[0;34m\u001b[0m\u001b[0m\n\u001b[0;32m--> 961\u001b[0;31m             \u001b[0;32mraise\u001b[0m \u001b[0mInputParseError\u001b[0m\u001b[0;34m(\u001b[0m\u001b[0mmessage\u001b[0m\u001b[0;34m)\u001b[0m\u001b[0;34m\u001b[0m\u001b[0;34m\u001b[0m\u001b[0m\n\u001b[0m\u001b[1;32m    962\u001b[0m         \u001b[0;32melse\u001b[0m\u001b[0;34m:\u001b[0m\u001b[0;34m\u001b[0m\u001b[0;34m\u001b[0m\u001b[0m\n\u001b[1;32m    963\u001b[0m             \u001b[0mlogging\u001b[0m\u001b[0;34m.\u001b[0m\u001b[0mwarning\u001b[0m\u001b[0;34m(\u001b[0m\u001b[0mmessage\u001b[0m\u001b[0;34m)\u001b[0m\u001b[0;34m\u001b[0m\u001b[0;34m\u001b[0m\u001b[0m\n",
      "\u001b[0;31mInputParseError\u001b[0m: Ignoring duplicate transport data for species \"NCN\" on line 152 of \"input-files/mech_debug/tran.txt\"."
     ]
    }
   ],
   "source": [
    "# Command line equivalent:\n",
    "# python -m cantera.ck2cti --input=mech_fixed.txt --thermo=thermo_fixed.txt --transport=tran.txt --out=mech.cti\n",
    "parser.convertMech(\n",
    "    inputFile='input-files/mech_debug/mech_fixed.txt',\n",
    "    thermoFile='input-files/mech_debug/thermo_fixed.txt',\n",
    "    transportFile='input-files/mech_debug/tran.txt',\n",
    "    outName='input-files/mech_debug/mech.cti',\n",
    ");"
   ]
  },
  {
   "cell_type": "code",
   "execution_count": 5,
   "metadata": {},
   "outputs": [
    {
     "name": "stderr",
     "output_type": "stream",
     "text": [
      "INFO:root:Skipping unexpected species \"C3H4CY\" while reading thermodynamics entry.\n",
      "INFO:root:Skipping unexpected species \"C4H5\" while reading thermodynamics entry.\n",
      "INFO:root:Skipping unexpected species \"CH3NO3\" while reading thermodynamics entry.\n",
      "INFO:root:Skipping unexpected species \"CH2NO3\" while reading thermodynamics entry.\n",
      "INFO:root:Skipping unexpected species \"HCCOH\" while reading thermodynamics entry.\n",
      "INFO:root:Skipping unexpected species \"N2O5\" while reading thermodynamics entry.\n",
      "INFO:root:Skipping unexpected species \"TC4H7\" while reading thermodynamics entry.\n",
      "WARNING:root:Ignoring duplicate transport data for species \"NCN\" on line 152 of \"input-files/mech_debug/tran.txt\".\n"
     ]
    },
    {
     "name": "stdout",
     "output_type": "stream",
     "text": [
      "Wrote CTI mechanism file to 'input-files/mech_debug/mech.cti'.\n",
      "Mechanism contains 129 species and 1231 reactions.\n"
     ]
    }
   ],
   "source": [
    "# Command line equivalent:\n",
    "# python -m cantera.ck2cti --input=mech_fixed.txt --thermo=thermo_fixed.txt --transport=tran.txt --permissive --out=mech.cti\n",
    "parser.convertMech(\n",
    "    inputFile='input-files/mech_debug/mech_fixed.txt',\n",
    "    thermoFile='input-files/mech_debug/thermo_fixed.txt',\n",
    "    transportFile='input-files/mech_debug/tran.txt',\n",
    "    outName='input-files/mech_debug/mech.cti',\n",
    "    permissive=True,\n",
    ");"
   ]
  },
  {
   "cell_type": "markdown",
   "metadata": {},
   "source": [
    "We have compiled a list of the most common errors in CHEMKIN format input files, which you can find in our documentation: https://cantera.org/tutorials/ck2cti-tutorial.html#debugging-common-errors-in-ck-files"
   ]
  },
  {
   "cell_type": "markdown",
   "metadata": {},
   "source": [
    "## Thermo Data"
   ]
  },
  {
   "cell_type": "markdown",
   "metadata": {},
   "source": [
    "Another common situation is when loading a CTI file, you encounter warnings about discontinuities in the thermodynamic data."
   ]
  },
  {
   "cell_type": "code",
   "execution_count": null,
   "metadata": {},
   "outputs": [],
   "source": [
    "gas = ct.Solution('input-files/mech_debug/mech.cti')"
   ]
  },
  {
   "cell_type": "markdown",
   "metadata": {},
   "source": [
    "These warnings are part of a validation check that Cantera does to make sure the thermodynamics data are consistent. In the standard NASA 14-coefficient polynomial form, the thermodynamics data are defined as two five coefficient polynomials (plus two other constants) over two temperature ranges. This is the form used for CHEMKIN files. The discontinuities occur when either the slope or the value of the thermodynamic functions ($c_p/R$, $h/(RT)$, or $s/R$) has a discontinuity at the mid-point temperature. Most commonly, one or more the discontinuities are due to incorrectly fit parameters, but they can also be caused by other means. Let's investigate."
   ]
  },
  {
   "cell_type": "code",
   "execution_count": null,
   "metadata": {},
   "outputs": [],
   "source": [
    "ct.suppress_thermo_warnings()"
   ]
  },
  {
   "cell_type": "code",
   "execution_count": null,
   "metadata": {},
   "outputs": [],
   "source": [
    "sp = gas.species('H2CNO')\n",
    "T = np.linspace(600, 2000, 200)\n",
    "f,ax = plt.subplots(1,3, figsize=(8,3.5))\n",
    "\n",
    "def plot_thermo(thermo):\n",
    "    h = [thermo.h(tt)/(ct.gas_constant * tt) for tt in T]\n",
    "    cp = [thermo.cp(tt)/ct.gas_constant for tt in T]\n",
    "    s = [thermo.s(tt)/ct.gas_constant for tt in T]\n",
    "    ax[0].plot(T,cp)\n",
    "    ax[0].set_title('$c_p/R$')\n",
    "    ax[1].plot(T,h)\n",
    "    ax[1].set_title('$h/RT$')\n",
    "    ax[2].plot(T,s)\n",
    "    ax[2].set_title('$s/R$')\n",
    "    f.tight_layout()\n",
    "plot_thermo(sp.thermo)"
   ]
  },
  {
   "cell_type": "code",
   "execution_count": null,
   "metadata": {},
   "outputs": [],
   "source": [
    "c0 = sp.thermo.coeffs\n",
    "c0"
   ]
  },
  {
   "cell_type": "code",
   "execution_count": null,
   "metadata": {},
   "outputs": [],
   "source": [
    "c0[0] = 1200\n",
    "test = ct.NasaPoly2(sp.thermo.min_temp, sp.thermo.max_temp, sp.thermo.reference_pressure, c0)\n",
    "plot_thermo(test)"
   ]
  },
  {
   "cell_type": "code",
   "execution_count": null,
   "metadata": {},
   "outputs": [],
   "source": [
    "c0[0] = 1000\n",
    "test = ct.NasaPoly2(sp.thermo.min_temp, sp.thermo.max_temp, sp.thermo.reference_pressure, c0)\n",
    "plot_thermo(test)"
   ]
  },
  {
   "cell_type": "markdown",
   "metadata": {},
   "source": [
    "In many cases, when the change is on the order of a few percent, these discontinuities won't cause problems. However, if you notice a simulation failing at a consistent temperature for several conditions, this is one possible cause."
   ]
  },
  {
   "cell_type": "markdown",
   "metadata": {},
   "source": [
    "## Reaction Rates"
   ]
  },
  {
   "cell_type": "markdown",
   "metadata": {},
   "source": [
    "Another common issue with mechanisms are unphysical reaction rates (particularly reverse reaction rates). These unphysical reaction rates often exceed the collision limit for a given reaction. A recent study by [Chen et al.](https://www.sciencedirect.com/science/article/pii/S0010218017303024) found that\n",
    "\n",
    "> among.. 20 [recent] models tested, 15 of them contain either considerable numbers of rate coefficients that exceed their respective collision limits or reactions exceeding the collision limit in a considerable manner. In the worst case, the rate coefficient exceeds the collision limit by 73 orders of magnitude.\n",
    "\n",
    "The authors continue\n",
    "\n",
    "> It is proposed that computational tools should be made available for authors to conduct the same rate coefficient screening.\n",
    "\n",
    "Let's take a look at how Cantera can fill this need."
   ]
  },
  {
   "cell_type": "code",
   "execution_count": null,
   "metadata": {},
   "outputs": [],
   "source": [
    "gas.TPX = 300, 101325, 'CH4:1.0, O2:0.1'\n",
    "gas.equilibrate('TP')\n",
    "gas()"
   ]
  },
  {
   "cell_type": "code",
   "execution_count": null,
   "metadata": {},
   "outputs": [],
   "source": [
    "f,ax = plt.subplots(1,1)\n",
    "ax.semilogy(gas.forward_rate_constants, 'b.')\n",
    "ax.semilogy(gas.reverse_rate_constants, 'r.')\n",
    "ax.set_ylim(bottom=1e-30)\n",
    "f.tight_layout()"
   ]
  },
  {
   "cell_type": "markdown",
   "metadata": {},
   "source": [
    "There are clearly several reverse rates with very high magnitudes. Let's print the reactions with reverse rate constants higher than $10^{20}$:"
   ]
  },
  {
   "cell_type": "code",
   "execution_count": null,
   "metadata": {},
   "outputs": [],
   "source": [
    "kr = gas.reverse_rate_constants\n",
    "for i, k in enumerate(kr):\n",
    "    if k > 1e20:\n",
    "        print(i, k, gas.reaction_equation(i))"
   ]
  },
  {
   "cell_type": "markdown",
   "metadata": {},
   "source": [
    "Among these is the reaction \n",
    "\n",
    "$$\\text{CH}_3 + \\text{M} <=> \\text{CH} + \\text{H2} + \\text{M}$$\n",
    "\n",
    "with reverse rate constant of `4.2656e+23`. This is a pretty common reaction, so we can compare to the same reaction from, for example, GRI-30:"
   ]
  },
  {
   "cell_type": "code",
   "execution_count": null,
   "metadata": {},
   "outputs": [],
   "source": [
    "gri = ct.Solution('gri30.cti')\n",
    "for i, r in enumerate(gri.reactions()):\n",
    "    if 'CH3' in r and 'H2' in r and 'CH' in r:\n",
    "        print(i, r)"
   ]
  },
  {
   "cell_type": "markdown",
   "metadata": {},
   "source": [
    "The reaction is #295 from the first mechanism and #288 from GRI-30, so we can calculate the rate of each reaction over a range of temperatures from 300 K to 3000 K and plot them."
   ]
  },
  {
   "cell_type": "code",
   "execution_count": null,
   "metadata": {
    "scrolled": false
   },
   "outputs": [],
   "source": [
    "gasN = ct.SolutionArray(gas, shape=200)\n",
    "griN = ct.SolutionArray(gri, shape=200)\n",
    "T = np.linspace(300, 3000, 200)\n",
    "gasN.TPY = T, 101325, 'N2:1.0'\n",
    "griN.TPY = T, 101325, 'N2:1.0'\n",
    "\n",
    "f,ax = plt.subplots(1, 1)\n",
    "ax.semilogy(1000/T, gasN.forward_rate_constants[:,295], label='mech, forward')\n",
    "ax.semilogy(1000/T, gasN.reverse_rate_constants[:,295], label='mech, reverse')\n",
    "ax.semilogy(1000/T, griN.forward_rate_constants[:,288], '--', label='GRI3.0, forward')\n",
    "ax.semilogy(1000/T, griN.reverse_rate_constants[:,288], '--', label='GRI3.0, reverse')\n",
    "ax.legend(loc='best')\n",
    "ax.grid(True)\n",
    "f.tight_layout()"
   ]
  },
  {
   "cell_type": "markdown",
   "metadata": {},
   "source": [
    "Here, we see that the rate of the reactions is close-ish at high temperature (>1000 K), but as the temperature decreases, they rapidly diverge and differ by 11 orders of magnitude at 300 K. This can cause problems in the integrator for both 0-D and 1-D problems, often accompanied by error messages about \"Repeated recoverable right-hand side errors\""
   ]
  }
 ],
 "metadata": {
  "kernelspec": {
   "display_name": "Python 3",
   "language": "python",
   "name": "python3"
  },
  "language_info": {
   "codemirror_mode": {
    "name": "ipython",
    "version": 3
   },
   "file_extension": ".py",
   "mimetype": "text/x-python",
   "name": "python",
   "nbconvert_exporter": "python",
   "pygments_lexer": "ipython3",
   "version": "3.7.1"
  }
 },
 "nbformat": 4,
 "nbformat_minor": 2
}
