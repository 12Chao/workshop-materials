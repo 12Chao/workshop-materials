{
 "cells": [
  {
   "cell_type": "markdown",
   "metadata": {
    "slideshow": {
     "slide_type": "slide"
    }
   },
   "source": [
    "# Shock and Detonation Toolbox Tutorial\n",
    "\n",
    "2019 US National Combustion Meeting Cantera Workshop  \n",
    "March 24, 2019  \n",
    "\n",
    "Joe Shepherd  \n",
    "Graduate Aerospace Laboratories  \n",
    "California Institute of Technology  \n",
    "Pasadena, CA 91125 USA    \n",
    "\n",
    "<a href=\"mailto:jeshep@caltech.edu\">jeshep@caltech.edu</a>\n",
    "\n",
    "### What is the SDT?\n",
    "The Shock & Detonation Toolbox is an open-source software library that enables the solution of standard problems\n",
    "    for gas-phase explosions using realistic thermochemistry\n",
    "    and detailed chemical kinetics.\n",
    "    The SD Toolbox uses the <a href=\"http://www.cantera.org/\">Cantera</a>\n",
    "    software package and is implemented as routines that can be called from either MATLAB or Python. A set of demonstration programs and a library of contemporary reaction mechanisms and thermodynamic data are provided.  \n",
    "   \n",
    "### How to download\n",
    "The SDT home page is located on the <a href=\"http://shepherd.caltech.edu/EDL/\">Explosion Dynamics Laboratory</a> site under the Public Resources page at http://shepherd.caltech.edu/EDL/PublicResources/sdt/\n",
    "\n",
    "Python and Matlab libraries and demonstration programs can be downloaded as <a href=\"http://shepherd.caltech.edu/EDL/PublicResources/sdt/SDToolbox.zip\">(ZIP)</a> archives.   Installation instructions are available in a <a href=\"http://shepherd.caltech.edu/EDL/PublicResources/sdt/SDToolbox/sdt-install.pdf\">(PDF)</a> file.\n",
    "\n",
    "### Additional resources\n",
    "* Quick reference to SDT functions and demonstation programs <a href=\"http://shepherd.caltech.edu/EDL/PublicResources/sdt/doc/QuickReferenceSDT.pdf\">(PDF)</a> \n",
    "* <a href=\"http://shepherd.caltech.edu/EDL/PublicResources/sdt/cti_mech.html\"> Cantera format (.CTI) data sets </a>\n",
    "* <a href=\"http://shepherd.caltech.edu/EDL/PublicResources/sdt/thermo.html\">  Thermodynamic data sources and software tools </a>\n",
    "\n",
    "\n"
   ]
  },
  {
   "cell_type": "markdown",
   "metadata": {
    "slideshow": {
     "slide_type": "slide"
    }
   },
   "source": [
    "# Toolbox Capabilities"
   ]
  },
  {
   "cell_type": "markdown",
   "metadata": {
    "slideshow": {
     "slide_type": "-"
    }
   },
   "source": [
    "   The SD Toolbox includes numerical routines for the computation of:\n",
    "    <ul>\n",
    "      <li> CJ detonation speed and post-detonation state\n",
    "      <li> Postshock gas state for frozen composition\n",
    "      <li> Postshock gas state for equilibrium composition\n",
    "      <li> Frozen and equilibrium Hugoniot curves\n",
    "      <li> Oblique shock waves, shock-expansion solutions\n",
    "      <li> Shock tube and shock tunnel performance\n",
    "      <li> Constant-volume explosion structure\n",
    "      <li> ZND detonation structure\n",
    "      <li> Effective activation energies and\n",
    "       chemical time scales from detailed reaction mechanisms\n",
    "      <li> Creating and modifying thermodynamic databases.\n",
    "    </ul>\n"
   ]
  },
  {
   "cell_type": "markdown",
   "metadata": {
    "slideshow": {
     "slide_type": "slide"
    }
   },
   "source": [
    "# 2018 Release \n",
    "\n",
    "This is the third update of the SDT since 2007 and is now compatible with Cantera 2.3 and 2.4, Python 3.5 and 3.6 and Matlab R2017b and R2018a.  Python 2.X versions are not available.\n",
    " \n",
    "The SDT interfaces are similar to earlier versions, but the underlying routines have been restructured and the demonstration programs rewritten. Plotting and error control are now more flexible and additional demonstration programs have been added.   Programs that used earlier versions of the Matlab libraries will require some minor coding changes for certain routines.  The Python code base has been completely rewritten.\n",
    "\n",
    "Both Matlab and Python versions of all demonstration programs are now available, in particular  shock and detonation structure programs are available as Python scripts.  The Python and Matlab code structures have been made as similar as possible.   The chemical reaction mechanisms and thermodynamic databases have been updated to reference contemporary reaction data sets.\n",
    "\n",
    "Contributors: S. Browne, J. Ziegler, N. Bitter, B. Schmidt, J. Lawson, \n",
    "J. E. Shepherd "
   ]
  },
  {
   "cell_type": "markdown",
   "metadata": {
    "slideshow": {
     "slide_type": "slide"
    }
   },
   "source": [
    "# Components\n",
    "\n",
    "## Libraries\n",
    "The core Python and Matlab libraries which must be installed in the appropriate systems directories as described in the installation instructions\n",
    "\n",
    "## Demonstration Programs\n",
    "There are over 30 demonstration programs provided that illustrate how to use the libraries to solve various problems.  Both Python 3 and Matlab versions are available.  \n",
    "\n",
    "## Cantera input (.cti) files\n",
    "Reaction mechanism and associated thermodynamic data (.cti files) used by the demonstration programs are provided.\n",
    "\n",
    "## Thermodynamics ultilities\n",
    "Primary sources, references and programs for checking and fitting thermodynamic data are provided.  "
   ]
  },
  {
   "cell_type": "markdown",
   "metadata": {
    "slideshow": {
     "slide_type": "slide"
    }
   },
   "source": [
    "# Fundamental Library Functions\n",
    "\n",
    "Non-reactive shock wave.  \n",
    "\n",
    "    PostShock_fr\n",
    "\n",
    "Reactive shock wave. \n",
    "\n",
    "    PostShock_eq\n",
    "\n",
    "Chapman-Jouguet (CJ) detonation.  \n",
    "\n",
    "    CJSpeed\n",
    "\n",
    "Reflected shock wave.  \n",
    "\n",
    "    reflected_eq and reflected_fr\n",
    "\n",
    "ZND detonation structure. \n",
    "\n",
    "    zndsolve\n",
    "\n",
    "CV explosion structure.  \n",
    "\n",
    "    cvsolve"
   ]
  },
  {
   "cell_type": "markdown",
   "metadata": {
    "slideshow": {
     "slide_type": "slide"
    }
   },
   "source": [
    "# Shock Wave Physics  \n",
    "\n",
    "Transformation from laboratory to wave frame  \n",
    "\n",
    "<img src=\"images/shockframe.png\" width=\"50%\" alt=\"Laboratory and wave frame\"/>   \n",
    "\n",
    "\\begin{align}\n",
    "    \\textrm{w}_1 &= \\textrm{U}_s - \\textrm{u}_1\\\\\n",
    "    \\textrm{w}_2 &= \\textrm{U}_s - \\textrm{u}_2\n",
    "\\end{align}  \n",
    "\n",
    "Conservation or jump equations\n",
    "\n",
    "Mass $$\\rho_1 \\textrm{w}_1 = \\rho_2 \\textrm{w}_2 $$\n",
    "\n",
    "Momentum $$P_1 + \\rho_1 \\textrm{w}^2_1 = P_2 + \\rho_2 \\textrm{w}^2_2 $$\n",
    "\n",
    "Energy $$ h_1 + \\dfrac{\\textrm{w}^2_1}{2} = h_2 + \\dfrac{\\textrm{w}^2_2}{2} $$\n",
    "\n",
    "Entropy  $$ s_2 > s_1 $$  \n",
    "\n",
    "Equation of state  (EoS)\n",
    "\n",
    "$$ h(P, \\rho, Y) \\quad \\textrm{or} \\quad h(T, Y) \\;\\textrm{and} \\;  P(\\rho, T, Y)$$\n",
    "\n",
    "Species mass fractions\n",
    "\n",
    "$$  Y = (Y_1, Y_2, \\dots, Y_k) $$"
   ]
  },
  {
   "cell_type": "markdown",
   "metadata": {
    "slideshow": {
     "slide_type": "slide"
    }
   },
   "source": [
    "# Issues  \n",
    "* Iterative solution required except for simplest EoS models (perfect gas)\n",
    "* Chemical composition of downstream state\n",
    "    * nonreactive,  frozen  $Y$ = constant\n",
    "    * reactive, equilibrium $Y$ = $Y^{eq}(T,P,composition)$\n",
    "    * varies with distance (ZND model)\n",
    "* Limits on solutions for shocks\n",
    "    * upstream state supersonic $\\textrm{w}_1$ $>$ $a_1$\n",
    "    * downstream state subsonic for nonreactive case\n",
    "    * solutions multivalued for reactive case, require $\\textrm{w}_1$ $>$ $\\textrm{w}_{min}$"
   ]
  },
  {
   "cell_type": "markdown",
   "metadata": {
    "slideshow": {
     "slide_type": "slide"
    }
   },
   "source": [
    "# Ideal gas model  \n",
    "\n",
    "The methods in the SDT can be used with any equation of state but the current implmentation is specific to ideal gases.  \n",
    "\n",
    "\\begin{align}\n",
    "    P  &= \\rho RT \\\\\n",
    "    R & = \\dfrac{\\mathcal{R}}{\\overline{W}}\\\\\n",
    "    \\overline{W} & = \\left(\\sum_{i=1}^K \\dfrac{Y_i}{W_i} \\right)^{-1}\\\\\n",
    "    h & = \\sum_{i=1}^K Y_i h_i(T) \\; \\label{eq:h-sum}\\\\\n",
    "    h_i & = \\Delta_f h_i + \\int_{T_\\circ}^T c_{P, i}(T') \\; dT'\n",
    "\\end{align}\n",
    "\n",
    "All quantities are computed from the Cantera gas object using thermodynamic properties in .cti file"
   ]
  },
  {
   "cell_type": "markdown",
   "metadata": {
    "slideshow": {
     "slide_type": "slide"
    }
   },
   "source": [
    "# Graphical Interpretation  \n",
    "Rayleigh Line  \n",
    "\n",
    "\\begin{align}\n",
    " P_2 &= P_1 - \\rho^2_1\\textrm{w}_1^2 \\left(v_2-v_1\\right)\\label{eq:RL} \\\\\n",
    "\\dfrac{P_2 - P_1}{v_2-v_1} = \\dfrac{\\Delta P}{\\Delta v} &= - \\left(\\dfrac{\\textrm{ w}_1}{v_1}\\right)^2 =\n",
    "    - \\left(\\dfrac{\\textrm{w}_2}{v_2}\\right)^2 \\label{eq:Rayleigh-slope}\n",
    "\\end{align}\n",
    "\n",
    "\n",
    "Hugoniot or Shock Adiabat  \n",
    "\n",
    "\\begin{align}\n",
    "    h_2 - h_1 &= (P_2 - P_1)\\dfrac{(v_2 + v_1)}{2}  \\label{eq:RH1}\\\\\n",
    "    e_2 - e_1 & = \\dfrac{(P_2 + P_1)}{2}(v_1 - v_2) \\label{eq:RH2}\n",
    "\\end{align}\n",
    "\n"
   ]
  },
  {
   "cell_type": "markdown",
   "metadata": {
    "slideshow": {
     "slide_type": "slide"
    }
   },
   "source": [
    "# Hugoniot and Rayleigh line  \n",
    "\n",
    "Example: Shock wave in air (frozen),  $U_s$ = 1000 m/s\n",
    "\n",
    "<a href=\"http://shepherd.caltech.edu/EDL/PublicResources/sdt/SDToolbox/Python3/demo/demo_RH_air.py\">demo_RH_air.py</a>   <a href=\"http://shepherd.caltech.edu/EDL/PublicResources/sdt/SDToolbox/MATLAB/Demo/demo_RH_air.m\">demo_RH_air.m</a> \n",
    "\n",
    "<img src=\"images/air-shock-1000.png\"  width=\"50%\" alt=\"P-V diagram, air shock  1000 m/s\"/>"
   ]
  },
  {
   "cell_type": "markdown",
   "metadata": {
    "slideshow": {
     "slide_type": "slide"
    }
   },
   "source": [
    "## Nonreactive Shock waves\n",
    "\n",
    "Matlab: \n",
    "<a href=\"http://shepherd.caltech.edu/EDL/PublicResources/sdt/SDToolbox/MATLAB/SDToolbox/PostShock/PostShock_fr.m\">PostShock_fr.m </a> \n",
    "Python: PostShock_fr in <a href=\"http://shepherd.caltech.edu/EDL/PublicResources/sdt/SDToolbox/Python3/sdtoolbox/postshock.py\">PostShock.py</a> \n",
    "\n",
    "Calculates frozen post-shock state for a specified shock velocity, pressure, temperature,\n",
    "and composition and gas object.\n",
    "\n",
    "FUNCTION SYNTAX:  \n",
    "\n",
    "    [gas] = PostShock_fr(U1,P1,T1,q,mech)  \n",
    "    \n",
    "INPUT:  \n",
    "\n",
    "    U1 = shock speed (m/s)  \n",
    "    P1 = initial pressure (Pa)  \n",
    "    T1 = initial temperature (K)  \n",
    "    q = reactant species mole fractions in one of Cantera's recognized formats  \n",
    "    mech = cti file containing mechanism data (e.g. 'gri30.cti')  \n",
    "    \n",
    "OUTPUT:  \n",
    "\n",
    "    gas = gas object at frozen post-shock state"
   ]
  },
  {
   "cell_type": "markdown",
   "metadata": {
    "slideshow": {
     "slide_type": "slide"
    }
   },
   "source": [
    "## Reactive Shock waves\n",
    "\n",
    "Equilibrium postshock state\n",
    "\n",
    "Matlab: \n",
    "<a href=\"http://shepherd.caltech.edu/EDL/PublicResources/sdt/SDToolbox/MATLAB/SDToolbox/PostShock/PostShock_eq.m\">PostShock_eq.m </a> \n",
    "Python: PostShock_eq in <a href=\"http://shepherd.caltech.edu/EDL/PublicResources/sdt/SDToolbox/Python3/sdtoolbox/postshock.py\">PostShock.py</a> \n",
    "\n",
    "Calculates equilibrium post-shock state for a specified shock velocity, pressure, temperature, and composition and gas object.\n",
    "\n",
    "FUNCTION SYNTAX:  \n",
    "\n",
    "    [gas] = PostShock_eq(U1,P1,T1,q,mech)  \n",
    "    \n",
    "INPUT:  \n",
    "\n",
    "    U1 = shock speed (m/s)  \n",
    "    P1 = initial pressure (Pa)  \n",
    "    T1 = initial temperature (K)  \n",
    "    q = reactant species mole fractions in one of Cantera's recognized formats  \n",
    "    mech = cti file containing mechanism data (e.g. 'gri30.cti')  \n",
    "    \n",
    "OUTPUT:  \n",
    "\n",
    "    gas = gas object at frozen post-shock state"
   ]
  },
  {
   "cell_type": "markdown",
   "metadata": {
    "slideshow": {
     "slide_type": "slide"
    }
   },
   "source": [
    "# Example with endothermic shock  \n",
    "\n",
    "Shock wave in air (frozen vs equilibrium),  $U_s$ < 3500 m/s  \n",
    "<a href=\"http://shepherd.caltech.edu/EDL/PublicResources/sdt/SDToolbox/Python3/demo/demo_RH_air_eq.py\">demo_RH_air_eq.py</a>   <a href=\"http://shepherd.caltech.edu/EDL/PublicResources/sdt/SDToolbox/MATLAB/Demo/demo_RH_air_eq.m\">demo_RH_air_eq.m</a>\n",
    "\n",
    "Uses <a href=\"http://shepherd.caltech.edu/EDL/PublicResources/sdt/cti/airNASA9ions.cti\">airNASA9ions.cti</a> high-temperature thermodynamic data (20,000 K) with molecules, atoms and ions.\n",
    "\n",
    "<img src=\"images/air-shock-3500.png\"  width=\"50%\" alt=\"P-V diagram, air shock  1000 m/s\"/>\n"
   ]
  },
  {
   "cell_type": "markdown",
   "metadata": {
    "slideshow": {
     "slide_type": "slide"
    }
   },
   "source": [
    "# Solution Method \n",
    "The solution method is based on an iterative solution of the jump conditions in the following form:  \n",
    "\n",
    "$$ \\mathcal{H} = \\left(h_2+\\dfrac{1}{2}\\textrm{w}_2^2\\right)\n",
    "    - \\left(h_1+\\dfrac{1}{2}\\textrm{w}_1^2\\right) $$  \n",
    "$$ \\mathcal{P} = \\left(P_2 + \\rho_2\\textrm{w}_2^2\\right) - \\left(P_1 + \\rho_1\\textrm{ w}_1^2\\right)$$  \n",
    "\n",
    "The exact solution to the jump conditions then occurs when both $\\mathcal{H}$ and $\\mathcal{P}$\n",
    "are identically zero.  We can construct an approximate solution by simultaneously iterating these two\n",
    "equations until $\\mathcal{H}$ and $\\mathcal{P}$ are less than a specified tolerance. An iteration algorithm\n",
    "can be developed by considering trial values of $(T, v)$ for the downstream thermodynamic state 2 that are\n",
    "close to but not equal to the exact solution,  $(T_2, v_2)$.  The expansion of $\\mathcal{P}$ and\n",
    "$\\mathcal{H}$ to first order in a Taylor series about the exact solution yields:  \n",
    "\n",
    "$$ \\mathcal{H}(T,v) =  \\mathcal{H}(T_2,v_2) + \\dfrac{\\partial \\mathcal{H}}{\\partial T}(T-T_2) + \\dfrac{\\partial \\mathcal{H}}{\\partial v}(v-v_2) + \\ldots $$\n",
    "\n",
    "$$ \\mathcal{P}(T,v)  = \\mathcal{P}(T_2,v_2) + \\dfrac{\\partial \\mathcal{P}}{\\partial T}(T-T_2) + \\dfrac{\\partial \\mathcal{P}}{\\partial v}(v-v_2) + \\ldots $$"
   ]
  },
  {
   "cell_type": "markdown",
   "metadata": {
    "slideshow": {
     "slide_type": "slide"
    }
   },
   "source": [
    "## Numerical method\n",
    "The solver uses the Newton-Raphson scheme (see Press,et al. Numerical Recipes) with the variables temperature and specific volume.  The scheme  is an extension of the method used by Reynolds (1986) in STANJAN to solve the jump conditions for a Chapman-Jouguet detonation. Truncating the Taylor series expansions, the residuals computation can be represented as the matrix operation  \n",
    "\n",
    "$$\n",
    "\\left(\\begin{array}{c}\n",
    "\\mathcal{H}\\\\\\\n",
    "\\mathcal{P}\n",
    "\\end{array}\\right)\n",
    "= \\left(\\begin{array}{cc} \n",
    "        \\dfrac{\\partial \\mathcal{H}}{\\partial T} & \\dfrac{\\partial \\mathcal{H}}{\\partial v}\\\\\\ \n",
    "        \\dfrac{\\partial \\mathcal{P}}{\\partial T} & \\dfrac{\\partial \\mathcal{P}}{\\partial v} \n",
    "        \\end{array}\\right) \n",
    "\\left(\\begin{array}{c} \n",
    "      \\delta T\\\\\\\n",
    "      \\delta v  \n",
    "    \\end{array}\n",
    "      \\right) $$  \n",
    "      \n",
    "where $\\delta T$ = $T-T_2$ and $\\delta v$ = $v-v_2$.  This equation is used to relate the corrections,\n",
    "$\\delta T$ and $\\delta v$, to the current values of $(T, v)$ and through successive applications, approach the\n",
    "true solution to within a specified error tolerance.  At step $i$, we have values $(T^i, v^i)$ which we use to\n",
    "evaluate $\\mathcal{H}$ and $\\mathcal{P}$ to obtain $\\mathcal{H}^i$ and $\\mathcal{P}^i$; then we solve for $\\delta T^i$ and $\\delta v^i$  and compute the next approximation to the solution as\n",
    "\n",
    "$$\n",
    "\\begin{array}{cc}\n",
    "T^{i+1} &= T^i - \\delta T^i \\\\\\\n",
    "v^{i+1} &= v^i - \\delta v^i\n",
    "\\end{array}\n",
    "$$\n",
    "\n",
    "The corrections can be formally obtained by inverting the Jacobian  \n",
    "\n",
    "$$ J = \\left(\\begin{array}{cc} \\dfrac{\\partial \\mathcal{H}}{\\partial T} & \\dfrac{\\partial \\mathcal{H}}{\\partial v}\\\\\\\n",
    "    \\dfrac{\\partial \\mathcal{P}}{\\partial T} & \\dfrac{\\partial \\mathcal{P}}{\\partial v}\\\\ \\end{array}\\right) $$  \n",
    "    \n",
    "and carrying out the matrix multiplication operation.\n",
    "\n",
    "\\begin{equation} \\left(\\begin{array}{c} \\delta T\\\\\\ \\delta v \\end{array}\\right) = J^{-1} \\left(\\begin{array}{c} \\mathcal{H}\\\\\\ \\mathcal{P} \\end{array}\\right) \\end{equation}  \n",
    "\n",
    "The derivatives needed to form the Jacobian are computed using finite differences. "
   ]
  },
  {
   "cell_type": "markdown",
   "metadata": {
    "slideshow": {
     "slide_type": "slide"
    }
   },
   "source": [
    "# Algorithm  \n",
    "\n",
    "* Define known quantities: Upstream State ($P_1$, $\\rho_1$, $T_1$, $h_1$, $\\textrm{ w}_1$, $\\overline{W}$), $\\mathcal{R}$, error tolerances, increment values ($\\Delta T$, $\\Delta v$)\n",
    "\n",
    "* Seek unknown quantities: Downstream State ($P_2$, $\\rho_2$, $T_2$, $h_2$)\n",
    "\n",
    "* Establish preliminary guess ($i=1$)  \n",
    "\n",
    "\\begin{align}\n",
    "    \\rho^i_2 &= 5\\rho_1\\\\\n",
    "    v^i_2 &= \\dfrac{1}{\\rho^i_2}\\\\\n",
    "    P^i_2 &= P_1 + \\rho_1\\textrm{w}_1^2\\left(1-\\dfrac{\\rho_1}{\\rho^i_2}\\right)\\\\\n",
    "    T^i_2 &= T_1\\dfrac{P_1}{P^i_2}\\dfrac{\\rho_2^i}{\\rho_1}\n",
    "\\end{align}\n",
    "\n",
    "* Evaluate residuals $\\mathcal{H}$ and $\\mathcal{P}$  \n",
    "\n",
    "    * For frozen computations, hold composition of state 2 fixed and equal to state 1.  For equilibrium computations, find equilibrium state 2 for specified initial composition and $(T_2, v_2)$.  \n",
    "    \n",
    "    * Compute $\\mathcal{H}(T_2^i, v_2^i)$ and $\\mathcal{P}(T_2^i, v_2^i)$  \n",
    "\n",
    "    * Perturb temperature holding volume fixed and compute $\\mathcal{H}(T_2^i+\\Delta T)$ and $\\mathcal{P}(T_2^i+\\Delta T)$  \n",
    "\n",
    "    * Perturb specific volume holding temperature fixed and compute $\\mathcal{H}(v_2^i+\\Delta v)$ and $\\mathcal{P}(v_2^i+\\Delta v)$  "
   ]
  },
  {
   "cell_type": "markdown",
   "metadata": {
    "slideshow": {
     "slide_type": "slide"
    }
   },
   "source": [
    "# Alogorithm (continued)\n",
    "\n",
    "* Evaluate the elements of the approximate Jacobian $\\tilde{J}$ by first order differences\n",
    "\n",
    "\\begin{align}\n",
    "\\dfrac{\\partial \\mathcal{H}}{\\partial T} &\\approx \\dfrac{\\mathcal{H}(T_2^i+\\Delta T)-\\mathcal{H}(T_2^i)}{\\Delta T}\\\\\n",
    "\\dfrac{\\partial \\mathcal{P}}{\\partial T} &\\approx \\dfrac{\\mathcal{P}(T_2^i+\\Delta T)-\\mathcal{P}(T_2^i)}{\\Delta T}\\\\\n",
    "\\dfrac{\\partial \\mathcal{H}}{\\partial v} &\\approx \\dfrac{\\mathcal{H}(v_2^i+\\Delta v)-\\mathcal{H}(v_2^i)}{\\Delta v}\\\\\n",
    "\\dfrac{\\partial \\mathcal{P}}{\\partial v} &\\approx \\dfrac{\\mathcal{P}(v_2^i+\\Delta v)-\\mathcal{P}(v_2^i)}{\\Delta v}\n",
    "\\end{align}\n",
    "\n",
    "* Update the post-shock state \n",
    "\n",
    "\\begin{equation} \n",
    "\\left(\\begin{array}{c} T_2\\\\\\  v_2 \\end{array}\\right)^{i+1} =  \\left(\\begin{array}{c} T_2\\\\\\  v_2 \\end{array}\\right)^{i} - \\tilde{J}^{-1} \\left(\\begin{array}{c} \\mathcal{H}\\\\\\ \\mathcal{P} \\end{array}\\right)^i \n",
    "\\end{equation}\n",
    "\n",
    "*  Check convergence\n",
    "\n",
    "\\begin{align*}\n",
    "    |T_2^{i+1}-T_2^i| &< T_{error}\\\\\n",
    "    |v_2^{i+1}-v_2^i| &< v_{error}\n",
    "\\end{align*}"
   ]
  },
  {
   "cell_type": "markdown",
   "metadata": {
    "slideshow": {
     "slide_type": "slide"
    }
   },
   "source": [
    "# Reflected Shock Waves  \n",
    "\n",
    "Frozen:  Matlab: \n",
    "<a href=\"http://shepherd.caltech.edu/EDL/PublicResources/sdt/SDToolbox/MATLAB/SDToolbox/Reflections/reflected_fr.m\">reflected_fr.m </a> \n",
    "Python: reflected_fr in <a href=\"http://shepherd.caltech.edu/EDL/PublicResources/sdt/SDToolbox/Python3/sdtoolbox/reflections.py\">PostShock.py</a> \n",
    "\n",
    "Equilibrium:  Matlab: \n",
    "<a href=\"http://shepherd.caltech.edu/EDL/PublicResources/sdt/SDToolbox/MATLAB/SDToolbox/Reflections/reflected_eq.m\">reflected_eq.m </a> \n",
    "Python: reflected_eq in <a href=\"http://shepherd.caltech.edu/EDL/PublicResources/sdt/SDToolbox/Python3/sdtoolbox/reflections.py\">PostShock.py</a>   \n",
    "\n",
    "\n",
    "<img src=\"images/reflectiondiagram.png\"  width=\"50%\" alt=\"reflection of shock or detonation\"/> \n",
    "\n",
    "Transformation from laboratory frame to shock frame\n",
    "\n",
    "\\begin{align}\n",
    "    \\textrm{w}_2 &= \\textrm{U}_R+\\textrm{u}_2\\\\\n",
    "    \\textrm{w}_3 &= \\textrm{U}_R  \\\\\n",
    "\\end{align}\n",
    " \n",
    "Resulting conservation (jump) equations for reflected shock\n",
    "\n",
    "\\begin{align}\n",
    "  (\\textrm{U}_R+\\textrm{u}_2)\\rho_2 &= \\textrm{U}_R\\,\\rho_3 \\\\\n",
    "    P_2  + \\rho_2 (\\textrm{U}_R+\\textrm{u}_2)^2 &= P_3 + \\rho_3 \\textrm{U}_R^2 \\\\\n",
    "    h_2 + \\dfrac{1}{2} (\\textrm{U}_R+\\textrm{u}_2)^2 &= h_3 + \\dfrac{1}{2} \\textrm{U}_R^2 \\\\\n",
    "    h_3 &= h_3(P_3,\\rho_3, {\\bf Y}_3) \\\\\n",
    "\\end{align}"
   ]
  },
  {
   "cell_type": "markdown",
   "metadata": {
    "slideshow": {
     "slide_type": "subslide"
    }
   },
   "source": [
    "Solution for state 3\n",
    "\n",
    "\\begin{align}\n",
    "\\textrm{U}_R &= \\dfrac{\\textrm{u}_2}{\\dfrac{\\rho_3}{\\rho_2} -1} \\\\\n",
    "P_3 &=  P_2 + \\dfrac{\\rho_3 \\textrm{u}_2^2}{\\dfrac{\\rho_3}{\\rho_2} -1} \\\\\n",
    "h_3 &= h_2 + \\dfrac{\\textrm{ u}_2^2}{2}\\dfrac{\\dfrac{\\rho_3}{\\rho_2}+1}{\\dfrac{\\rho_3}{\\rho_2}-1}\n",
    "\\end{align}"
   ]
  },
  {
   "cell_type": "markdown",
   "metadata": {
    "slideshow": {
     "slide_type": "slide"
    }
   },
   "source": [
    "# Reflection of shock wave  \n",
    "\n",
    "<a href=\"http://shepherd.caltech.edu/EDL/PublicResources/sdt/SDToolbox/Python3/demo/demo_reflected_eq.py\">demo_reflected_eq.py</a>   <a href=\"http://shepherd.caltech.edu/EDL/PublicResources/sdt/SDToolbox/MATLAB/Demo/demo_reflected_eq.m\">demo_reflected_eq.m</a>  \n",
    "\n",
    "Define namespaces and import modules"
   ]
  },
  {
   "cell_type": "code",
   "execution_count": 1,
   "metadata": {
    "slideshow": {
     "slide_type": "fragment"
    }
   },
   "outputs": [],
   "source": [
    "import cantera as ct\n",
    "from sdtoolbox.postshock import PostShock_fr\n",
    "from sdtoolbox.reflections import reflected_fr\n",
    "from sdtoolbox.thermo import soundspeed_fr"
   ]
  },
  {
   "cell_type": "markdown",
   "metadata": {
    "slideshow": {
     "slide_type": "fragment"
    }
   },
   "source": [
    "Define incident state and gas objects for states 1, 2, 3"
   ]
  },
  {
   "cell_type": "code",
   "execution_count": 2,
   "metadata": {
    "slideshow": {
     "slide_type": "fragment"
    }
   },
   "outputs": [],
   "source": [
    "P1 = 100000; T1 = 300; P1atm = P1/ct.one_atm\n",
    "q = 'H2:2 O2:1 N2:3.76' \n",
    "mech = 'Mevel2017.cti'             \n",
    "gas1 = ct.Solution(mech)\n",
    "gas1.TPX = T1, P1, q\n",
    "gas2 = ct.Solution(mech)\n",
    "gas3 = ct.Solution(mech)"
   ]
  },
  {
   "cell_type": "markdown",
   "metadata": {
    "slideshow": {
     "slide_type": "fragment"
    }
   },
   "source": [
    "Set incident shock wave Mach number $M_s > 1$"
   ]
  },
  {
   "cell_type": "code",
   "execution_count": 3,
   "metadata": {
    "slideshow": {
     "slide_type": "fragment"
    }
   },
   "outputs": [
    {
     "name": "stdout",
     "output_type": "stream",
     "text": [
      "Incident shock speed UI = 1226.22 m/s\n"
     ]
    }
   ],
   "source": [
    "a_fr = soundspeed_fr(gas1)\n",
    "UI = 3*a_fr\n",
    "print('Incident shock speed UI = %.2f m/s' % (UI))"
   ]
  },
  {
   "cell_type": "markdown",
   "metadata": {
    "slideshow": {
     "slide_type": "fragment"
    }
   },
   "source": [
    "Compute postshock state behind incident shock"
   ]
  },
  {
   "cell_type": "code",
   "execution_count": 4,
   "metadata": {
    "scrolled": true,
    "slideshow": {
     "slide_type": "fragment"
    }
   },
   "outputs": [
    {
     "name": "stdout",
     "output_type": "stream",
     "text": [
      "Frozen Post-Incident-Shock State\n",
      "T2 = 790.68 K, P2 = 10.28 atm\n"
     ]
    }
   ],
   "source": [
    "gas2 = PostShock_fr(UI, P1, T1, q, mech);\n",
    "P2 = gas2.P/ct.one_atm;\n",
    "\n",
    "print ('Frozen Post-Incident-Shock State')\n",
    "print ('T2 = %.2f K, P2 = %.2f atm' % (gas2.T,P2))\n"
   ]
  },
  {
   "cell_type": "markdown",
   "metadata": {
    "slideshow": {
     "slide_type": "fragment"
    }
   },
   "source": [
    "compute reflected shock post-shock state gas3"
   ]
  },
  {
   "cell_type": "code",
   "execution_count": 5,
   "metadata": {
    "slideshow": {
     "slide_type": "fragment"
    }
   },
   "outputs": [
    {
     "name": "stdout",
     "output_type": "stream",
     "text": [
      "Frozen Post-Reflected-Shock State\n",
      "T3 = 1332.58 K,  P3 = 51.54 atm\n",
      "Reflected Wave Speed = 463.44 m/s\n"
     ]
    }
   ],
   "source": [
    "[p3,UR,gas3]= reflected_fr(gas1,gas2,gas3,UI);\n",
    "P3 = gas3.P/ct.one_atm\n",
    "print ('Frozen Post-Reflected-Shock State')\n",
    "print ('T3 = %.2f K,  P3 = %.2f atm' % (gas3.T,P3))\n",
    "print (\"Reflected Wave Speed = %.2f m/s\" % (UR))"
   ]
  },
  {
   "cell_type": "markdown",
   "metadata": {
    "slideshow": {
     "slide_type": "fragment"
    }
   },
   "source": [
    "For equilibrium post-shock states, procedure is the same, subsitute PostShock_eq, reflected_eq  for frozen routines.  See \n",
    "<a href=\"http://shepherd.caltech.edu/EDL/PublicResources/sdt/SDToolbox/Python3/demo/demo_reflected_fr.py\">demo_reflected_fr.py</a>   <a href=\"http://shepherd.caltech.edu/EDL/PublicResources/sdt/SDToolbox/MATLAB/Demo/demo_reflected_fr.m\">demo_reflected_fr.m</a>  \n",
    "\n",
    "Reflection of detonation waves follows the same procedure, compute incident wave speed with CJspeed, post-CJ state with PostShock_eq.  See\n",
    "<a href=\"http://shepherd.caltech.edu/EDL/PublicResources/sdt/SDToolbox/Python3/demo/demo_CJ_and_shock_state.py\">demo_CJ_and_shock_state.py</a>   <a href=\"http://shepherd.caltech.edu/EDL/PublicResources/sdt/SDToolbox/MATLAB/Demo/demo_CJ_and_shock_state.m\">demo_CJ_and_shock_state.m</a>  \n",
    "\n"
   ]
  },
  {
   "cell_type": "markdown",
   "metadata": {
    "slideshow": {
     "slide_type": "slide"
    }
   },
   "source": [
    "# Exothermic Shock Waves - Detonations  \n",
    "\n",
    "Multivalued solutions to jump conditions, two branches\n",
    "\n",
    "* detonation, supersonic waves, compressed final state\n",
    "* deflagration, subsonic waves, expanded final state\n",
    "\n",
    "<img src=\"images/CJ2b.png\"  width=\"50%\" alt=\"P-V exothermic solutions, detonation and deflagration\"/> \n",
    "\n",
    "Detonation branch has minimum wave speed for solution, $\\textrm{w}_1 > \\textrm{U}_\\textrm{CJ}$\n",
    "\n",
    "<img src=\"images/CJ3a.png\"  width=\"50%\" alt=\"P-V detonation solutions\"/> "
   ]
  },
  {
   "cell_type": "markdown",
   "metadata": {
    "slideshow": {
     "slide_type": "subslide"
    }
   },
   "source": [
    "# Computing CJ speed  \n",
    "\n",
    "<img src=\"images/cj-isentrope.png\"  width=\"50%\" alt=\"detonation solutions with isentropes\"/> \n",
    "<a href=\"http://shepherd.caltech.edu/EDL/PublicResources/sdt/SDToolbox/Python3/demo/demo_RH_CJ_isentropes.py\">demo_RH_CJ_isentropes.py</a>   <a href=\"http://shepherd.caltech.edu/EDL/PublicResources/sdt/SDToolbox/MATLAB/Demo/demo_RH_CJ_isentropes.m\">demo_RH_CJ_isentropes.m</a>\n",
    "\n",
    "Equivalent conditions for CJ condition\n",
    "\n",
    "* Wave speed is a minimum for solutions to exist\n",
    "\n",
    "$$ \\textrm{w}_{1, \\textrm{min}}  = \\textrm{U}_\\textrm{CJ}$$  \n",
    "\n",
    "* Rayleigh line and shock adiabat (Hugoniot) are tangent  \n",
    "\n",
    "$$ \\left.\\dfrac{\\partial P}{\\partial v}\\right|_{\\mathcal{H}, \\textrm{CJ}} =\n",
    "    \\left.\\dfrac{\\Delta P}{\\Delta v}\\right|_\\textrm{CJ} $$  \n",
    "    \n",
    "* Isentropes (equilibrium) are tangent to shock adiabat (Hugoniot)  \n",
    "\n",
    "$$\\left.\\dfrac{\\partial P}{\\partial v}\\right|_{\\mathcal{H}, \\textrm{CJ}} =\n",
    "    \\left.\\dfrac{\\partial P}{\\partial v}\\right|_{s, \\textrm{CJ}} $$ \n",
    "    \n",
    "* Entropy (equilibrium state computation) is local minimum $s_3 > s_2  >  s_1$\n",
    "\n",
    "$$ \\left.\\dfrac{\\partial s}{\\partial v}\\right|_{\\mathcal{H}, \\textrm{CJ}}  = 0 \\quad \\left.\\dfrac{\\partial^2 s}{\\partial v^2}\\right|_{\\mathcal{H}, \\textrm{CJ}} > 0$$\n",
    "\n",
    "* Downstream speed (wave frame) is sonic w.r.t. equilibrium sound speed\n",
    "\n",
    "$$ \\textrm{w}_2 = a_2^{eq} \\qquad  a^{eq}_2 = - v^2 \\left(\\dfrac{\\partial P}{\\partial v }\\right)_{s, eq} $$"
   ]
  },
  {
   "cell_type": "markdown",
   "metadata": {
    "collapsed": true,
    "slideshow": {
     "slide_type": "slide"
    }
   },
   "source": [
    "# Chapman-Jouguet Speed \n",
    "\n",
    "Calculate detonation Chapman-Jouguet (CJ) speed based on the\n",
    "initial gas state and the minimum wave speed method.  Alogrithm computes solutions to equilibrium shock adiabat (Hugoniot) for range of states bracketing CJ point.  Newton-Raphson method is used with variables $(T_2, \\textrm{w}_1)$ to find $\\textrm{w}_1(v_2)$.  The minimum wave speed if found by fitting a parabola to an array of $\\textrm{w}_1$ vs $\\rho_2/\\rho_1$ results and determining the minimum analytically.   Theoretical analyis of CJ point shows this variation in wave speed is quadratic in volume difference from CJ point\n",
    "\n",
    "$$     \\textrm{w}_1 - \\textrm{w}_{1,\\textrm{CJ}} = \\dfrac{\\textrm{w}_{1,\\textrm{CJ}}}{4(P_2-P_1)}P_{2\\mathcal{H},vv}\\left(v_2 - v_{2, \\textrm{CJ}} \\right)^2  $$\n",
    "\n",
    "\n",
    "See \n",
    "<a href=\"http://shepherd.caltech.edu/EDL/PublicResources/sdt/SDToolbox/Python3/demo/demo_CJ.py\">demo_CJ.py</a>   <a href=\"http://shepherd.caltech.edu/EDL/PublicResources/sdt/SDToolbox/MATLAB/Demo/demo_CJ.m\">demo_CJ.m</a>  "
   ]
  },
  {
   "cell_type": "code",
   "execution_count": 6,
   "metadata": {
    "slideshow": {
     "slide_type": "subslide"
    }
   },
   "outputs": [],
   "source": [
    "import cantera as ct\n",
    "from sdtoolbox.postshock import CJspeed\n",
    "from sdtoolbox.utilities import CJspeed_plot"
   ]
  },
  {
   "cell_type": "markdown",
   "metadata": {
    "slideshow": {
     "slide_type": "subslide"
    }
   },
   "source": [
    "## Initial state specification:\n",
    "$P_1$ = Initial Pressure  \n",
    "$T_1$ = Initial Temperature  \n",
    "$U$ = Shock Speed  \n",
    "$q$ = Initial Composition  \n",
    "mech = Cantera mechanism File name "
   ]
  },
  {
   "cell_type": "code",
   "execution_count": 7,
   "metadata": {
    "slideshow": {
     "slide_type": "subslide"
    }
   },
   "outputs": [],
   "source": [
    "P1 = 100000 \n",
    "P1atm = P1/ct.one_atm\n",
    "T1 = 300\n",
    "U = 2000\n",
    "q = 'H2:2 O2:1 N2:3.76'\n",
    "mech = 'Mevel2017.cti'\n",
    "gas = ct.Solution(mech)"
   ]
  },
  {
   "cell_type": "markdown",
   "metadata": {
    "slideshow": {
     "slide_type": "subslide"
    }
   },
   "source": [
    "## Compute CJ speed"
   ]
  },
  {
   "cell_type": "code",
   "execution_count": 8,
   "metadata": {
    "slideshow": {
     "slide_type": "subslide"
    }
   },
   "outputs": [],
   "source": [
    "[cj_speed,R2,plot_data] = CJspeed(P1, T1, q, mech, fullOutput=True)\n",
    "dratio_cj = plot_data[2]"
   ]
  },
  {
   "cell_type": "markdown",
   "metadata": {
    "slideshow": {
     "slide_type": "subslide"
    }
   },
   "source": [
    "## Outputs:\n",
    " cj_speed - detonation speed  \n",
    " R2 - R-squared value of wave speed - density fit \n",
    " plot_data - further values relating to the fit procedure "
   ]
  },
  {
   "cell_type": "code",
   "execution_count": 9,
   "metadata": {
    "scrolled": true,
    "slideshow": {
     "slide_type": "subslide"
    }
   },
   "outputs": [
    {
     "name": "stdout",
     "output_type": "stream",
     "text": [
      "CJ computation for Mevel2017.cti with composition H2:2 O2:1 N2:3.76\n",
      "CJ speed 1967.8455 (m/s) Density ratio 1.8042 R-squared 0.99999991\n"
     ]
    }
   ],
   "source": [
    "print('CJ computation for '+mech+' with composition '+q)\n",
    "print('CJ speed '+str(round(cj_speed,4))+' (m/s)'+' Density ratio '+str(round(dratio_cj,4))+' R-squared '+str(round(R2,8)))"
   ]
  },
  {
   "cell_type": "markdown",
   "metadata": {
    "slideshow": {
     "slide_type": "subslide"
    }
   },
   "source": [
    "## diagnostic plots \n"
   ]
  },
  {
   "cell_type": "code",
   "execution_count": 10,
   "metadata": {
    "scrolled": false,
    "slideshow": {
     "slide_type": "subslide"
    }
   },
   "outputs": [
    {
     "data": {
      "image/png": "[encoded data removed]",
      "text/plain": [
       "<Figure size 432x288 with 1 Axes>"
      ]
     },
     "metadata": {
      "needs_background": "light"
     },
     "output_type": "display_data"
    },
    {
     "data": {
      "image/png": "[encoded data removed]",
      "text/plain": [
       "<Figure size 432x288 with 1 Axes>"
      ]
     },
     "metadata": {
      "needs_background": "light"
     },
     "output_type": "display_data"
    }
   ],
   "source": [
    "CJspeed_plot(plot_data,cj_speed)"
   ]
  },
  {
   "cell_type": "markdown",
   "metadata": {
    "slideshow": {
     "slide_type": "slide"
    }
   },
   "source": [
    "# Detonation modeling \n",
    "\n",
    "The conventional model of unsteady detonation is by the Euler equations\n",
    "\n",
    "\\begin{align}\n",
    "\\dfrac{\\partial}{\\partial t}\\rho + \\nabla \\cdot (\\rho {\\bf u})%\n",
    "&=0\\label{unsteady_mass_eqn}\\\\\n",
    "\\dfrac{\\partial}{\\partial t}(\\rho {\\bf u}) + \\nabla\\cdot(\\rho{\\bf u}\\otimes {\\bf u}\n",
    "+ {\\bf I}P)%\n",
    "&=0 \\label{unsteady_mom_eqn}\\\\\n",
    "\\dfrac{\\partial}{\\partial t}\\rho (e + \\dfrac{|{\\bf u}|^2}{2})%\n",
    "+ \\nabla\\cdot\\rho{\\bf u}(h + \\dfrac{|{\\bf u}|^2}{2}) &=0\\label{unsteady_energy_eqn}\\\\\n",
    "\\dfrac{\\partial}{\\partial t}(\\rho Y_k) + \\nabla \\cdot (\\rho {\\bf u} Y_k) &=%\n",
    "\\mathcal{W}_k\\dot{\\omega}_k \\qquad (k=1,\\dots, K) \n",
    "\\end{align}\n",
    "\n",
    "In terms of the material derivative, \n",
    "\n",
    "$$\\dfrac{\\textrm{D} }{\\textrm{D} t} = {\\partial/\\partial t} + {\\bf u}\\cdot\\nabla $$  \n",
    "\n",
    "these are:  \n",
    "\n",
    "\\begin{align}\n",
    "\\dfrac{\\textrm{D} \\rho}{\\textrm{D} t} &= -\\rho \\nabla\\cdot{\\bf u}\\\\\n",
    "\\dfrac{\\textrm{D} {\\bf u}}{t} &= -\\dfrac{1}{\\rho} \\nabla P\\\\\n",
    "\\dfrac{\\textrm{D} h }{\\textrm{D} t} &= \\dfrac{1}{\\rho} \\dfrac{\\textrm{D} P}{\\textrm{D} t}\\\\\n",
    "\\dfrac{\\textrm{D}  Y_k}{\\textrm{D} t} &= {1\\over\\rho} \\mathcal{W}_k\\dot{\\omega}_k\\qquad (k=1,\\dots, K)\n",
    "\\end{align}  "
   ]
  },
  {
   "cell_type": "markdown",
   "metadata": {
    "slideshow": {
     "slide_type": "slide"
    }
   },
   "source": [
    "# ZND Model\n",
    "\n",
    "The ZND model considers a motion that is one-dimensional and steady in the wave frame.    \n",
    "\n",
    "$$ \\dfrac{\\partial }{\\partial t } = 0 \\; \\textrm{and} \\;  \\nabla = \\dfrac{\\textrm{d} }{\\textrm{d} x} \\; \\rightarrow \\dfrac{\\textrm{D} }{\\textrm{D} t} = \\textrm{w}\\dfrac{\\textrm{d} }{\\textrm{d} x}  =  \\dfrac{\\textrm{d} }{\\textrm{d} t} $$  \n",
    "\n",
    "Defining themicity\n",
    "\n",
    "$$   \\dot{\\sigma} =  \\sum_{k=1}^K \\left( \\dfrac{W}{{W}_k}\n",
    "  - \\dfrac{h_k}{c_p T}  \\right) \\dfrac{\\textrm{d}Y_k}{\\textrm{d} t}$$\n",
    "\n",
    "and the sonic parameter (based on the frozen sound speed $a_{fr}$)\n",
    "\n",
    "$$ \\eta = 1 - \\textrm{w}^2/a_{fr}^2  = 1 - M_2^2$$\n",
    "\n",
    "the resulting model can be rewritten in terms of a set of ordinary differential equations  (ODEs)\n",
    "\n",
    "\\begin{align}\n",
    "\\dfrac{\\textrm{d} P}{\\textrm{d} t} & = -\\rho \\textrm{w}^2\\dfrac{\\dot{\\sigma}}{{\\eta}}\\\\\n",
    "\\dfrac{\\textrm{d}\\rho}{\\textrm{d} t} &= -\\rho \\dfrac{\\dot{\\sigma}}{\\eta}\\\\\n",
    "\\dfrac{\\textrm{d}\\textrm{w}}{\\textrm{d} t} &= w \\dfrac{\\dot{\\sigma}}{\\eta}\\\\\n",
    "\\dfrac{\\textrm{d}Y_k}{\\textrm{d} t} &= \\dfrac{W_k \\dot{\\omega}_k}{\\rho} \\qquad (k=1,\\dots, K)\n",
    "\\end{align}  \n"
   ]
  },
  {
   "cell_type": "markdown",
   "metadata": {
    "slideshow": {
     "slide_type": "slide"
    }
   },
   "source": [
    "# ZND model equivalence\n",
    "\n",
    "The ZND model is equivalent to steady flow in a constant area, adiabatic flow.  The differential equation formulation is mathematically equivalent to the differential-algebraic equation (DAE) set conserving mass, momentum and energy using the jump conditions as each point in the downstream flow\n",
    "\n",
    "\\begin{align}\n",
    "\\rho \\textrm{w} & = \\rho_1 w_1 \\\\\n",
    "P + \\rho \\textrm{w}^2  & = P_1 + \\rho_1 \\textrm{w}_1^2 \\\\\n",
    "h + \\dfrac{1}{2}\\textrm{w}^2 & = h_1 + \\dfrac{1}{2}\\textrm{w}_1^2\n",
    "\\end{align}  \n",
    "\n",
    "and computing the change in chemical composition with distance downstream from the shock.  \n",
    "\n",
    "$$ \\textrm{w}\\dfrac{\\textrm{d}Y_k}{x} = \\dfrac{W_k \\dot{\\omega}_k}{\\rho} \\qquad (k=1,\\dots, K) $$\n",
    "Following a parcel of gas downstream from the shock the distance traveled and time elapsed are related by integrating distance along the stream line.\n",
    "\n",
    "$$\\dfrac{\\textrm{d} x}{\\textrm{d} t}  = \\textrm{w}$$"
   ]
  },
  {
   "cell_type": "markdown",
   "metadata": {
    "slideshow": {
     "slide_type": "slide"
    }
   },
   "source": [
    "# Initial conditions for ZND model  \n",
    "\n",
    "The initial conditions for a znd computation have to be consistent with a compressible one-dimensional flow.  The standard way to insure this is to solve the frozen (non-reactive) shock jump conditions with specified upstream state $(P, \\rho, \\textrm{w}, {\\bf Y})_1$.   The state downstream of the shock is $(P, \\rho, \\textrm{w}, {\\bf Y})_2$, will be the initial conditions for starting the ODE or DAE solution.  In detonation modeling the state 2 is referred as the von Neumann  (vN) condition and the ZND solution is computed as follows for a CJ detonation:\n",
    "\n",
    "* Define initial state  $(P, \\rho, \\textrm{w}, {\\bf Y})_1$ of fuel-oxidizer-diluent mixture\n",
    "* Compute CJ shock speed $\\textrm{U}_\\textrm{CJ}$  using CJspeed function\n",
    "* Compute frozen postshock conditions corresponding to a nonreactive shock wave with $\\textrm{w}$ = $\\textrm{U}_\\textrm{CJ}$\n",
    "* Evaluate gas properties from gas object corresponding to postshock state 2 returned by PostShock_fr\n",
    "* Integrate from state 2 toward state 3\n",
    "* Solutions that extend to state 3 are only possible for certain exothermic cases  \n"
   ]
  },
  {
   "cell_type": "markdown",
   "metadata": {
    "slideshow": {
     "slide_type": "subslide"
    }
   },
   "source": [
    "* CJ detonations $\\textrm{w}_1$ = $\\textrm{U}_\\textrm{CJ}$  \n",
    "<img src=\"images/zndpath.png\"  width=\"50%\" alt=\"Hugoniots and Rayleigh line for CJ case\"/>\n",
    "\n",
    "<a href=\"http://shepherd.caltech.edu/EDL/PublicResources/sdt/SDToolbox/Python3/demo/demo_RH.py\">demo_RH.py</a>   <a href=\"http://shepherd.caltech.edu/EDL/PublicResources/sdt/SDToolbox/MATLAB/Demo/demo_RH.m\">demo_RH.m</a>  \n",
    "\n"
   ]
  },
  {
   "cell_type": "markdown",
   "metadata": {
    "slideshow": {
     "slide_type": "subslide"
    }
   },
   "source": [
    "* Overdriven detonations  $w_1$ $>$ $\\textrm{U}_\\textrm{CJ}$\n",
    "<img src=\"images/zndpath2.png\"  width=\"50%\" alt=\"Hugoniots and Rayleigh line for CJ case\"/> \n",
    "* Exothermic cases may be singular if $\\eta$ $\\rightarrow$ 0 in the interior of the domain unless  $\\dot{\\sigma}$ vanishes simultaneously - known as an eigenvalue detonation.    Usually occurs when $w_1$ $<$ $\\textrm{U}_\\textrm{CJ}$ and in certain cases for CJ detonations, see Fickett and Davis, Detonation or Lee, The Detonation Phenomenon. \n",
    "* Endothermic cases are not ordinarily singular"
   ]
  },
  {
   "cell_type": "markdown",
   "metadata": {
    "slideshow": {
     "slide_type": "slide"
    }
   },
   "source": [
    "# ZND Example\n",
    "\n",
    "See \n",
    "<a href=\"http://shepherd.caltech.edu/EDL/PublicResources/sdt/SDToolbox/Python3/demo/demo_CJ.py\">demo_ZNDCJ.py</a>   <a href=\"http://shepherd.caltech.edu/EDL/PublicResources/sdt/SDToolbox/MATLAB/Demo/demo_CJ.m\">demo_ZNDCJ.m</a>  "
   ]
  },
  {
   "cell_type": "code",
   "execution_count": 11,
   "metadata": {
    "slideshow": {
     "slide_type": "subslide"
    }
   },
   "outputs": [
    {
     "data": {
      "image/png": "[encoded data removed]",
      "text/plain": [
       "<Figure size 432x288 with 1 Axes>"
      ]
     },
     "metadata": {
      "needs_background": "light"
     },
     "output_type": "display_data"
    },
    {
     "data": {
      "image/png": "[encoded data removed]",
      "text/plain": [
       "<Figure size 432x288 with 1 Axes>"
      ]
     },
     "metadata": {
      "needs_background": "light"
     },
     "output_type": "display_data"
    },
    {
     "data": {
      "image/png": "[encoded data removed]",
      "text/plain": [
       "<Figure size 432x288 with 1 Axes>"
      ]
     },
     "metadata": {
      "needs_background": "light"
     },
     "output_type": "display_data"
    },
    {
     "data": {
      "image/png": "[encoded data removed]",
      "text/plain": [
       "<Figure size 432x288 with 1 Axes>"
      ]
     },
     "metadata": {
      "needs_background": "light"
     },
     "output_type": "display_data"
    },
    {
     "data": {
      "image/png": "[encoded data removed]",
      "text/plain": [
       "<Figure size 432x288 with 1 Axes>"
      ]
     },
     "metadata": {
      "needs_background": "light"
     },
     "output_type": "display_data"
    },
    {
     "data": {
      "image/png": "[encoded data removed]",
      "text/plain": [
       "<Figure size 432x288 with 1 Axes>"
      ]
     },
     "metadata": {
      "needs_background": "light"
     },
     "output_type": "display_data"
    },
    {
     "data": {
      "image/png": "[encoded data removed]",
      "text/plain": [
       "<Figure size 432x288 with 1 Axes>"
      ]
     },
     "metadata": {
      "needs_background": "light"
     },
     "output_type": "display_data"
    },
    {
     "data": {
      "image/png": "[encoded data removed]",
      "text/plain": [
       "<Figure size 432x288 with 1 Axes>"
      ]
     },
     "metadata": {
      "needs_background": "light"
     },
     "output_type": "display_data"
    },
    {
     "name": "stdout",
     "output_type": "stream",
     "text": [
      "Reaction zone pulse width (exothermic length) = 4.383e-05 m\n",
      "Reaction zone induction length = 0.0001444 m\n",
      "Reaction zone pulse time (exothermic time) = 8.516e-08 s\n",
      "Reaction zone induction time = 3.811e-07 s\n"
     ]
    }
   ],
   "source": [
    "from sdtoolbox.postshock import CJspeed, PostShock_fr\n",
    "from sdtoolbox.znd import zndsolve\n",
    "from sdtoolbox.utilities import CJspeed_plot, znd_plot, znd_fileout\n",
    "import cantera as ct\n",
    "\n",
    "P1 = 100000 \n",
    "T1 = 300\n",
    "q = 'H2:2 O2:1 N2:3.76'\n",
    "mech = 'Mevel2017.cti'\n",
    "file_name = 'h2air'\n",
    "\n",
    "# Find CJ speed and related data, make CJ diagnostic plots\n",
    "cj_speed,R2,plot_data = CJspeed(P1,T1,q,mech,fullOutput=True)\n",
    "CJspeed_plot(plot_data,cj_speed)\n",
    "\n",
    "# Set up gas object\n",
    "gas1 = ct.Solution(mech)\n",
    "gas1.TPX = T1,P1,q\n",
    "\n",
    "# Find post shock state for given speed\n",
    "gas = PostShock_fr(cj_speed, P1, T1, q, mech)\n",
    "\n",
    "# Solve ZND ODEs, make ZND plots\n",
    "znd_out = zndsolve(gas,gas1,cj_speed,t_end=1e-5,advanced_output=True)\n",
    "znd_plot(znd_out,maxx=0.001,\n",
    "         major_species=['H2', 'O2', 'H2O'],\n",
    "         minor_species=['H', 'O', 'OH', 'H2O2', 'HO2'])\n",
    "         \n",
    "print('Reaction zone pulse width (exothermic length) = %.4g m' % znd_out['exo_len_ZND'])\n",
    "print('Reaction zone induction length = %.4g m' % znd_out['ind_len_ZND'])\n",
    "print('Reaction zone pulse time (exothermic time) = %.4g s' % znd_out['exo_time_ZND'])\n",
    "print('Reaction zone induction time = %.4g s' % znd_out['ind_time_ZND'])\n"
   ]
  },
  {
   "cell_type": "markdown",
   "metadata": {
    "slideshow": {
     "slide_type": "slide"
    }
   },
   "source": [
    "# Applications\n",
    "\n",
    "The reaction mechanisms and thermodynamic data needed to run the demonstration programs are included with the zip archive as .cti files or can be downloaded individually from the SDT website\n",
    "\n",
    "* <a href=\"http://shepherd.caltech.edu/EDL/PublicResources/sdt/SDToolbox/Python3/demo/demo_CJ.py\">demo_CJ.py</a> <a href=\"http://shepherd.caltech.edu/EDL/PublicResources/sdt/SDToolbox/MATLAB/Demo/demo_CJ.m\">demo_CJ.m</a> Computes CJ speed.\n",
    "\n",
    "* <a href=\"http://shepherd.caltech.edu/EDL/PublicResources/sdt/SDToolbox/Python3/demo/demo_CJ_and_shock_state.py\">demo_CJ_and_shock_state.py</a>  <a href=\"http://shepherd.caltech.edu/EDL/PublicResources/sdt/SDToolbox/MATLAB/Demo/demo_CJ_and_shock_state.m\">demo_CJ_and_shock_state.m</a>  Computes 2 reflection conditions.\n",
    "    * equilibrium post-initial-shock state behind a shock traveling at CJ speed (CJ state) followed by equilibrium post-reflected-shock state\n",
    "    * frozen post-initial-shock state behind a CJ wave followed by frozen                                 post-reflected-shock state\n",
    "\n",
    "* <a href=\"http://shepherd.caltech.edu/EDL/PublicResources/sdt/SDToolbox/Python3/demo/demo_CJstate.py\">demo_CJstate.py</a>  <a href=\"http://shepherd.caltech.edu/EDL/PublicResources/sdt/SDToolbox/MATLAB/Demo/demo_CJstate.m\">demo_CJstate.m</a>  Computes CJ speed and CJ state.\n",
    "\n",
    "* <a href=\"http://shepherd.caltech.edu/EDL/PublicResources/sdt/SDToolbox/Python3/demo/demo_CJstate_isentrope.py\">demo_CJstate_isentrope.py</a> <a href=\"http://shepherd.caltech.edu/EDL/PublicResources/sdt/SDToolbox/MATLAB/Demo/demo_CJstate_isentrope.m\">demo_CJstate_isentrope.m</a> Computes CJ speed, CJ state, isentropic expansion in 1-D Taylor wave, plateau state conditions.\n",
    "\n",
    "* <a href=\"http://shepherd.caltech.edu/EDL/PublicResources/sdt/SDToolbox/Python3/demo/demo_cv_comp.py\">demo_cv_comp.py</a>  <a href=\"http://shepherd.caltech.edu/EDL/PublicResources/sdt/SDToolbox/MATLAB/Demo/demo_cv_comp.m\">demo_cv_comp.m</a>  Generates plots and output files for a constant volume  explosion simulation where the initial conditions are adiabaically compressed reactants.\n",
    "\n",
    "* <a href=\"http://shepherd.caltech.edu/EDL/PublicResources/sdt/SDToolbox/Python3/demo/demo_cvCJ.py\">demo_cvCJ.py</a>  <a href=\"http://shepherd.caltech.edu/EDL/PublicResources/sdt/SDToolbox/MATLAB/Demo/demo_cvCJ.m\">demo_cvCJ.m</a>  Generates plots and output files for a constant volume  explosion simulation where the initial conditions are given by the postshock conditions for a CJ speed shock wave.\n",
    "\n",
    "* <a href=\"http://shepherd.caltech.edu/EDL/PublicResources/sdt/SDToolbox/Python3/demo/demo_cvshk.py\">demo_cvshk.py</a>  <a href=\"http://shepherd.caltech.edu/EDL/PublicResources/sdt/SDToolbox/MATLAB/Demo/demo_cvshk.m\">demo_cvshk.m</a>  Generates plots and output files for a constant volume  explosion simulation where the initial conditions are given by the postshock conditions for shock wave traveling at a user specified speed.\n",
    "\n",
    "*  <a href=\"http://shepherd.caltech.edu/EDL/PublicResources/sdt/SDToolbox/Python3/demo/demo_detonation_pu.py\">demo_detonation_pu.py</a>    <a href=\"http://shepherd.caltech.edu/EDL/PublicResources/sdt/SDToolbox/MATLAB/Demo/demo_detonation_pu.m\">demo_detonation_pu.m</a>    Computes the Hugoniot and pressure-velocity $(P-U)$ relationship for shock waves centered on the CJ state. Generates an output file.\n",
    "\n",
    "* <a href=\"http://shepherd.caltech.edu/EDL/PublicResources/sdt/SDToolbox/Python3/demo/demo_equil.py\">demo_equil.py</a>     <a href=\"http://shepherd.caltech.edu/EDL/PublicResources/sdt/SDToolbox/MATLAB/Demo/demo_equil.m\">demo_equil.m</a>    Computes the equilibrium state at constant $(T,P)$ over a range of temperature for a fixed pressure and plots composition.\n",
    "\n",
    "* <a href=\"http://shepherd.caltech.edu/EDL/PublicResources/sdt/SDToolbox/Python3/demo/demo_EquivalenceRatioSeries.py\">demo_EquivalenceRatioSeries.py</a>  <a href=\"http://shepherd.caltech.edu/EDL/PublicResources/sdt/SDToolbox/MATLAB/Demo/demo_EquivalenceRatioSeries.m\">demo_EquivalenceRatioSeries.m</a> - An example of how to vary the equivalence ratio over a specified range and for each resulting composition, compute constant volume explosion and ZND detonation structure.  This example creates a set of plots and an output file.\n",
    "\n",
    "* <a href=\"http://shepherd.caltech.edu/EDL/PublicResources/sdt/SDToolbox/Python3/demo/demo_exp_state.py\">demo_exp_state.py</a>  <a href=\"http://shepherd.caltech.edu/EDL/PublicResources/sdt/SDToolbox/MATLAB/Demo/demo_exp_state.m\">demo_exp_state.m</a> Calculates mixture properties for explosion states (UV,HP, TP).\n",
    "\n",
    "*  <a href=\"http://shepherd.caltech.edu/EDL/PublicResources/sdt/SDToolbox/Python3/demo/demo_ExplosionSeries.py\">demo_ExplosionSeries.py</a>   <a href=\"http://shepherd.caltech.edu/EDL/PublicResources/sdt/SDToolbox/MATLAB/Demo/demo_ExplosionSeries.m\">demo_ExplosionSeries.m</a>   How to compute                                       basic explosion parameters as a functionof concentration of one component for                                       given mixture.  Creates plots and output file.\n",
    "\n",
    "* <a href=\"http://shepherd.caltech.edu/EDL/PublicResources/sdt/SDToolbox/Python3/demo/demo_g.py\">demo_g.py</a>  <a href=\"http://shepherd.caltech.edu/EDL/PublicResources/sdt/SDToolbox/MATLAB/Demo/demo_g.m\">demo_g.m</a> Compares methods of computing ratio of specific heats and logarithmic isentrope slope using several approaches and compares the results graphically.\n",
    "\n",
    "\n"
   ]
  },
  {
   "cell_type": "markdown",
   "metadata": {
    "slideshow": {
     "slide_type": "subslide"
    }
   },
   "source": [
    "* <a href=\"http://shepherd.caltech.edu/EDL/PublicResources/sdt/SDToolbox/Python3/demo/demo_GasPropAll.py\">demo_GasPropAll.py</a>  <a href=\"http://shepherd.caltech.edu/EDL/PublicResources/sdt/SDToolbox/MATLAB/Demo/demo_GasPropAll.m\">demo_GasPropAll.m</a> Mixture thermodynamic and transport properties of gases at fixed pressure as a function of temperature. Edit to choose either frozen or equilibrium composition state.  The mechanism file must contain transport parameters\n",
    "for each species and specify the transport model 'Mix'.\n",
    "\n",
    "* <a href=\"http://shepherd.caltech.edu/EDL/PublicResources/sdt/SDToolbox/Python3/demo/demo_oblique.py\">demo_oblique.py</a> <a href=\"http://shepherd.caltech.edu/EDL/PublicResources/sdt/SDToolbox/MATLAB/Demo/demo_oblique.m\">demo_oblique.m</a> Calculates shock polar using  FROZEN post-shock state  based the initial gas properties and the shock speed.  Plots shock polar\n",
    " using three different sets of coordinates.\n",
    "\n",
    "* <a href=\"http://shepherd.caltech.edu/EDL/PublicResources/sdt/SDToolbox/Python3/demo/demo_overdriven.py\">demo_overdriven.py</a>   <a href=\"http://shepherd.caltech.edu/EDL/PublicResources/sdt/SDToolbox/MATLAB/Demo/demo_overdriven.m\">demo_overdriven.m</a>  Computes\n",
    "detonation and reflected shock wave pressure for overdriven waves. Both the post-initial-shock and the post-reflected-shock states are equilibrium states. Creates output file.\n",
    "\n",
    "* <a href=\"http://shepherd.caltech.edu/EDL/PublicResources/sdt/SDToolbox/Python3/demo/demo_OverdriveSeries.py\">demo_OverdriveSeries.py</a>   <a href=\"http://shepherd.caltech.edu/EDL/PublicResources/sdt/SDToolbox/MATLAB/Demo/demo_OverdriveSeries.m\">demo_OverdriveSeries.m</a>  This is a demonstration of how to vary the Overdrive ($U/U_{CJ})$) in a loop for constant volume explosions and ZND detonation\n",
    "    simulations.\n",
    "\n",
    "* <a href=\"http://shepherd.caltech.edu/EDL/PublicResources/sdt/SDToolbox/Python3/demo/demo_PrandtlMeyer.py\">demo_PrandtlMeyer.py</a>  <a href=\"http://shepherd.caltech.edu/EDL/PublicResources/sdt/SDToolbox/MATLAB/Demo/demo_PrandtlMeyer.m\">demo_PrandtlMeyer.m</a> Calculates Prandtl-Meyer function and polar.  Creates plots of polars.\n",
    "\n",
    "*  <a href=\"http://shepherd.caltech.edu/EDL/PublicResources/sdt/SDToolbox/Python3/demo/demo_PrandtlMeyer_CJ.py\">demo_PrandtlMeyer_CJ.py</a> <a href=\"http://shepherd.caltech.edu/EDL/PublicResources/sdt/SDToolbox/MATLAB/Demo/demo_PrandtlMeyer_CJ.m\">demo_PrandtlMeyer_CJ.m</a> Calculates Prandtl-Meyer function and polar expanded from CJ state.  Creates plots of polars and fluid element trajectories.\n",
    "\n",
    "* <a href=\"http://shepherd.caltech.edu/EDL/PublicResources/sdt/SDToolbox/Python3/demo/demo_PrandtlMeyerDetn.py\">demo_PrandtlMeyerDetn.py</a>  <a href=\"http://shepherd.caltech.edu/EDL/PublicResources/sdt/SDToolbox/MATLAB/Demo/demo_PrandtlMeyerDetn.m\">demo_PrandtlMeyerDetn.m</a> Calculates Prandtl-Meyer function and polar  originating from CJ state. Calculates oblique shock wave moving into\n",
    "   expanded detonation products or a specified bounding atmosphere.  Creates a set of plots, evaluates axial flow model for rotating detonation engine.\n",
    "\n",
    "* <a href=\"http://shepherd.caltech.edu/EDL/PublicResources/sdt/SDToolbox/Python3/demo/demo_PrandtlMeyerLayer.py\">demo_PrandtlMeyerLayer.py</a>\n",
    "<a href=\"http://shepherd.caltech.edu/EDL/PublicResources/sdt/SDToolbox/MATLAB/Demo/demo_PrandtlMeyerLayer.m\">demo_PrandtlMeyerLayer.m</a>\n",
    "Calculates Prandtl-Meyer function and polar originating from lower layer\n",
    "postshock state. Calculates oblique shock wave moving into expanded\n",
    "detonation products or a specified bounding atmosphere.  Two-layer version\n",
    "with arbitrary flow in lower layer (1), oblique wave in upper layer (2).\n",
    "Upper and lower layers can have various compositions as set by user.\n",
    "\n",
    "* <a href=\"http://shepherd.caltech.edu/EDL/PublicResources/sdt/SDToolbox/Python3/demo/demo_precompression_detonation.py\">demo_precompression_detonation.py</a> <a href=\"http://shepherd.caltech.edu/EDL/PublicResources/sdt/SDToolbox/MATLAB/Demo/demo_precompression_detonation.m\">demo_precompression_detonation.m</a> Computes detonation and reflected shock  wave pressure for overdriven waves. Varies density of initial state and detonation wave speed. Creates an output file.\n",
    "\n",
    "*  <a href=\"http://shepherd.caltech.edu/EDL/PublicResources/sdt/SDToolbox/Python3/demo/demo_PressureSeries.py\">demo_PressureSeries.py</a>\n",
    "<a href=\"http://shepherd.caltech.edu/EDL/PublicResources/sdt/SDToolbox/MATLAB/Demo/demo_PressureSeries.m\">demo_PressureSeries.m</a>\n",
    "Properties computed as a function of initial pressure for a constant volume explosions and ZND detonation simulations Creates a set of plots and an output file.\n",
    "\n",
    "* <a href=\"http://shepherd.caltech.edu/EDL/PublicResources/sdt/SDToolbox/Python3/demo/demo_PSeq.py\">demo_PSeq.py</a> <a href=\"http://shepherd.caltech.edu/EDL/PublicResources/sdt/SDToolbox/MATLAB/Demo/demo_PSeq.m\">demo_PSeq.m</a> Calculates the equilibrium post shock state based on the initial gas state and the shock speed.\n",
    "\n",
    "* <a href=\"http://shepherd.caltech.edu/EDL/PublicResources/sdt/SDToolbox/Python3/demo/demo_PSfr.py\">demo_PSfr.py</a> <a href=\"http://shepherd.caltech.edu/EDL/PublicResources/sdt/SDToolbox/MATLAB/Demo/demo_PSfr.m\">demo_PSfr.m</a> Calculates the frozen postshock state based on the initial gas state and the shock speed.\n"
   ]
  },
  {
   "cell_type": "markdown",
   "metadata": {
    "slideshow": {
     "slide_type": "subslide"
    }
   },
   "source": [
    "\n",
    "* <a href=\"http://shepherd.caltech.edu/EDL/PublicResources/sdt/SDToolbox/Python3/demo/demo_quasi1d_eq.py\">demo_quasi1d_eq.py</a> <a href=\"http://shepherd.caltech.edu/EDL/PublicResources/sdt/SDToolbox/MATLAB/Demo/demo_quasi1d_eq.m\">demo_quasi1d_eq.m</a> Computes ideal quasi-one dimensional flow using equilibrium properties to determine exit conditions for expansion to a specified pressure.  Carries out computation for a range of helium dilutions.\n",
    "\n",
    "* <a href=\"http://shepherd.caltech.edu/EDL/PublicResources/sdt/SDToolbox/Python3/demo/demo_reflected_eq.py\">demo_reflected_eq.py</a> <a href=\"http://shepherd.caltech.edu/EDL/PublicResources/sdt/SDToolbox/MATLAB/Demo/demo_reflected_eq.m\">demo_reflected_eq.m</a> Calculates post-relected-shock state for a specified shock speed speed and a specified initial mixture.  In this demo, both shocks are reactive, i.e. the computed states behind both the incident and reflected shocks are equilibrium states.\n",
    "\n",
    "* <a href=\"http://shepherd.caltech.edu/EDL/PublicResources/sdt/SDToolbox/Python3/demo/demo_reflected_fr.py\">demo_reflected_fr.py</a> <a href=\"http://shepherd.caltech.edu/EDL/PublicResources/sdt/SDToolbox/MATLAB/Demo/demo_reflected_fr.m\">demo_reflected_fr.m</a> Calculates post-relected-shock state for a specified shock speed speed and a specified initial mixture.  In this demo, both shocks are frozen, i.e. there is no composition change across the incident and reflected shocks.\n",
    "\n",
    "* <a href=\"http://shepherd.caltech.edu/EDL/PublicResources/sdt/SDToolbox/Python3/demo/demo_RH.py\">demo_RH.py</a>  <a href=\"http://shepherd.caltech.edu/EDL/PublicResources/sdt/SDToolbox/MATLAB/Demo/demo_RH.m\">demo_RH.m</a> Creates arrays for Rayleigh Line\n",
    "with specified shock speed, Reactant, and Product Hugoniot Curves for H$_2$-air mixture.  Options to creates output file and plots.\n",
    "\n",
    "* <a href=\"http://shepherd.caltech.edu/EDL/PublicResources/sdt/SDToolbox/Python3/demo/demo_RH_air.py\">demo_RH_air.py</a>  <a href=\"http://shepherd.caltech.edu/EDL/PublicResources/sdt/SDToolbox/MATLAB/Demo/demo_RH_air.m\">demo_RH_air.m</a> Creates arrays for\n",
    "Rayleigh Line with specified shock speed and frozen Hugoniot Curve for a\n",
    "shock wave in air.  Options to create output file and plot.\n",
    "\n",
    "* <a href=\"http://shepherd.caltech.edu/EDL/PublicResources/sdt/SDToolbox/Python3/demo/demo_RH_air_eq.py\">demo_RH_air_eq.py</a>    <a href=\"http://shepherd.caltech.edu/EDL/PublicResources/sdt/SDToolbox/MATLAB/Demo/demo_RH_air_eq.m\">demo_RH_air_eq.m</a>   Creates arrays\n",
    "for Rayleigh Line with specified shock speed in air, frozen and equilibrium Hugoniot curves. Options to create output file and plot.\n",
    "\n",
    "* <a href=\"http://shepherd.caltech.edu/EDL/PublicResources/sdt/SDToolbox/Python3/demo/demo_RH_air_isentropes.py\">demo_RH_air_isentropes.py</a>\n",
    "<a href=\"http://shepherd.caltech.edu/EDL/PublicResources/sdt/SDToolbox/MATLAB/Demo/demo_RH_air_isentropes.m\">demo_RH_air_isentropes.m</a>\n",
    "Creates arrays for frozen Hugoniot curve for shock wave in air, Rayleigh Line with specified shock speed, and four representative isentropes.  Options to create plot and output file.\n",
    "\n",
    "* <a href=\"http://shepherd.caltech.edu/EDL/PublicResources/sdt/SDToolbox/Python3/demo/demo_RH_CJ_isentropes.py\">demo_RH_CJ_isentropes.py</a>\n",
    " <a href=\"http://shepherd.caltech.edu/EDL/PublicResources/sdt/SDToolbox/MATLAB/Demo/demo_RH_CJ_isentropes.m\">demo_RH_CJ_isentropes.m</a>\n",
    "Creates plot for equilibrium product Hugoniot curve near CJ point, Shows\n",
    "Rayleigh Line with slope $U_{CJ}$ and four isentropes bracketing CJ point. Creates plot showing Gruneisen coefficient, denominator in Jouguet's rule, isentrope\n",
    "slope.\n",
    "\n",
    "* <a href=\"http://shepherd.caltech.edu/EDL/PublicResources/sdt/SDToolbox/Python3/demo/demo_rocket_impulse.py\">demo_rocket_impulse.py</a>   <a href=\"http://shepherd.caltech.edu/EDL/PublicResources/sdt/SDToolbox/MATLAB/Demo/demo_rocket_impulse.m\">demo_rocket_impulse.m</a>  Computes rocket performance using quasi-one dimensional isentropic flow using  both frozen and equilibrium properties for a range of helium dilutions in a hydrogen-oxygen mixture.  Plots impulse as a function of dilution.\n",
    "\n",
    "* <a href=\"http://shepherd.caltech.edu/EDL/PublicResources/sdt/SDToolbox/Python3/demo/demo_RZshock.py\">demo_RZshock.py</a>  <a href=\"http://shepherd.caltech.edu/EDL/PublicResources/sdt/SDToolbox/MATLAB/Demo/demo_RZshock.m\">demo_RZshock.m</a> Generate plots and output files for a reaction zone behind a shock front traveling at a user specified speed.\n",
    "\n",
    "* <a href=\"http://shepherd.caltech.edu/EDL/PublicResources/sdt/SDToolbox/Python3/demo/demo_shock_adiabat.py\">demo_shock_adiabat.py</a>    <a href=\"http://shepherd.caltech.edu/EDL/PublicResources/sdt/SDToolbox/MATLAB/Demo/demo_shock_adiabat.m\">demo_shock_adiabat.m</a>   Generates the points on a frozen shock adiabat and creates an output file.\n"
   ]
  },
  {
   "cell_type": "markdown",
   "metadata": {
    "slideshow": {
     "slide_type": "subslide"
    }
   },
   "source": [
    "\n",
    "*  <a href=\"http://shepherd.caltech.edu/EDL/PublicResources/sdt/SDToolbox/Python3/demo/demo_shock_point.py\">demo_shock_point.py</a>   <a href=\"http://shepherd.caltech.edu/EDL/PublicResources/sdt/SDToolbox/MATLAB/Demo/demo_shock_point.m\">demo_shock_point.m</a>   This is a demonstration of how to compute frozen and equilibrium postshock  conditions for a single shock Mach number. Computes transport properties and thermodynamic states.\n",
    "\n",
    "* <a href=\"http://shepherd.caltech.edu/EDL/PublicResources/sdt/SDToolbox/Python3/demo/demo_shock_state_isentrope.py\">demo_shock_state_isentrope.py</a>   <a href=\"http://shepherd.caltech.edu/EDL/PublicResources/sdt/SDToolbox/MATLAB/Demo/demo_shock_state_isentrope.m\">demo_shock_state_isentrope.m</a>  Computes frozen post-shock state and isentropic expansion for specified shock speed.  Create plots and output file.\n",
    "\n",
    "    * <a href=\"http://shepherd.caltech.edu/EDL/PublicResources/sdt/SDToolbox/Python3/demo/demo_ShockTube.py\">demo_ShockTube.py</a>   <a href=\"http://shepherd.caltech.edu/EDL/PublicResources/sdt/SDToolbox/MATLAB/Demo/demo_ShockTube.m\">demo_ShockTube.m</a>   Calculates the solution to ideal shock tube problem. Three cases possible:\n",
    "    * conventional nonreactive driver (gas),\n",
    "    * constant volume combustion driver (uv),\n",
    "    * CJ detonation (initiate at diaphragm) driver (cj).\n",
    "\n",
    "*  <a href=\"http://shepherd.caltech.edu/EDL/PublicResources/sdt/SDToolbox/Python3/demo/demo_STGshk.py\">demo_STGshk.py</a> <a href=\"http://shepherd.caltech.edu/EDL/PublicResources/sdt/SDToolbox/MATLAB/Demo/demo_STGshk.m\">demo_STGshk.m</a> Generate plots and output files for a steady reaction zone between a shock and a blunt body using the model of linear profile of mass flux $\\rho u$ on stagnation streamline.\n",
    "\n",
    "* <a href=\"http://shepherd.caltech.edu/EDL/PublicResources/sdt/SDToolbox/Python3/demo/demo_STG_RZ.py\">demo_STG_RZ.py</a>  <a href=\"http://shepherd.caltech.edu/EDL/PublicResources/sdt/SDToolbox/MATLAB/Demo/demo_STG_RZ.m\">demo_STG_RZ.m</a> Compare propagating shock and stagnation point profiles using transformation methodology of Hornung.\n",
    "\n",
    "*  <a href=\"http://shepherd.caltech.edu/EDL/PublicResources/sdt/SDToolbox/Python3/demo/demo_TP.py\">demo_TP.py</a> <a href=\"http://shepherd.caltech.edu/EDL/PublicResources/sdt/SDToolbox/MATLAB/Demo/demo_TP.m\">demo_TP.m</a> Explosion computation simulating constant temperature and pressure reaction.  Reguires function \\texttt{tpsys.m</a> for ODE solver\n",
    "\n",
    "* <a href=\"http://shepherd.caltech.edu/EDL/PublicResources/sdt/SDToolbox/Python3/demo/demo_TransientCompression.py\">demo_TransientCompression.py</a>  <a href=\"http://shepherd.caltech.edu/EDL/PublicResources/sdt/SDToolbox/MATLAB/Demo/demo_TransientCompression.m\">demo_TransientCompression.m</a> Explosion computation simulating adiabatic compression ignition with\n",
    " control volume approach and effective piston used for compression.\n",
    " Requires $\\textrm{adiasys.m}$  function for ODE solver.\n",
    "\n",
    "*  <a href=\"http://shepherd.caltech.edu/EDL/PublicResources/sdt/SDToolbox/MATLAB/Demo/demo_vN_state.m\">demo_vN_state.m</a> Calculates the frozen shock (vN = von Neumann) state of the gas behind the leading shock wave in a CJ detonation.\n",
    "\n",
    "*  <a href=\"http://shepherd.caltech.edu/EDL/PublicResources/sdt/SDToolbox/Python3/demo/demo_vN_state.py\">demo_vN_state.py</a> <a href=\"http://shepherd.caltech.edu/EDL/PublicResources/sdt/SDToolbox/MATLAB/Demo/demo_ZNDCJ.m\">demo_ZNDCJ.m</a> Solves ODEs for ZND model of detonation structure.  Generate plots and output files for a for a shock front traveling at the CJ speed.\n",
    "\n",
    "* <a href=\"http://shepherd.caltech.edu/EDL/PublicResources/sdt/SDToolbox/Python3/demo/demo_ZNDCJ.py\">demo_ZNDCJ.py</a>  <a href=\"http://shepherd.caltech.edu/EDL/PublicResources/sdt/SDToolbox/MATLAB/Demo/demo_ZNDshk.m\">demo_ZNDshk.m</a> Solves ODEs for ZND model of detonation structure. Generate plots and output files for a for a shock front traveling at a user specified speed $U$.\n",
    "\n",
    "* <a href=\"http://shepherd.caltech.edu/EDL/PublicResources/sdt/SDToolbox/Python3/demo/demo_ZNDshk.py\">demo_ZNDshk.py</a>  <a href=\"http://shepherd.caltech.edu/EDL/PublicResources/sdt/SDToolbox/MATLAB/Demo/demo_ZND_CJ_cell.m\">demo_ZND_CJ_cell.m</a>  Computes ZND and CV models of detonation with the shock front\n",
    " traveling at the CJ speed.  Evaluates various measures of the reaction\n",
    " zone thickness and exothermic pulse width, effective activation energy\n",
    " and Ng stability parameter.  Estimates cell size using three correlation methods: Westbrook; Gavrikov et al; and Ng et al.\n"
   ]
  },
  {
   "cell_type": "markdown",
   "metadata": {
    "slideshow": {
     "slide_type": "slide"
    }
   },
   "source": [
    "# Shock and Detonation Toolbox Resources\n",
    "\n",
    "\n",
    "## SDT home page \n",
    "The SDT home page is located on the <a href=\"http://shepherd.caltech.edu/EDL/\">Explosion Dynamics Laboratory</a> site under the Public Resources page at http://shepherd.caltech.edu/EDL/PublicResources/sdt/\n",
    "\n",
    "## Downloads\n",
    "Python and Matlab libraries and demonstration programs can be downloaded as <a href=\"http://shepherd.caltech.edu/EDL/PublicResources/sdt/SDToolbox.zip\">(ZIP)</a> archives.   Installation instructions are available in a <a href=\"http://shepherd.caltech.edu/EDL/PublicResources/sdt/SDToolbox/sdt-install.pdf\">(PDF)</a> file.\n",
    "\n",
    "## Quick reference\n",
    "Quick reference to SDT functions and demonstation programs <a href=\"http://shepherd.caltech.edu/EDL/PublicResources/sdt/doc/QuickReferenceSDT.pdf\">(PDF)</a> \n",
    "\n",
    "## Reaction mechanisms \n",
    "* <a href=\"http://shepherd.caltech.edu/EDL/PublicResources/sdt/cti_mech.html\"> Cantera format (.CTI) data sets </a>\n",
    "\n",
    "## Thermodynamic data and tools\n",
    "* <a href=\"http://shepherd.caltech.edu/EDL/PublicResources/sdt/thermo.html\">  Thermodynamic data sources and software tools </a>\n",
    "\n"
   ]
  }
 ],
 "metadata": {
  "celltoolbar": "Slideshow",
  "kernelspec": {
   "display_name": "Python 3",
   "language": "python",
   "name": "python3"
  },
  "language_info": {
   "codemirror_mode": {
    "name": "ipython",
    "version": 3
   },
   "file_extension": ".py",
   "mimetype": "text/x-python",
   "name": "python",
   "nbconvert_exporter": "python",
   "pygments_lexer": "ipython3",
   "version": "3.7.1"
  }
 },
 "nbformat": 4,
 "nbformat_minor": 2
}
