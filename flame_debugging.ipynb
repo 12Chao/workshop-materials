{
 "cells": [
  {
   "cell_type": "markdown",
   "metadata": {},
   "source": [
    "# Debugging 1D solver failures\n",
    "\n",
    "This notebook shows an example where the 1D solver fails, and demonstrates the use of callbacks to diagnose the failure modes.\n",
    "This example is adapted from the bug report at https://github.com/Cantera/cantera/issues/384."
   ]
  },
  {
   "cell_type": "code",
   "execution_count": null,
   "metadata": {},
   "outputs": [],
   "source": [
    "import cantera as ct\n",
    "import numpy as np\n",
    "\n",
    "%matplotlib notebook\n",
    "import matplotlib.pyplot as plt\n",
    "plt.rcParams['figure.constrained_layout.use'] = True\n",
    "\n",
    "print(f\"Running Cantera version {ct.__version__}\")"
   ]
  },
  {
   "cell_type": "markdown",
   "metadata": {},
   "source": [
    "### parameter values"
   ]
  },
  {
   "cell_type": "code",
   "execution_count": null,
   "metadata": {},
   "outputs": [],
   "source": [
    "p = 50 * ct.one_atm  # pressure\n",
    "tburner = 300.0  # burner temperature\n",
    "mdot = 0.22  # kg/m^2/s\n",
    "width = 0.05  # m"
   ]
  },
  {
   "cell_type": "markdown",
   "metadata": {},
   "source": [
    "### Set up the problem"
   ]
  },
  {
   "cell_type": "code",
   "execution_count": null,
   "metadata": {},
   "outputs": [],
   "source": [
    "gas = ct.Solution('h2o2.cti')\n",
    "\n",
    "# set state to that of the unburned gas at the burner\n",
    "gas.set_equivalence_ratio(0.4, 'H2', 'O2:1.0, AR:4')\n",
    "gas.TP = tburner, p\n",
    "\n",
    "sim = ct.BurnerFlame(gas=gas, width=width)\n",
    "sim.burner.mdot = mdot\n",
    "sim.set_refine_criteria(ratio=3, slope=0.1, curve=0.2, prune=0)"
   ]
  },
  {
   "cell_type": "markdown",
   "metadata": {},
   "source": [
    "### Try to solve it..."
   ]
  },
  {
   "cell_type": "code",
   "execution_count": null,
   "metadata": {},
   "outputs": [],
   "source": [
    "sim.solve(loglevel=1, auto=False)"
   ]
  },
  {
   "cell_type": "markdown",
   "metadata": {},
   "source": [
    "### That didn't work...what went wrong?\n",
    "* We can see that the solver failed because it was taking too many timesteps without those timesteps increasing in size, as would normally be expected.\n",
    "* Add a callback function to collect data after each timestep\n",
    "* We are only interested in the timesteps leading up to the final, failed solution attempt, but we don't know when that will occur.\n",
    "* Use the `time_step` callback to collect data after each timestep, no matter what.\n",
    "* Use the `steady` callback to clear data after a successful solve "
   ]
  },
  {
   "cell_type": "code",
   "execution_count": null,
   "metadata": {},
   "outputs": [],
   "source": [
    "# variables used to capture data within the callback functions\n",
    "grid = []\n",
    "TT = []\n",
    "YY = []\n",
    "UU = []\n",
    "\n",
    "# Callback function must take one argument, even if we don't use it\n",
    "def time_step_callback(_):\n",
    "    grid[:] = sim.grid\n",
    "    TT.append(sim.T)\n",
    "    YY.append(sim.Y[gas.species_index('O2')])\n",
    "    UU.append(sim.u)\n",
    "    return 0  # Callback function must return a number\n",
    "\n",
    "def steady_callback(_):\n",
    "    TT.clear()\n",
    "    YY.clear()\n",
    "    UU.clear()\n",
    "    return 0\n",
    "\n",
    "# Recreate the flame object and attach the callback functions\n",
    "gas.set_equivalence_ratio(0.4, 'H2', 'O2:1.0, AR:4')\n",
    "gas.TP = tburner, p\n",
    "sim = ct.BurnerFlame(gas=gas, width=width)\n",
    "sim.burner.mdot = mdot\n",
    "sim.set_refine_criteria(ratio=3, slope=0.1, curve=0.2, prune=0)\n",
    "\n",
    "sim.set_time_step_callback(time_step_callback)\n",
    "sim.set_steady_callback(steady_callback)"
   ]
  },
  {
   "cell_type": "markdown",
   "metadata": {},
   "source": [
    "### Attempt to solve the flame again\n",
    "Wrap the call to `solve` in a `try`/`except` block, since we are expecting it to fail"
   ]
  },
  {
   "cell_type": "code",
   "execution_count": null,
   "metadata": {},
   "outputs": [],
   "source": [
    "try:\n",
    "    sim.solve(loglevel=0, auto=False)\n",
    "except ct.CanteraError as e:\n",
    "    print(e)\n",
    "    sim.show_stats()"
   ]
  },
  {
   "cell_type": "markdown",
   "metadata": {},
   "source": [
    "## Convert saved data to 2D arrays"
   ]
  },
  {
   "cell_type": "code",
   "execution_count": null,
   "metadata": {},
   "outputs": [],
   "source": [
    "T = np.array(TT)\n",
    "Y = np.array(YY)\n",
    "U = np.array(UU)"
   ]
  },
  {
   "cell_type": "markdown",
   "metadata": {},
   "source": [
    "## Plot profiles\n"
   ]
  },
  {
   "cell_type": "code",
   "execution_count": null,
   "metadata": {
    "scrolled": false
   },
   "outputs": [],
   "source": [
    "f,ax = plt.subplots(1, 1, figsize=(5,4))\n",
    "# Plot the last N profiles\n",
    "N = 50  \n",
    "# Use a sequential color map so we can tell which lines belong to which timestep\n",
    "C = plt.cm.viridis(np.linspace(0, 1, N))\n",
    "for i in range(N):\n",
    "    ax.plot(grid, T[len(T)-N+i], '.-', color=C[i])\n",
    "ax.set_xlim(0, 0.002);"
   ]
  },
  {
   "cell_type": "markdown",
   "metadata": {},
   "source": [
    "### Let's look at what's happening as a function of time"
   ]
  },
  {
   "cell_type": "code",
   "execution_count": null,
   "metadata": {},
   "outputs": [],
   "source": [
    "f,ax = plt.subplots(1, 3, figsize=(9, 3.5))\n",
    "ax[0].plot(T[:,1])\n",
    "ax[1].plot(Y[:,1])\n",
    "ax[2].plot(U[:,1])\n",
    "ax[0].set_title('Temperature at $j=1$')\n",
    "ax[1].set_title('$Y_{O_2}$ at $j=1$')\n",
    "ax[2].set_title('velocity at $j=1$');"
   ]
  },
  {
   "cell_type": "code",
   "execution_count": null,
   "metadata": {},
   "outputs": [],
   "source": []
  }
 ],
 "metadata": {
  "kernelspec": {
   "display_name": "Python 3",
   "language": "python",
   "name": "python3"
  },
  "language_info": {
   "codemirror_mode": {
    "name": "ipython",
    "version": 3
   },
   "file_extension": ".py",
   "mimetype": "text/x-python",
   "name": "python",
   "nbconvert_exporter": "python",
   "pygments_lexer": "ipython3",
   "version": "3.7.2"
  }
 },
 "nbformat": 4,
 "nbformat_minor": 2
}
