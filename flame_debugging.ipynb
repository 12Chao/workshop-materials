{
 "cells": [
  {
   "cell_type": "markdown",
   "metadata": {},
   "source": [
    "# Debugging 1D solver failures\n",
    "\n",
    "This notebook shows an example where the 1D solver fails, and demonstrates the use of callbacks to diagnose the failure modes.\n",
    "This example is adapted from the bug report at https://github.com/Cantera/cantera/issues/384."
   ]
  },
  {
   "cell_type": "code",
   "execution_count": 1,
   "metadata": {},
   "outputs": [
    {
     "name": "stdout",
     "output_type": "stream",
     "text": [
      "Running Cantera version 2.4.0\n"
     ]
    }
   ],
   "source": [
    "import cantera as ct\n",
    "import numpy as np\n",
    "import matplotlib.pyplot as plt\n",
    "%matplotlib notebook\n",
    "print(f\"Running Cantera version {ct.__version__}\")\n",
    "plt.rcParams['figure.constrained_layout.use'] = True"
   ]
  },
  {
   "cell_type": "markdown",
   "metadata": {},
   "source": [
    "### parameter values"
   ]
  },
  {
   "cell_type": "code",
   "execution_count": 2,
   "metadata": {},
   "outputs": [],
   "source": [
    "p = 50 * ct.one_atm  # pressure\n",
    "tburner = 300.0  # burner temperature\n",
    "mdot = 0.22  # kg/m^2/s\n",
    "width = 0.05  # m"
   ]
  },
  {
   "cell_type": "markdown",
   "metadata": {},
   "source": [
    "### Set up the problem"
   ]
  },
  {
   "cell_type": "code",
   "execution_count": 3,
   "metadata": {},
   "outputs": [],
   "source": [
    "gas = ct.Solution('h2o2.cti')\n",
    "\n",
    "# set state to that of the unburned gas at the burner\n",
    "gas.set_equivalence_ratio(0.4, 'H2', 'O2:1.0, AR:4')\n",
    "gas.TP = tburner, p\n",
    "\n",
    "sim = ct.BurnerFlame(gas=gas, width=width)\n",
    "sim.burner.mdot = mdot\n",
    "sim.set_refine_criteria(ratio=3, slope=0.1, curve=0.2, prune=0)"
   ]
  },
  {
   "cell_type": "markdown",
   "metadata": {},
   "source": [
    "### Try to solve it..."
   ]
  },
  {
   "cell_type": "code",
   "execution_count": 4,
   "metadata": {},
   "outputs": [
    {
     "name": "stdout",
     "output_type": "stream",
     "text": [
      "\n",
      "..............................................................................\n",
      "Attempt Newton solution of steady-state problem...    failure. \n",
      "Take 10 timesteps     6.007e-06      3.742\n",
      "Attempt Newton solution of steady-state problem...    failure. \n",
      "Take 10 timesteps     0.0002309      3.011\n",
      "Attempt Newton solution of steady-state problem...    success.\n",
      "\n",
      "Problem solved on [7] point grid(s).\n",
      "\n",
      "..............................................................................\n",
      "##############################################################################\n",
      "Refining grid in flame.\n",
      "    New points inserted after grid points 0 1 2 \n",
      "    to resolve AR H2 H2O H2O2 HO2 O O2 OH T u \n",
      "##############################################################################\n",
      "\n",
      "..............................................................................\n",
      "Attempt Newton solution of steady-state problem...    failure. \n",
      "Take 10 timesteps     7.594e-05      3.711\n",
      "Attempt Newton solution of steady-state problem...    success.\n",
      "\n",
      "Problem solved on [10] point grid(s).\n",
      "\n",
      "..............................................................................\n",
      "##############################################################################\n",
      "Refining grid in flame.\n",
      "    New points inserted after grid points 0 1 2 3 6 \n",
      "    to resolve AR H2 H2O H2O2 HO2 O O2 OH T point 6 u \n",
      "##############################################################################\n",
      "\n",
      "..............................................................................\n",
      "Attempt Newton solution of steady-state problem...    failure. \n",
      "Take 10 timesteps     0.0001139      4.053\n",
      "Attempt Newton solution of steady-state problem...    success.\n",
      "\n",
      "Problem solved on [15] point grid(s).\n",
      "\n",
      "..............................................................................\n",
      "##############################################################################\n",
      "Refining grid in flame.\n",
      "    New points inserted after grid points 0 1 2 3 4 5 \n",
      "    to resolve AR H2 H2O H2O2 HO2 O O2 OH T u \n",
      "##############################################################################\n",
      "\n",
      "..............................................................................\n",
      "Attempt Newton solution of steady-state problem...    failure. \n",
      "Take 10 timesteps     0.0001139      4.397\n",
      "Attempt Newton solution of steady-state problem...    failure. \n",
      "Take 10 timesteps      0.002919       3.95\n",
      "Attempt Newton solution of steady-state problem...    success.\n",
      "\n",
      "Problem solved on [21] point grid(s).\n",
      "\n",
      "..............................................................................\n",
      "##############################################################################\n",
      "Refining grid in flame.\n",
      "    New points inserted after grid points 4 5 6 7 8 9 \n",
      "    to resolve AR H2 H2O H2O2 HO2 O O2 OH T u \n",
      "##############################################################################\n",
      "\n",
      "..............................................................................\n",
      "Attempt Newton solution of steady-state problem...    failure. \n",
      "Take 10 timesteps     0.0001709      4.802\n",
      "Attempt Newton solution of steady-state problem...    failure. \n",
      "Take 10 timesteps       0.00146      4.529\n",
      "Attempt Newton solution of steady-state problem...    failure. \n",
      "Take 10 timesteps      0.007389      3.828\n",
      "Attempt Newton solution of steady-state problem...    failure. \n",
      "Take 10 timesteps      0.001559      4.483\n",
      "Attempt Newton solution of steady-state problem...    failure. \n",
      "Take 10 timesteps      0.002219      4.429\n",
      "Attempt Newton solution of steady-state problem...    failure. \n",
      "Take 10 timesteps      0.002809      4.309\n",
      "Attempt Newton solution of steady-state problem...    failure. \n",
      "Take 10 timesteps     0.0005925      5.096\n",
      "Attempt Newton solution of steady-state problem...    failure. \n",
      "Take 10 timesteps      0.004499      4.234\n",
      "Attempt Newton solution of steady-state problem...    failure. \n",
      "Take 10 timesteps     0.0002669      5.612\n",
      "Attempt Newton solution of steady-state problem...    failure. \n",
      "Take 10 timesteps      0.002027      4.539\n",
      "Attempt Newton solution of steady-state problem...    failure. \n",
      "Take 10 timesteps     0.0002706      5.408\n",
      "Attempt Newton solution of steady-state problem...    failure. \n",
      "Take 10 timesteps     0.0004566      5.321\n",
      "Attempt Newton solution of steady-state problem...    failure. \n",
      "Take 10 timesteps        0.0026      4.662\n",
      "Attempt Newton solution of steady-state problem...    failure. \n",
      "Take 10 timesteps     0.0001828       5.56\n",
      "Attempt Newton solution of steady-state problem...    failure. \n",
      "Take 10 timesteps     0.0009256      4.844\n",
      "Attempt Newton solution of steady-state problem...    failure. \n",
      "Take 10 timesteps     0.0002471      5.426\n",
      "Attempt Newton solution of steady-state problem...    failure. \n",
      "Take 10 timesteps     0.0002085      5.811\n",
      "Attempt Newton solution of steady-state problem...    failure. \n",
      "Take 10 timesteps     0.0007037      4.912\n",
      "Attempt Newton solution of steady-state problem...    failure. \n",
      "Take 10 timesteps     0.0002969      5.726\n",
      "Attempt Newton solution of steady-state problem...    failure. \n",
      "Take 10 timesteps     0.0006679      5.318\n",
      "Attempt Newton solution of steady-state problem...    failure. \n",
      "Take 10 timesteps      0.002254      4.495\n",
      "Attempt Newton solution of steady-state problem...    failure. \n",
      "Take 10 timesteps     0.0001783      6.073\n",
      "Attempt Newton solution of steady-state problem...    failure. \n",
      "Take 10 timesteps     0.0006018      5.327\n",
      "Attempt Newton solution of steady-state problem...    failure. \n",
      "Take 10 timesteps     0.0006771      4.698\n",
      "Attempt Newton solution of steady-state problem...    failure. \n",
      "Take 10 timesteps      0.003428       4.35\n",
      "Attempt Newton solution of steady-state problem...    failure. \n",
      "Take 10 timesteps     0.0001525      5.977\n",
      "Attempt Newton solution of steady-state problem...    failure. \n",
      "Take 10 timesteps      0.001158      5.254\n",
      "Attempt Newton solution of steady-state problem...    failure. \n",
      "Take 10 timesteps      0.002606      4.537\n",
      "Attempt Newton solution of steady-state problem...    failure. \n",
      "Take 10 timesteps      0.005863      3.981\n",
      "Attempt Newton solution of steady-state problem...    failure. \n",
      "Take 10 timesteps       0.01319      3.541\n",
      "Attempt Newton solution of steady-state problem...    failure. \n",
      "Take 10 timesteps       0.02968      3.248\n",
      "Attempt Newton solution of steady-state problem...    failure. \n",
      "Take 10 timesteps       0.06678      2.819\n",
      "Attempt Newton solution of steady-state problem...    failure. \n",
      "Take 10 timesteps        0.5071      1.834\n",
      "Attempt Newton solution of steady-state problem...    success.\n",
      "\n",
      "Problem solved on [27] point grid(s).\n",
      "\n",
      "..............................................................................\n",
      "##############################################################################\n",
      "Refining grid in flame.\n",
      "    New points inserted after grid points 0 1 2 3 \n",
      "    to resolve AR H2 H2O H2O2 HO2 O O2 OH T u \n",
      "##############################################################################\n",
      "\n",
      "..............................................................................\n",
      "Attempt Newton solution of steady-state problem...    failure. \n",
      "Take 10 timesteps     0.0002563      4.065\n",
      "Attempt Newton solution of steady-state problem...    failure. \n",
      "Take 10 timesteps      0.001946      4.364\n",
      "Attempt Newton solution of steady-state problem...    success.\n",
      "\n",
      "Problem solved on [31] point grid(s).\n",
      "\n",
      "..............................................................................\n",
      "##############################################################################\n",
      "Refining grid in flame.\n",
      "    New points inserted after grid points 0 1 2 3 4 \n",
      "    to resolve AR H2 H2O H2O2 HO2 O O2 OH T u \n",
      "##############################################################################\n",
      "\n",
      "..............................................................................\n",
      "Attempt Newton solution of steady-state problem...    failure. \n",
      "Take 10 timesteps     0.0001709      5.071\n",
      "Attempt Newton solution of steady-state problem...    failure. \n",
      "Take 10 timesteps      0.001946      4.134\n",
      "Attempt Newton solution of steady-state problem...    failure. \n",
      "Take 10 timesteps      0.006568      3.779\n",
      "Attempt Newton solution of steady-state problem...    failure. \n",
      "Take 10 timesteps       0.05611      2.753\n",
      "Attempt Newton solution of steady-state problem...    failure. \n",
      "Take 10 timesteps       0.05326      2.696\n",
      "Attempt Newton solution of steady-state problem...    failure. \n",
      "Take 10 timesteps       0.02247      2.965\n",
      "Attempt Newton solution of steady-state problem...    failure. \n"
     ]
    },
    {
     "name": "stdout",
     "output_type": "stream",
     "text": [
      "Take 10 timesteps       0.03792      2.764\n",
      "Attempt Newton solution of steady-state problem...    failure. \n",
      "Take 10 timesteps       0.04799      2.789\n",
      "Attempt Newton solution of steady-state problem...    failure. \n",
      "Take 10 timesteps       0.04555      2.765\n",
      "Attempt Newton solution of steady-state problem...    failure. \n",
      "Take 10 timesteps       0.01441      2.553\n",
      "Attempt Newton solution of steady-state problem...    failure. \n",
      "Take 10 timesteps       0.03648      2.753\n",
      "Attempt Newton solution of steady-state problem...    failure. \n",
      "Take 10 timesteps       0.03463      2.758\n",
      "Attempt Newton solution of steady-state problem...    failure. \n",
      "Take 10 timesteps       0.03287       2.91\n",
      "Attempt Newton solution of steady-state problem...    failure. \n",
      "Take 10 timesteps       0.01755      3.033\n",
      "Attempt Newton solution of steady-state problem...    failure. \n",
      "Take 10 timesteps       0.03332      2.874\n",
      "Attempt Newton solution of steady-state problem...    failure. \n",
      "Take 10 timesteps       0.04217      2.863\n",
      "Attempt Newton solution of steady-state problem...    failure. \n",
      "Take 10 timesteps       0.05338      2.659\n",
      "Attempt Newton solution of steady-state problem...    failure. \n",
      "Take 10 timesteps         0.038       2.57\n",
      "Attempt Newton solution of steady-state problem...    failure. \n",
      "Take 10 timesteps       0.02705      2.959\n",
      "Attempt Newton solution of steady-state problem...    failure. \n",
      "Take 10 timesteps       0.03424      2.775\n",
      "Attempt Newton solution of steady-state problem...    failure. \n",
      "Take 10 timesteps       0.04333      2.551\n",
      "Attempt Newton solution of steady-state problem...    failure. \n",
      "Take 10 timesteps       0.04113      2.625\n",
      "Attempt Newton solution of steady-state problem...    failure. \n",
      "Take 10 timesteps       0.02603      3.077\n",
      "Attempt Newton solution of steady-state problem...    failure. \n",
      "Take 10 timesteps       0.03294      2.889\n",
      "Attempt Newton solution of steady-state problem...    failure. \n",
      "Take 10 timesteps       0.04169      2.205\n",
      "Attempt Newton solution of steady-state problem...    failure. \n",
      "Take 10 timesteps       0.03958      2.143\n",
      "Attempt Newton solution of steady-state problem...    failure. \n",
      "Take 10 timesteps       0.05635      2.063\n",
      "Attempt Newton solution of steady-state problem...    failure. \n",
      "Take 10 timesteps       0.03566      2.394\n",
      "Attempt Newton solution of steady-state problem...    failure. \n",
      "Take 10 timesteps       0.05077      2.111\n",
      "Attempt Newton solution of steady-state problem...    failure. \n",
      "Take 10 timesteps       0.04819      2.203\n",
      "Attempt Newton solution of steady-state problem...    failure. \n",
      "Take 10 timesteps       0.04575      2.344\n",
      "Attempt Newton solution of steady-state problem...    failure. \n",
      "Take 10 timesteps       0.02895      3.049\n",
      "Attempt Newton solution of steady-state problem...    failure. \n",
      "Take 10 timesteps       0.05496      2.296\n",
      "Attempt Newton solution of steady-state problem...    failure. \n",
      "Take 10 timesteps       0.02318       2.68\n",
      "Attempt Newton solution of steady-state problem...    failure. \n",
      "Take 10 timesteps       0.04401       2.53\n",
      "Attempt Newton solution of steady-state problem...    failure. \n",
      "Take 10 timesteps       0.01393      2.209\n",
      "Attempt Newton solution of steady-state problem...    failure. \n",
      "Take 10 timesteps       0.05288      2.194\n",
      "Attempt Newton solution of steady-state problem...    failure. \n",
      "Take 10 timesteps       0.03346      2.609\n",
      "Attempt Newton solution of steady-state problem...    failure. \n",
      "Take 10 timesteps       0.03176      3.048\n",
      "Attempt Newton solution of steady-state problem...    failure. \n",
      "Take 10 timesteps       0.03015      3.051\n",
      "Attempt Newton solution of steady-state problem...    failure. \n",
      "Take 10 timesteps       0.01908      2.982\n",
      "Attempt Newton solution of steady-state problem...    failure. \n",
      "Take 10 timesteps       0.03622      2.932\n",
      "Attempt Newton solution of steady-state problem...    failure. \n",
      "Take 10 timesteps       0.01719      3.029\n",
      "Attempt Newton solution of steady-state problem...    failure. \n",
      "Take 10 timesteps       0.03671       2.96\n",
      "Attempt Newton solution of steady-state problem...    failure. \n",
      "Take 10 timesteps       0.03098      2.916\n",
      "Attempt Newton solution of steady-state problem...    failure. \n",
      "Take 10 timesteps       0.03921      2.658\n",
      "Attempt Newton solution of steady-state problem...    failure. \n",
      "Take 10 timesteps       0.01396      2.958\n",
      "Attempt Newton solution of steady-state problem...    failure. \n",
      "Take 10 timesteps       0.03974      2.899\n",
      "Attempt Newton solution of steady-state problem...    failure. \n",
      "Take 10 timesteps       0.03772      2.531\n",
      "Attempt Newton solution of steady-state problem...    failure. \n",
      "Take 10 timesteps   \n",
      "***********************************************************************\n",
      "CanteraError thrown by OneDim::timeStep:\n",
      "Took maximum number of timesteps allowed (500) without reaching steady-state solution.\n",
      "***********************************************************************\n",
      "\n",
      "\n",
      "Statistics:\n",
      "\n",
      " Grid   Timesteps  Functions      Time  Jacobians      Time\n",
      "    9          20        304    0.0060         14    0.0030\n",
      "   12          10        299    0.0100          9    0.0050\n",
      "   17          10        267    0.0130          7    0.0120\n",
      "   23          20        466    0.0220         13    0.0190\n",
      "   29         330      13380    0.6750        423    0.8520\n",
      "   33          20        436    0.0290         16    0.0380\n",
      "   38         500      20352    1.4050        669    1.8520\n"
     ]
    }
   ],
   "source": [
    "try:\n",
    "    sim.solve(loglevel=1, auto=False)\n",
    "except ct.CanteraError as e:\n",
    "    print(e)\n",
    "    sim.show_stats()"
   ]
  },
  {
   "cell_type": "markdown",
   "metadata": {},
   "source": [
    "### That didn't work...what went wrong?\n",
    "* We can see that the solver failed because it was taking too many timesteps without those timesteps increasing in size, as would normally be expected.\n",
    "* Add a callback function to collect data after each timestep\n",
    "* We are only interested in the timesteps leading up to the final, failed solution attempt, but we don't know when that will occur.\n",
    "* Use the `time_step` callback to collect data after each timestep, no matter what.\n",
    "* Use the `steady` callback to clear data after a successful solve "
   ]
  },
  {
   "cell_type": "code",
   "execution_count": 5,
   "metadata": {},
   "outputs": [],
   "source": [
    "# variables used to capture data within the callback functions\n",
    "grid = []\n",
    "TT = []\n",
    "YY = []\n",
    "UU = []\n",
    "\n",
    "# Callback function must take one argument, even if we don't use it\n",
    "def time_step_callback(_):\n",
    "    grid[:] = sim.grid\n",
    "    TT.append(sim.T)\n",
    "    YY.append(sim.Y[gas.species_index('O2')])\n",
    "    UU.append(sim.u)\n",
    "    return 0  # Callback function must return a number\n",
    "\n",
    "def steady_callback(_):\n",
    "    TT.clear()\n",
    "    YY.clear()\n",
    "    UU.clear()\n",
    "    return 0\n",
    "\n",
    "# Recreate the flame object and attach the callback functions\n",
    "gas.set_equivalence_ratio(0.4, 'H2', 'O2:1.0, AR:4')\n",
    "gas.TP = tburner, p\n",
    "sim = ct.BurnerFlame(gas=gas, width=width)\n",
    "sim.burner.mdot = mdot\n",
    "sim.set_refine_criteria(ratio=3, slope=0.1, curve=0.2, prune=0)\n",
    "\n",
    "sim.set_time_step_callback(time_step_callback)\n",
    "sim.set_steady_callback(steady_callback)"
   ]
  },
  {
   "cell_type": "markdown",
   "metadata": {},
   "source": [
    "### Attempt to solve the flame again\n",
    "Wrap the call to `solve` in a `try`/`except` block, since we are expecting it to fail"
   ]
  },
  {
   "cell_type": "code",
   "execution_count": 6,
   "metadata": {},
   "outputs": [
    {
     "name": "stdout",
     "output_type": "stream",
     "text": [
      "\n",
      "***********************************************************************\n",
      "CanteraError thrown by OneDim::timeStep:\n",
      "Took maximum number of timesteps allowed (500) without reaching steady-state solution.\n",
      "***********************************************************************\n",
      "\n",
      "\n",
      "Statistics:\n",
      "\n",
      " Grid   Timesteps  Functions      Time  Jacobians      Time\n",
      "    9          20        304    0.0030         14    0.0070\n",
      "   12          10        299    0.0060          9    0.0040\n",
      "   17          10        267    0.0110          7    0.0070\n",
      "   23          20        466    0.0150         13    0.0180\n",
      "   29         330      13380    0.6960        423    0.8330\n",
      "   33          20        436    0.0290         16    0.0380\n",
      "   38         500      20352    1.4190        669    1.8340\n"
     ]
    }
   ],
   "source": [
    "try:\n",
    "    sim.solve(loglevel=0, auto=False)\n",
    "except ct.CanteraError as e:\n",
    "    print(e)\n",
    "    sim.show_stats()"
   ]
  },
  {
   "cell_type": "markdown",
   "metadata": {},
   "source": [
    "## Convert saved data to 2D arrays"
   ]
  },
  {
   "cell_type": "code",
   "execution_count": 7,
   "metadata": {},
   "outputs": [],
   "source": [
    "T = np.array(TT)\n",
    "Y = np.array(YY)\n",
    "U = np.array(UU)"
   ]
  },
  {
   "cell_type": "markdown",
   "metadata": {},
   "source": [
    "## Plot profiles\n"
   ]
  },
  {
   "cell_type": "code",
   "execution_count": 8,
   "metadata": {
    "scrolled": false
   },
   "outputs": [
    {
     "data": {
      "image/png": "[encoded data removed]",
      "text/plain": [
       "<Figure size 360x288 with 1 Axes>"
      ]
     },
     "metadata": {
      "needs_background": "light"
     },
     "output_type": "display_data"
    }
   ],
   "source": [
    "f,ax = plt.subplots(1, 1, figsize=(5,4))\n",
    "# Plot the last N profiles\n",
    "N = 50  \n",
    "# Use a sequential color map so we can tell which lines belong to which timestep\n",
    "C = plt.cm.viridis(np.linspace(0, 1, N))\n",
    "for i in range(N):\n",
    "    ax.plot(grid, T[len(T)-N+i], '.-', color=C[i])\n",
    "ax.set_xlim(0, 0.002);"
   ]
  },
  {
   "cell_type": "markdown",
   "metadata": {},
   "source": [
    "### Let's look at what's happening as a function of time"
   ]
  },
  {
   "cell_type": "code",
   "execution_count": 9,
   "metadata": {},
   "outputs": [
    {
     "data": {
      "image/png": "[encoded data removed]",
      "text/plain": [
       "<Figure size 648x252 with 3 Axes>"
      ]
     },
     "metadata": {
      "needs_background": "light"
     },
     "output_type": "display_data"
    }
   ],
   "source": [
    "f,ax = plt.subplots(1, 3, figsize=(9, 3.5))\n",
    "ax[0].plot(T[:,1])\n",
    "ax[1].plot(Y[:,1])\n",
    "ax[2].plot(U[:,1])\n",
    "ax[0].set_title('Temperature at $j=1$')\n",
    "ax[1].set_title('$Y_{O_2}$ at $j=1$')\n",
    "ax[2].set_title('velocity at $j=1$');"
   ]
  },
  {
   "cell_type": "code",
   "execution_count": null,
   "metadata": {},
   "outputs": [],
   "source": []
  }
 ],
 "metadata": {
  "kernelspec": {
   "display_name": "Python 3",
   "language": "python",
   "name": "python3"
  },
  "language_info": {
   "codemirror_mode": {
    "name": "ipython",
    "version": 3
   },
   "file_extension": ".py",
   "mimetype": "text/x-python",
   "name": "python",
   "nbconvert_exporter": "python",
   "pygments_lexer": "ipython3",
   "version": "3.7.2"
  }
 },
 "nbformat": 4,
 "nbformat_minor": 2
}
