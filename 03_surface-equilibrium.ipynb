{
 "cells": [
  {
   "cell_type": "markdown",
   "id": "64c0dce8",
   "metadata": {},
   "source": [
    "# Surface Equilibrium Calcualtions\n",
    "\n",
    "Here, we will use a relatively simple concept--surface-gas equilibrium--to demonstrate some of Cantera's capabilities for heterogeneous catalysis applications.\n",
    "\n",
    "Consider adsorption-desorption reactions between a gas phase and an ideal surface lattice.\n",
    "\n",
    "<img src=\"images/SurfaceReactions.png\" alt=\"Cartoon of an ideal surface lattice (left side), and of the H2 adsorption reaction (right side).\" style=\"width: 750px;\"/>\n",
    "\n",
    "Note that the exact geometry of the lattice is irrelevant; the only assumption is a user-supplied density of surface sites, $\\Gamma_\\circ $, with units ${\\rm \\left[\\frac{mol}{m^2}\\right]}$."
   ]
  },
  {
   "cell_type": "markdown",
   "id": "6f9c3a4a",
   "metadata": {},
   "source": [
    "## Surface equilbrium\n",
    "\n",
    "There are two possible ways to express the equilibrium condition: \n",
    "1. Thermodynamically via the Gibbs free energy of the reaction, $\\Delta G_{\\rm rxn}$:\n",
    "<div class=\"alert-danger\">\n",
    "$$\\Delta G_{\\rm rxn} = \\sum_k \\nu_k \\mu_k = \\sum_k \\nu_k\\left(\\mu^\\circ_k + RT \\ln a_k\\right) = 0, $$\n",
    "</div>\n",
    "where $\\nu_k$ is the net stoichiometric coefficient for species $k$, $\\mu_k$ the chemical potential, $\\mu^\\circ_k$ the standard state chemical potential, and $a_k$ the species activity, which depends on the state.\n",
    "2. Kinetically via the reaction rate of progress, $\\dot{q}_{\\rm rxn}$:\n",
    "<div class=\"alert-danger\">\n",
    "$$\\dot{q}_{\\rm rxn} = k_{\\rm fwd,\\,rxn}\\prod_k C_{{\\rm ac},k}^{\\nu^\\prime_{k,\\,{\\rm rxn}}} - k_{\\rm rev,\\,rxn}\\prod_k C_{{\\rm ac},k}^{\\nu^{\\prime\\prime}_{k,\\,{\\rm rxn}}},$$\n",
    "</div>\n",
    "where $k_{\\rm fwd,\\,rxn}$ and $k_{\\rm rev,\\,rxn}$ are the forward and reverse rate coefficients, $C_{\\rm ac,k}$ the activity concentration of species $k$ (equal to $\\gamma_kC_k$, the activity coefficient times the molar concentration, with units of $\\left[ \\frac{mol}{m^2}\\right]$ for a surface phase and $\\left[ \\frac{mol}{m^3}\\right]$ for a bulk (e.g. gas) phase, and $\\nu^\\prime_{k,\\,{\\rm rxn}}$ and $\\nu^{\\prime\\prime}_{k,\\,{\\rm rxn}}$ the forward and reverse stoichiometric coefficients for species $k$ in the reaction (note $\\nu_{k,\\,{\\rm rxn}} = \\nu^{\\prime\\prime}_{k,\\,{\\rm rxn}} - \\nu^{\\prime}_{k,\\,{\\rm rxn}}$).\n",
    "\n",
    "In Cantera, whenever any reaction is written as reversible, the reverse rate coefficient $k_{\\rm rev,\\,rxn}$ is calculated according to the thermodynamics, assuming a _single_ equilibrium state that satisfies the two equations above.  In other words, the two approaches should give equivalent results. The activities and activity concentrations are linked via:\n",
    "$$ a_k = \\frac{C_{{\\rm ac},k}}{C^\\circ_k},$$\n",
    "where $C^\\circ_k$ is a reference concentration (the reference state being that at which $\\mu^\\circ_k$ is known/evaluated)."
   ]
  },
  {
   "cell_type": "markdown",
   "id": "8edbbe68",
   "metadata": {},
   "source": [
    "## Surface equilibrium: by hand.\n",
    "\n",
    "Let's consider the \"simple example\" shown above, for hydrogen adsorption on a Pt surface:\n",
    "$${\\rm H_{2(g)} + 2\\,Pt_{(s)} \\leftrightharpoons 2\\,H_{(s)}}$$\n",
    "We will evaluate the equilibrium calculation kinetically, solving for the state where $\\dot{q}_{\\rm rxn} = 0$:\n",
    "<div class=\"alert-danger\">\n",
    "$$\\dot{q}_{\\rm rxn} = k_{\\rm fwd}C_{H_{\\rm 2(g)}}C^2_{\\rm Pt(s)} - k_{\\rm rev}C^2_{\\rm H(s)}.$$\n",
    "</div>\n",
    "Setting $\\dot{q}_{\\rm rxn} = 0$ leads to:"
   ]
  },
  {
   "cell_type": "markdown",
   "id": "22161b54",
   "metadata": {},
   "source": [
    "$$k_{\\rm fwd}C_{H_{\\rm 2(g)}}C^2_{\\rm Pt(s)} = k_{\\rm rev}C^2_{\\rm H(s)}.$$\n",
    "and:\n",
    "$$\\frac{C^2_{\\rm Pt(s)}}{C^2_{\\rm H(s)}} = \\frac{k_{\\rm rev}}{k_{\\rm fwd}C_{H_{\\rm 2(g)}}}$$\n",
    "The surface concentrations can be written as $C_k = \\Gamma_\\circ\\theta_k$, where $\\theta_k$ is the 'surface coverage' - the percentage of surface sites occupied by species $k$."
   ]
  },
  {
   "cell_type": "markdown",
   "id": "ed501bac",
   "metadata": {},
   "source": [
    "$$\\frac{C^2_{\\rm Pt(s)}}{C^2_{\\rm H(s)}} = \\frac{\\Gamma_\\circ^2\\theta^2_{\\rm Pt(s)}}{\\Gamma_\\circ^2\\theta^2_{\\rm H(s)}}= \\frac{\\theta^2_{\\rm Pt(s)}}{\\theta^2_{\\rm H(s)}} = \\frac{k_{\\rm rev}}{k_{\\rm fwd}C_{H_{\\rm 2(g)}}}$$"
   ]
  },
  {
   "cell_type": "markdown",
   "id": "4ce01f9f",
   "metadata": {},
   "source": [
    "Lastly, we can take advantage of the fact that there are only two surface species, and so therefore $\\theta_{\\rm Pt(s)} = 1 - \\theta_{\\rm H(s)}$:\n",
    "$$\\frac{\\left(1 - \\theta_{\\rm H(s)}\\right)^2}{\\theta^2_{\\rm H(s)}} = \\frac{k_{\\rm rev}}{k_{\\rm fwd}C_{H_{\\rm 2(g)}}}$$"
   ]
  },
  {
   "cell_type": "markdown",
   "id": "5a56522f",
   "metadata": {},
   "source": [
    "After some algebra, we can solve for $\\theta_{\\rm H(s),\\,equil}$:"
   ]
  },
  {
   "cell_type": "markdown",
   "id": "bb3912a2",
   "metadata": {},
   "source": [
    "<div class=\"alert-danger\">\n",
    "    $$\\theta_{\\rm H(s),\\,equil} = \\frac{1}{1 + \\sqrt{\\frac{k_{\\rm rev}}{k_{\\rm fwd}C_{\\rm H_{\\rm 2(g)}}}}}$$\n",
    "</div>"
   ]
  },
  {
   "cell_type": "markdown",
   "id": "2d23abdf",
   "metadata": {},
   "source": [
    "### User Inputs:"
   ]
  },
  {
   "cell_type": "code",
   "execution_count": 1,
   "id": "10801df3",
   "metadata": {},
   "outputs": [],
   "source": [
    "# Add python code here\n",
    "                # Temperature in K\n",
    "                # Pressure in Pa\n",
    "                # H2(g) mole fraction\n",
    "                # J/kmol-K\n",
    "\n",
    "# Forward rate constants from Deutschman et al., \n",
    "#   26th Symp. (Intl.) on Combustion, 1996 pp. 1747-1754\n",
    "k_fwd = 77213092.95061298 \n",
    "k_rev = 680845237.060435  "
   ]
  },
  {
   "cell_type": "markdown",
   "id": "36273940",
   "metadata": {},
   "source": [
    "### Calculate terms and find equilibrium coverage by hand:"
   ]
  },
  {
   "cell_type": "code",
   "execution_count": 2,
   "id": "b289fa5c",
   "metadata": {},
   "outputs": [],
   "source": [
    "# Add python code here\n",
    "\n",
    "print(\"Equilibrium H(s) coverage:\")\n",
    "print(\"By hand: \", hand_coverage)"
   ]
  },
  {
   "cell_type": "markdown",
   "id": "8bb04c42",
   "metadata": {},
   "source": [
    "# Perform the same calculation in Cantera"
   ]
  },
  {
   "cell_type": "markdown",
   "id": "9e767b7c",
   "metadata": {},
   "source": [
    "### Import packages"
   ]
  },
  {
   "cell_type": "code",
   "execution_count": 3,
   "id": "c28d1122",
   "metadata": {},
   "outputs": [],
   "source": [
    "# Add python code here\n",
    "import cantera as ct\n",
    "%matplotlib inline\n",
    "import matplotlib.pyplot as plt\n",
    "import matplotlib as mpl\n",
    "import numpy as np\n",
    "import cycler\n",
    "ct.__version__"
   ]
  },
  {
   "cell_type": "markdown",
   "id": "72762ac8",
   "metadata": {},
   "source": [
    "### 1. Create Cantera phase objects:"
   ]
  },
  {
   "cell_type": "code",
   "execution_count": 4,
   "id": "d8e710a0",
   "metadata": {},
   "outputs": [],
   "source": [
    "# Add python code here"
   ]
  },
  {
   "cell_type": "markdown",
   "id": "4374dff4",
   "metadata": {},
   "source": [
    "### 2. Set conditions"
   ]
  },
  {
   "cell_type": "code",
   "execution_count": 5,
   "id": "175c8c42",
   "metadata": {},
   "outputs": [],
   "source": [
    "# Add python code here"
   ]
  },
  {
   "cell_type": "markdown",
   "id": "83344549",
   "metadata": {},
   "source": [
    "### Check similarity to hand calcs by printing out kinetic rate constants:\n",
    "\n",
    "The H2 adsorption reaction is the first one listed, which will be reaction '0'. The mechanism writes reactions as irreversible pairs.  The reverse reaction is written as the second listed reaction, with index '1'."
   ]
  },
  {
   "cell_type": "code",
   "execution_count": 6,
   "id": "def71033",
   "metadata": {},
   "outputs": [],
   "source": [
    "# Add python code here\n",
    "\n",
    "\n",
    "# Let's check to be sure our terms are the same:\n",
    "print('forward rate constants: ', k_fwd, k_fwd_ct)\n",
    "print('reverse rate constants: ', k_rev, k_rev_ct)\n",
    "print('H2(g) concentration; ', C_H2, C_H2_ct)"
   ]
  },
  {
   "cell_type": "markdown",
   "id": "863a7307",
   "metadata": {},
   "source": [
    "### 3. Run Calculation\n",
    "\n",
    "We will find the equilbrium coverage by integrating the surface coverages, assuming a fixed bulk (i.e. gas) phase, which is achieved using Cantera's \"advance_coverages\" method.\n",
    "\n",
    "We assume 100 seconds is more than enough to reach equilibrium."
   ]
  },
  {
   "cell_type": "code",
   "execution_count": 7,
   "id": "58b95ae4",
   "metadata": {},
   "outputs": [],
   "source": [
    "# Print the species production rates before equilibration:\n",
    "print('Net species production rates: all phases')\n",
    "\n",
    "# This contains species for all relevant phases -- gas and surf.  \n",
    "#  Let's look at just the surface species:\n",
    "print('\\n Net species production rates: surface only')\n",
    "\n",
    "\n",
    "\n",
    "\n",
    "# Print the species production rates after equilibration:\n",
    "print('\\n Net species production rates: after equilibration')\n",
    "\n",
    "\n",
    "#Let's print the state:\n"
   ]
  },
  {
   "cell_type": "code",
   "execution_count": 8,
   "id": "fc82e215",
   "metadata": {},
   "outputs": [],
   "source": [
    "# From the input file, H(S) is the 2nd species listed, which has index 1 in Python:\n",
    "\n",
    "print('Equilibrium H(s) coverage: ')\n",
    "print('     from Cantera: ', cantera_coverage)\n",
    "print('     by hand:      ', hand_coverage)\n",
    "print('Difference = ', round(cantera_coverage - hand_coverage,19))"
   ]
  },
  {
   "cell_type": "markdown",
   "id": "7a1d63e5",
   "metadata": {},
   "source": [
    "## We get the exact same result - great! "
   ]
  },
  {
   "cell_type": "code",
   "execution_count": 9,
   "id": "baf2b5b9",
   "metadata": {},
   "outputs": [],
   "source": [
    "# Add python code here"
   ]
  },
  {
   "cell_type": "markdown",
   "id": "d44c8d8e",
   "metadata": {},
   "source": [
    "## But that felt like a good bit more typing, versus a relatively straightforward hand calculation (once we work out the theory).  Why use Cantera?\n",
    "\n",
    "For more complex chemistry, the hand calculation becomes more difficult, but is exactly the same in Cantera.  Have a look at the input file chemistry.  If we throw some methane and oxygen in to the gas phase, many more species and reactions become relevant."
   ]
  },
  {
   "cell_type": "code",
   "execution_count": 10,
   "id": "02dc786b",
   "metadata": {},
   "outputs": [],
   "source": [
    "# Add python code here"
   ]
  },
  {
   "cell_type": "markdown",
   "id": "5a11811d",
   "metadata": {},
   "source": [
    "### Okay, so the surface is mostly oxidized.  Let's see how this changes with temperature:"
   ]
  },
  {
   "cell_type": "code",
   "execution_count": 11,
   "id": "a649eb0a",
   "metadata": {},
   "outputs": [],
   "source": [
    "# Add python code here"
   ]
  },
  {
   "cell_type": "markdown",
   "id": "332edc78",
   "metadata": {},
   "source": [
    "## Plot $\\theta_k$ vs. T\n"
   ]
  },
  {
   "cell_type": "code",
   "execution_count": 12,
   "id": "96a37b8a",
   "metadata": {},
   "outputs": [],
   "source": [
    "# define the plot function\n",
    "def plot_coverages(temperature, coverages):\n",
    "    \"\"\"\n",
    "    temperature: a numpy array of temperature\n",
    "    coverages: a numpy array of coverage of species\n",
    "    \"\"\"\n",
    "    fs = 15\n",
    "    n = 12\n",
    "    colors = np.linspace(0, 1, n)\n",
    "    color = plt.cm.plasma(colors)\n",
    "    mpl.rcParams['axes.prop_cycle'] = cycler.cycler('color', color)\n",
    "\n",
    "    # Create 3 subplots:\n",
    "    f, (ax1, ax2, ax3) = plt.subplots(1, 3, sharey=False, figsize=(8,3))\n",
    "\n",
    "    # Plot all species:\n",
    "    ax1.plot(temperature, coverages)\n",
    "    ax1.set_yticks([0, .25, .5, .75, 1.])\n",
    "    ax1.title.set_text('All species')\n",
    "\n",
    "    # Omit O(s) and Pt(s):\n",
    "    color = plt.cm.plasma(colors[1:-1])\n",
    "    mpl.rcParams['axes.prop_cycle'] = cycler.cycler('color', color)\n",
    "    ax2.plot(temperature, coverages[:, 1:-1])\n",
    "    ax2.title.set_text('No PT(S) and O(S)')\n",
    "\n",
    "    ax2.set_ylim(0, 0.4)\n",
    "    ax2.set_yticks([0, .1, .2, .3, .4])\n",
    "\n",
    "    # Also omit CH3(S) and CO(S):\n",
    "    indices = np.hstack((np.arange(1,4),np.arange(5,9)))\n",
    "\n",
    "    color = plt.cm.plasma(colors[indices])\n",
    "    mpl.rcParams['axes.prop_cycle'] = cycler.cycler('color', color)\n",
    "\n",
    "    ax3.plot(temperature, coverages[:, indices])\n",
    "    ax3.set_ylim(0, 0.004)\n",
    "    ax3.set_yticks([0, .001, .002, .003, .004])\n",
    "    ax3.title.set_text('No PT(S), O(S), CH3(S), and CO(S)')\n",
    "\n",
    "    ax1.set_ylabel('Coverage', fontsize=fs)\n",
    "    f.text(0.5, -0.05, 'Temperature (K)', fontsize=fs, ha='center')\n",
    "    f.tight_layout()\n",
    "    f.legend(surf.species_names, frameon=False, bbox_to_anchor=(1.12,.95))"
   ]
  },
  {
   "cell_type": "code",
   "execution_count": 13,
   "id": "80add6ac",
   "metadata": {},
   "outputs": [],
   "source": [
    "# Add python code here"
   ]
  },
  {
   "cell_type": "markdown",
   "id": "e043ce5a",
   "metadata": {},
   "source": [
    "Lastly, note that there is nothing inherently \"true\" about these calculations.  Cantera takes a user-provided input file, and calculates the desired properties, rates, etc., _given those inputs_.  \n",
    "\n",
    "The point of Cantera is to provide automated and generalized chemical kinetic routines.  This increases efficiency and repeatability of these calculations. The software is not, however, in the business of endorsing any particular mechanism. \n",
    "\n",
    "In particular, the mechanism used above write the reversible reactions as irreversible pairs, providing a rate constant for each direction.  There is no guarantee that these rate constant pairs are consistent with thermodynamics, which states that $\\frac{k_{\\rm fwd}}{k_{\\rm rev}} = exp\\left(-\\frac{\\Delta G^\\circ_{\\rm rxn}}{RT}\\right)C^{\\circ\\,\\sum \\nu_k}$. _It is up to the user to verify the validity of their chosen mechanism_.\n",
    "\n",
    "If we want to switch to a completely different mechanism, the routine is exactly the same:"
   ]
  },
  {
   "cell_type": "code",
   "execution_count": 14,
   "id": "95455e46",
   "metadata": {},
   "outputs": [],
   "source": [
    "mech_file = 'methane_pox_on_pt.yaml' # This is another mechanism from the Deutschmann group.\n",
    "\n",
    "gas = ct.Solution(mech_file, 'gas')\n",
    "surf = ct.Interface(mech_file, 'Pt_surf', [gas])\n",
    "\n",
    "gas.TPX = T, P, X_gas\n",
    "surf.TP = T, P\n",
    "\n",
    "# Read the properties from the input file:\n",
    "k_fwd_ct = surf.forward_rate_constants[0]\n",
    "k_rev_ct = surf.forward_rate_constants[1]\n",
    "\n",
    "C_H2_ct = gas['H2'].concentrations[0]\n",
    "\n",
    "hand_coverage = 1./(1. + (k_rev_ct/k_fwd_ct/C_H2_ct)**0.5)\n",
    "\n",
    "surf.advance_coverages(100)\n",
    "cantera_coverage = surf['H(S)'].coverages[0]\n",
    "\n",
    "print('Equilibrium H(s) coverage: ')\n",
    "print('     from Cantera: ', cantera_coverage)\n",
    "print('     by hand:      ', hand_coverage)\n",
    "print('Difference = ', round(cantera_coverage - hand_coverage,19))"
   ]
  },
  {
   "cell_type": "markdown",
   "id": "4fbd421d",
   "metadata": {},
   "source": [
    "Here, we can see that the hand calculation is quite a bit off.  If we explore the kinetic mechanism, we see that the reaction rate has a coverage dependence, which makes the hand calculation considerably more challenging, but does not impact the Cantera-based approach."
   ]
  }
 ],
 "metadata": {
  "kernelspec": {
   "display_name": "cantera-workshop",
   "language": "python",
   "name": "cantera-workshop"
  },
  "language_info": {
   "codemirror_mode": {
    "name": "ipython",
    "version": 3
   },
   "file_extension": ".py",
   "mimetype": "text/x-python",
   "name": "python",
   "nbconvert_exporter": "python",
   "pygments_lexer": "ipython3",
   "version": "3.7.2"
  }
 },
 "nbformat": 4,
 "nbformat_minor": 5
}
