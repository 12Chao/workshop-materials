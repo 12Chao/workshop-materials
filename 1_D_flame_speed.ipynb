{
 "cells": [
  {
   "cell_type": "markdown",
   "metadata": {},
   "source": [
    "# Flame Speed"
   ]
  },
  {
   "cell_type": "markdown",
   "metadata": {},
   "source": [
    "In this example we simulate a freely-propagating, adiabatic, 1-D flame and\n",
    "* Calculate its laminar burning velocity\n",
    "* Perform a sensitivity analysis of its kinetics\n",
    "\n",
    "The figure below illustrates the setup, in a flame-fixed co-ordinate system. The reactants enter with density $\\rho_{u}$, temperature $T_{u}$ and speed $S_{u}$. The products exit the flame at speed $S_{b}$, density $\\rho_{b}$ and temperature $T_{b}$."
   ]
  },
  {
   "cell_type": "markdown",
   "metadata": {},
   "source": [
    "<img src=\"images/flameSpeed.png\" alt=\"Freely Propagating Flame\" style=\"width: 300px;\"/>"
   ]
  },
  {
   "cell_type": "markdown",
   "metadata": {},
   "source": [
    "### Import Modules"
   ]
  },
  {
   "cell_type": "code",
   "execution_count": null,
   "metadata": {},
   "outputs": [],
   "source": [
    "import cantera as ct\n",
    "import numpy as np\n",
    "\n",
    "%matplotlib notebook\n",
    "import matplotlib.pyplot as plt\n",
    "plt.rcParams['figure.constrained_layout.use'] = True\n",
    "plt.rcParams['lines.linewidth'] = 2\n",
    "\n",
    "print(f\"Running Cantera version {ct.__version__}\")"
   ]
  },
  {
   "cell_type": "markdown",
   "metadata": {},
   "source": [
    "### Define the reactant conditions, gas mixture and kinetic mechanism associated with the gas"
   ]
  },
  {
   "cell_type": "code",
   "execution_count": null,
   "metadata": {},
   "outputs": [],
   "source": [
    "# Define the gas mixture and kinetics\n",
    "# In this case, we are choosing a modified version of GRI 3.0\n",
    "gas = ct.Solution('input-files/gri30_noNOx.cti')"
   ]
  },
  {
   "cell_type": "markdown",
   "metadata": {},
   "source": [
    "### Define flame simulation conditions"
   ]
  },
  {
   "cell_type": "code",
   "execution_count": null,
   "metadata": {},
   "outputs": [],
   "source": [
    "# Inlet temperature in kelvin and inlet pressure in pascal\n",
    "To = 300\n",
    "Po = 101325\n",
    "\n",
    "# Domain width in meters\n",
    "width = 0.02\n",
    "\n",
    "# Set the inlet mixture to be stoichiometric CH4 and air \n",
    "gas.set_equivalence_ratio(1.0, 'CH4', {'O2':1.0, 'N2':3.76})\n",
    "gas.TP = To, Po\n",
    "\n",
    "# Create the flame object\n",
    "flame = ct.FreeFlame(gas, width=width)\n",
    "\n",
    "# Set options for the solver\n",
    "flame.transport_model = 'Mix'\n",
    "flame.set_refine_criteria(ratio=3, slope=0.1, curve=0.1)\n",
    "\n",
    "# Define logging level\n",
    "loglevel = 1"
   ]
  },
  {
   "cell_type": "markdown",
   "metadata": {},
   "source": [
    "### Solve"
   ]
  },
  {
   "cell_type": "markdown",
   "metadata": {},
   "source": [
    "The `auto` option in the solve function tries to \"automatically\" solve the flame by applying a few common techniques. First, the flame is solved on a sparse grid with the transport calculations set to mixture averaged. Then grid refinement is enabled, with points added according to the values of the `ratio`, `slope`, and `curve` parameters in the `set_refine_criteria` function. If the initial solve on the sparse grid fails to converge, the simulation is attempted again, but this time with the energy equation disabled. Once the simulation has been solved on the refined grid with the mixture averaged transport, Cantera enables the multicomponent transport and Soret diffusion, if they have been set by the user.\n",
    "\n",
    "In general, it is recommended that you use the `auto` option the first time you run the solver, unless the simulation fails. On subsequent invocations of `solve`, you should not include the `auto` option (or set it to `False`)."
   ]
  },
  {
   "cell_type": "code",
   "execution_count": null,
   "metadata": {},
   "outputs": [],
   "source": [
    "flame.solve(loglevel=loglevel, auto=True)"
   ]
  },
  {
   "cell_type": "code",
   "execution_count": null,
   "metadata": {},
   "outputs": [],
   "source": [
    "Su0 = flame.u[0]\n",
    "print(\"Flame Speed is: {:.2f} cm/s\".format(Su0*100))\n",
    "flame.show_stats()"
   ]
  },
  {
   "cell_type": "markdown",
   "metadata": {},
   "source": [
    "### Plot figures\n",
    "\n",
    "Check and see if all has gone well. Plot temperature and species fractions to see. We expect that the solution at the boundaries of the domain will have zero gradient (in other words, that the domain width that we specified is wide enough for the flame)."
   ]
  },
  {
   "cell_type": "markdown",
   "metadata": {},
   "source": [
    "#### Temperature Plot"
   ]
  },
  {
   "cell_type": "code",
   "execution_count": null,
   "metadata": {},
   "outputs": [],
   "source": [
    "f, ax = plt.subplots(1, 1)\n",
    "ax.plot(flame.grid*100, flame.T)\n",
    "ax.set(xlabel='Distance (cm)', ylabel='Temperature (K)');\n",
    "# note domain size is not what we originally set -- automatically expanded to satisfy boundary conditions"
   ]
  },
  {
   "cell_type": "markdown",
   "metadata": {},
   "source": [
    "#### Major species' plot"
   ]
  },
  {
   "cell_type": "code",
   "execution_count": null,
   "metadata": {},
   "outputs": [],
   "source": [
    "profile = ct.SolutionArray(gas, shape=len(flame.grid), extra={'z': flame.grid*100})\n",
    "profile.TPY = flame.T, flame.P, flame.Y.T\n",
    "\n",
    "f, ax = plt.subplots(1, 1)\n",
    "ax.plot(profile.z, profile('CH4').X, label=r'CH$_4$')\n",
    "ax.plot(profile.z, profile('O2').X, label=r'O$_2$')\n",
    "ax.plot(profile.z, profile('CO2').X, label=r'CO$_2$')\n",
    "plt.plot(profile.z, profile('H2O').X, label=r'H$_2$O')\n",
    "ax.legend()\n",
    "ax.set(xlabel='Distance (cm)', ylabel='Mole fraction');"
   ]
  },
  {
   "cell_type": "markdown",
   "metadata": {},
   "source": [
    "## Sensitivity analysis\n",
    "Compute normalized sensitivities of flame speed $S_u$ to changes in the rate coefficient $k_i$ for each reaction\n",
    "$$s_i = \\frac{k_i}{S_u} \\frac{d S_u}{d k_i} $$"
   ]
  },
  {
   "cell_type": "code",
   "execution_count": null,
   "metadata": {},
   "outputs": [],
   "source": [
    "sens = flame.get_flame_speed_reaction_sensitivities()\n",
    "# note: much slower for multicomponent / Soret"
   ]
  },
  {
   "cell_type": "code",
   "execution_count": null,
   "metadata": {},
   "outputs": [],
   "source": [
    "# Find the most important reactions:\n",
    "sens_data = [(sens[i], gas.reaction_equation(i)) for i in range(gas.n_reactions)]\n",
    "sens_data.sort(key=lambda item: abs(item[0]), reverse=True)\n",
    "for s, eq in sens_data[:20]:\n",
    "    print(f'{s: .2e}  {eq}')"
   ]
  },
  {
   "cell_type": "markdown",
   "metadata": {},
   "source": [
    "## Solving multiple flames (parameter sweep) "
   ]
  },
  {
   "cell_type": "code",
   "execution_count": null,
   "metadata": {},
   "outputs": [],
   "source": [
    "# Start  at one limit of the equivalence ratio range\n",
    "gas.set_equivalence_ratio(0.6, 'CH4', {'O2':1.0, 'N2':3.76})\n",
    "gas.TP = To, Po\n",
    "\n",
    "flame = ct.FreeFlame(gas, width=width)\n",
    "\n",
    "# Enabling pruning is important to avoid continuous increase in grid size\n",
    "flame.set_refine_criteria(ratio=3, slope=0.15, curve=0.15, prune=0.1)\n",
    "flame.solve(loglevel=0, refine_grid=True, auto=True)"
   ]
  },
  {
   "cell_type": "code",
   "execution_count": null,
   "metadata": {},
   "outputs": [],
   "source": [
    "phis = np.linspace(0.6, 1.8, 50)\n",
    "Su = []\n",
    "\n",
    "for phi in phis:\n",
    "    gas.set_equivalence_ratio(phi, 'CH4', {'O2':1.0, 'N2':3.76})\n",
    "    flame.inlet.Y = gas.Y\n",
    "    flame.solve(loglevel=0)\n",
    "    print(f'phi = {phi:.3f}: Su = {flame.u[0]*100:5.2f} cm/s, N = {len(flame.grid)}')\n",
    "    Su.append(flame.u[0])"
   ]
  },
  {
   "cell_type": "code",
   "execution_count": null,
   "metadata": {},
   "outputs": [],
   "source": [
    "f, ax = plt.subplots(1, 1)\n",
    "ax.plot(phis, Su)\n",
    "ax.set(xlabel='equivalence ratio', ylabel='flame speed (m/s)');"
   ]
  },
  {
   "cell_type": "code",
   "execution_count": null,
   "metadata": {},
   "outputs": [],
   "source": []
  }
 ],
 "metadata": {
  "kernelspec": {
   "display_name": "Python 3",
   "language": "python",
   "name": "python3"
  },
  "language_info": {
   "codemirror_mode": {
    "name": "ipython",
    "version": 3
   },
   "file_extension": ".py",
   "mimetype": "text/x-python",
   "name": "python",
   "nbconvert_exporter": "python",
   "pygments_lexer": "ipython3",
   "version": "3.7.2"
  }
 },
 "nbformat": 4,
 "nbformat_minor": 1
}
