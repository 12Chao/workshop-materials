{
 "cells": [
  {
   "cell_type": "markdown",
   "metadata": {
    "slideshow": {
     "slide_type": "slide"
    }
   },
   "source": [
    "# Contributing to Cantera\n",
    "\n",
    "## We need your help!\n",
    "\n",
    "* Cantera is developed under the BSD 3-clause license\n",
    "* How-to for contributing: https://github.com/Cantera/cantera/blob/master/CONTRIBUTING.md\n",
    "* Code is on GitHub\n",
    "* We'd love to get bug reports, etc. on the issue tracker: https://github.com/Cantera/cantera/issues\n",
    "* More general questions can be asked on the User Group: https://groups.google.com/forum/#!forum/cantera-users"
   ]
  },
  {
   "cell_type": "markdown",
   "metadata": {
    "slideshow": {
     "slide_type": "slide"
    }
   },
   "source": [
    "### First, create an account on GitHub\n",
    "\n",
    "### Then, create your own \"fork\" or copy of the Cantera source code into your account\n",
    "\n",
    "![Fork on github](installation/fork.png)"
   ]
  },
  {
   "cell_type": "markdown",
   "metadata": {
    "slideshow": {
     "slide_type": "slide"
    }
   },
   "source": [
    "### You can make changes to your fork after you \"clone\" a copy to your local machine\n",
    "\n",
    "![My copy](installation/my-copy.png)"
   ]
  },
  {
   "cell_type": "markdown",
   "metadata": {
    "slideshow": {
     "slide_type": "slide"
    }
   },
   "source": [
    "```bash\n",
    "# Clone to your local computer\n",
    "git clone https://github.com/bryanwweber/cantera.git\n",
    "#                            ^^^^^^^^^^^\n",
    "#                   Replace this with your GH username\n",
    "\n",
    "# Checkout a new \"branch\" to contain your work\n",
    "git checkout -b branch-for-my-fix\n",
    "\n",
    "# Run the tests to make sure everything works\n",
    "scons test\n",
    "\n",
    "# Add and commit any files you've changed\n",
    "git add any-changed-files\n",
    "git commit -m 'My useful commit message. Fixes #1'\n",
    "\n",
    "# \"Push\" the changes to your personal fork (known as origin by default)\n",
    "git push -u origin branch-for-my-fix  # Only needed the first time, after that git push is sufficient\n",
    "```"
   ]
  },
  {
   "cell_type": "markdown",
   "metadata": {
    "slideshow": {
     "slide_type": "slide"
    }
   },
   "source": [
    "### Tell us you've made some changes and you want us to pull them in (Pull Request)\n",
    "\n",
    "![pull request](installation/pull-request.png)"
   ]
  },
  {
   "cell_type": "markdown",
   "metadata": {
    "collapsed": true,
    "slideshow": {
     "slide_type": "slide"
    }
   },
   "source": [
    "### Fill in the details of your pull request\n",
    "\n",
    "![pr-detail](installation/pr-detail.png)"
   ]
  },
  {
   "cell_type": "markdown",
   "metadata": {
    "slideshow": {
     "slide_type": "slide"
    }
   },
   "source": [
    "### Your changes will be automatically tested, so check the results and try to fix any errors. One of the maintainers will look at your changes and give you feedback on how to improve\n",
    "\n",
    "![checks-finished](installation/checks-finished.png)"
   ]
  }
 ],
 "metadata": {
  "kernelspec": {
   "display_name": "Python 3",
   "language": "python",
   "name": "python3"
  },
  "language_info": {
   "codemirror_mode": {
    "name": "ipython",
    "version": 3
   },
   "file_extension": ".py",
   "mimetype": "text/x-python",
   "name": "python",
   "nbconvert_exporter": "python",
   "pygments_lexer": "ipython3",
   "version": "3.7.1"
  }
 },
 "nbformat": 4,
 "nbformat_minor": 2
}
