{
 "cells": [
  {
   "cell_type": "markdown",
   "id": "823d746c",
   "metadata": {},
   "source": [
    "# Surface Equilibrium Calcualtions\n",
    "\n",
    "Here, we will use a relatively simple concept--surface-gas equilibrium--to demonstrate some of Cantera's capabilities for heterogeneous catalysis applications.\n",
    "\n",
    "Consider adsorption-desorption reactions between a gas phase and an ideal surface lattice.\n",
    "\n",
    "<img src=\"..\\images\\SurfaceReactions.png\" alt=\"Cartoon of an ideal surface lattice (left side), and of the H2 adsorption reaction (right side).\" style=\"width: 750px;\"/>\n",
    "\n",
    "Note that the exact geometry of the lattice is irrelevant; the only assumption is a user-supplied density of surface sites, $\\Gamma_\\circ $, with units ${\\rm \\left[\\frac{mol}{m^2}\\right]}$."
   ]
  },
  {
   "cell_type": "markdown",
   "id": "4a4d32b5",
   "metadata": {},
   "source": [
    "## Surface equilbrium\n",
    "\n",
    "There are two possible ways to express the equilibrium condition: \n",
    "1. Thermodynamically via the Gibbs free energy of the reaction, $\\Delta g_{\\rm rxn}$:\n",
    "<div class=\"alert-danger\">\n",
    "$$\\Delta g_{\\rm rxn} = \\sum_k \\nu_k \\mu_k = \\sum_k \\nu_k\\left(\\mu^\\circ_k + RT \\ln a_k\\right) = 0, $$\n",
    "</div>\n",
    "where $\\nu_k$ is the net stoichiometric coefficient for species $k$, $\\mu_k$ the chemical potential, $\\mu^\\circ_k$ the standard state chemical potential, and $a_k$ the species activity, which depends on the state.\n",
    "2. Kinetically via the reaction rate of progress, $\\dot{q}_{\\rm rxn}$:\n",
    "<div class=\"alert-danger\">\n",
    "$$\\dot{q}_{\\rm rxn} = k_{\\rm fwd,\\,rxn}\\prod_k C_{{\\rm ac},k}^{\\nu^\\prime_{k,\\,{\\rm rxn}}} - k_{\\rm rev,\\,rxn}\\prod_k C_{{\\rm ac},k}^{\\nu^{\\prime\\prime}_{k,\\,{\\rm rxn}}},$$\n",
    "</div>\n",
    "where $k_{\\rm fwd,\\,rxn}$ and $k_{\\rm rev,\\,rxn}$ are the forward and reverse rate coefficients, $C_{\\rm ac,k}$ the activity concentration of species $k$ (equal to $\\gamma_kC_k$, the activity coefficient times the molar concentration, with units of $\\left[ \\frac{mol}{m^2}\\right]$ for a surface phase and $\\left[ \\frac{mol}{m^3}\\right]$ for a bulk (e.g. gas) phase, and $\\nu^\\prime_{k,\\,{\\rm rxn}}$ and $\\nu^{\\prime\\prime}_{k,\\,{\\rm rxn}}$ the forward and reverse stoichiometric coefficients for species $k$ in the reaction (note $\\nu_{k,\\,{\\rm rxn}} = \\nu^{\\prime\\prime}_{k,\\,{\\rm rxn}} - \\nu^{\\prime}_{k,\\,{\\rm rxn}}$).\n",
    "\n",
    "In Cantera, whenever any reaction is written as reversible, the reverse rate coefficient $k_{\\rm rev,\\,rxn}$ is calculated according to the thermodynamics, assuming a _single_ equilibrium state that satisfies the two equations above.  In other words, the two approaches should give equivalent results. The activities and activity concentrations are linked via:\n",
    "$$ a_k = \\frac{C_{{\\rm ac},k}}{C^\\circ_k},$$\n",
    "where $C^\\circ_k$ is a reference concentration (the reference state being that at which $\\mu^\\circ_k$ is known/evaluated)."
   ]
  },
  {
   "cell_type": "markdown",
   "id": "70fe7e2e",
   "metadata": {},
   "source": [
    "## Surface equilibrium: by hand.\n",
    "\n",
    "Let's consider the \"simple example\" shown above, for hydrogen adsorption on a Pt surface:\n",
    "$${\\rm H_{2(g)} + 2\\,Pt_{(s)} \\leftrightharpoons 2\\,H_{(s)}}$$\n",
    "We will evaluate the equilibrium calculation kinetically, solving for the state where $\\dot{q}_{\\rm rxn} = 0$:\n",
    "<div class=\"alert-danger\">\n",
    "$$\\dot{q}_{\\rm rxn} = k_{\\rm fwd}C_{H_{\\rm 2(g)}}C^2_{\\rm Pt(s)} - k_{\\rm rev}C^2_{\\rm H(s)}.$$\n",
    "</div>\n",
    "Setting $\\dot{q}_{\\rm rxn} = 0$ leads to:"
   ]
  },
  {
   "cell_type": "markdown",
   "id": "4183b9d4",
   "metadata": {},
   "source": [
    "$$k_{\\rm fwd}C_{H_{\\rm 2(g)}}C^2_{\\rm Pt(s)} = k_{\\rm rev}C^2_{\\rm H(s)}.$$\n",
    "and:\n",
    "$$\\frac{C^2_{\\rm Pt(s)}}{C^2_{\\rm H(s)}} = \\frac{k_{\\rm rev}}{k_{\\rm fwd}C_{H_{\\rm 2(g)}}}$$\n",
    "The surface concentrations can be written as $C_k = \\Gamma_\\circ\\theta_k$, where $\\theta_k$ is the 'surface coverage' - the percentage of surface sites occupied by species $k$."
   ]
  },
  {
   "cell_type": "markdown",
   "id": "a29da021",
   "metadata": {},
   "source": [
    "$$\\frac{C^2_{\\rm Pt(s)}}{C^2_{\\rm H(s)}} = \\frac{\\Gamma_\\circ^2\\theta^2_{\\rm Pt(s)}}{\\Gamma_\\circ^2\\theta^2_{\\rm H(s)}}= \\frac{\\theta^2_{\\rm Pt(s)}}{\\theta^2_{\\rm H(s)}} = \\frac{k_{\\rm rev}}{k_{\\rm fwd}C_{H_{\\rm 2(g)}}}$$"
   ]
  },
  {
   "cell_type": "markdown",
   "id": "f3ceb802",
   "metadata": {},
   "source": [
    "Lastly, we can take advantage of the fact that there are only two surface species, and so therefore $\\theta_{\\rm Pt(s)} = 1 - \\theta_{\\rm H(s)}$:\n",
    "$$\\frac{\\left(1 - \\theta_{\\rm H(s)}\\right)^2}{\\theta^2_{\\rm H(s)}} = \\frac{k_{\\rm rev}}{k_{\\rm fwd}C_{H_{\\rm 2(g)}}}$$"
   ]
  },
  {
   "cell_type": "markdown",
   "id": "da7c29eb",
   "metadata": {},
   "source": [
    "After some algebra, we can solve for $\\theta_{\\rm H(s),\\,equil}$:"
   ]
  },
  {
   "cell_type": "markdown",
   "id": "30e797a8",
   "metadata": {},
   "source": [
    "<div class=\"alert-danger\">\n",
    "    $$\\theta_{\\rm H(s),\\,equil} = \\frac{1}{1 + \\sqrt{\\frac{k_{\\rm rev}}{k_{\\rm fwd}C_{\\rm H_{\\rm 2(g)}}}}}$$\n",
    "</div>"
   ]
  },
  {
   "cell_type": "markdown",
   "id": "82538783",
   "metadata": {},
   "source": [
    "### User Inputs:"
   ]
  },
  {
   "cell_type": "code",
   "execution_count": 1,
   "id": "0b5f5824",
   "metadata": {},
   "outputs": [],
   "source": [
    "T = 300.                      # Temperature in K\n",
    "P = 101325.                   # Pressure in Pa\n",
    "X_H2_gas = 0.03               # H2(g) mole fraction\n",
    "R = 8314.5                    # J/kmol-K\n",
    "\n",
    "# Forward rate constants from Deutschman et al., \n",
    "#   26th Symp. (Intl.) on Combustion, 1996 pp. 1747-1754\n",
    "k_fwd = 77213092.95061298 \n",
    "k_rev = 680845237.060435  "
   ]
  },
  {
   "cell_type": "markdown",
   "id": "ffd16ee5",
   "metadata": {},
   "source": [
    "### Calculate terms and find equilibrium coverage by hand:"
   ]
  },
  {
   "cell_type": "code",
   "execution_count": 3,
   "id": "0eda7700",
   "metadata": {},
   "outputs": [
    {
     "name": "stdout",
     "output_type": "stream",
     "text": [
      "Equilibrium H(s) coverage: \n",
      "     by hand:       0.011619453419788778\n"
     ]
    }
   ],
   "source": [
    "# Hydrogen concentration:\n",
    "C_H2 = X_H2_gas*P/R/T\n",
    "\n",
    "hand_coverage = 1./(1. + (k_rev/k_fwd/C_H2)**0.5)\n",
    "print('Equilibrium H(s) coverage: ')\n",
    "print('     by hand:      ', hand_coverage)"
   ]
  },
  {
   "cell_type": "markdown",
   "id": "aea1c257",
   "metadata": {},
   "source": [
    "# Perform the same calculation in Cantera"
   ]
  },
  {
   "cell_type": "markdown",
   "id": "f2d1fa79",
   "metadata": {},
   "source": [
    "### Import packages"
   ]
  },
  {
   "cell_type": "code",
   "execution_count": 4,
   "id": "dd9dcebb",
   "metadata": {},
   "outputs": [],
   "source": [
    "import cantera as ct\n",
    "%matplotlib inline\n",
    "import matplotlib.pyplot as plt\n",
    "import matplotlib as mpl\n",
    "import numpy as np"
   ]
  },
  {
   "cell_type": "markdown",
   "id": "0266ec7b",
   "metadata": {},
   "source": [
    "### 1. Create Cantera phase objects:"
   ]
  },
  {
   "cell_type": "code",
   "execution_count": 5,
   "id": "b0c1c868",
   "metadata": {},
   "outputs": [],
   "source": [
    "mech_file = '../inputs/ptcombust_simple.yaml'\n",
    "\n",
    "gas = ct.Solution(mech_file, 'gas')\n",
    "surf = ct.Interface(mech_file, 'Pt_surf', [gas])"
   ]
  },
  {
   "cell_type": "markdown",
   "id": "4b86c0e3",
   "metadata": {},
   "source": [
    "### 2. Set conditions"
   ]
  },
  {
   "cell_type": "code",
   "execution_count": 6,
   "id": "f0b5f494",
   "metadata": {},
   "outputs": [],
   "source": [
    "# Input string for molefractions.  Assume balance is inert Ar.\n",
    "X_gas = f'H2:{X_H2_gas}, Ar:{1.-X_H2_gas}'\n",
    "\n",
    "# Set Canera object states:\n",
    "gas.TPX = T, P, X_gas\n",
    "surf.TP = T, P"
   ]
  },
  {
   "cell_type": "markdown",
   "id": "c431cafc",
   "metadata": {},
   "source": [
    "### Check similarity to hand calcs by printing out kinetic rate constants:\n",
    "\n",
    "The H2 adsorption reaction is the first one listed, which will be reaction '0'. The mechanism writes reactions as irreversible pairs.  The reverse reaction is written as the second listed reaction, with index '1'."
   ]
  },
  {
   "cell_type": "code",
   "execution_count": 7,
   "id": "19de1547",
   "metadata": {},
   "outputs": [
    {
     "name": "stdout",
     "output_type": "stream",
     "text": [
      "forward rate constants:  77213092.95061298 77213092.95061298\n",
      "reverse rate constants:  680845237.060435 680845237.060435\n",
      "H2(g) concentration;  0.0012186541583979794 0.0012186596374704217\n"
     ]
    }
   ],
   "source": [
    "k_fwd_ct = surf.forward_rate_constants[0]\n",
    "k_rev_ct = surf.forward_rate_constants[1]\n",
    "\n",
    "# Reac out H2(g) concentration from Cantera:\n",
    "C_H2_ct = gas['H2'].concentrations[0]\n",
    "\n",
    "# Let's check to be sure our terms are the same:\n",
    "print('forward rate constants: ', k_fwd, k_fwd_ct)\n",
    "print('reverse rate constants: ', k_rev, k_rev_ct)\n",
    "print('H2(g) concentration; ', C_H2, C_H2_ct)"
   ]
  },
  {
   "cell_type": "markdown",
   "id": "3f2e32c5",
   "metadata": {},
   "source": [
    "### 3. Run Calculation\n",
    "\n",
    "We will find the equilbrium coverage by integrating the surface coverages, assuming a fixed bulk (i.e. gas) phase, which is achieved using Cantera's \"advance_coverages\" method.\n",
    "\n",
    "We assume 100 seconds is more than enough to reach equilibrium."
   ]
  },
  {
   "cell_type": "code",
   "execution_count": 8,
   "id": "a876d870",
   "metadata": {},
   "outputs": [
    {
     "name": "stdout",
     "output_type": "stream",
     "text": [
      "Net species production rates: all phases\n",
      "[ 2.49293099e-07 -2.49293099e-07  0.00000000e+00  0.00000000e+00\n",
      "  0.00000000e+00  0.00000000e+00  0.00000000e+00  0.00000000e+00\n",
      "  0.00000000e+00  0.00000000e+00  0.00000000e+00  1.24646550e-07\n",
      "  0.00000000e+00  0.00000000e+00  0.00000000e+00  0.00000000e+00\n",
      "  0.00000000e+00  0.00000000e+00  0.00000000e+00  0.00000000e+00\n",
      "  0.00000000e+00  0.00000000e+00  0.00000000e+00  0.00000000e+00\n",
      "  0.00000000e+00  0.00000000e+00  0.00000000e+00  0.00000000e+00\n",
      "  0.00000000e+00  0.00000000e+00  0.00000000e+00  0.00000000e+00\n",
      "  0.00000000e+00  0.00000000e+00  0.00000000e+00  0.00000000e+00\n",
      "  0.00000000e+00  0.00000000e+00  0.00000000e+00  0.00000000e+00\n",
      "  0.00000000e+00  0.00000000e+00  0.00000000e+00]\n",
      "\n",
      " Net species production rates: surface only\n",
      "[ 2.49293099e-07 -2.49293099e-07  0.00000000e+00  0.00000000e+00\n",
      "  0.00000000e+00  0.00000000e+00  0.00000000e+00  0.00000000e+00\n",
      "  0.00000000e+00  0.00000000e+00  0.00000000e+00]\n",
      "\n",
      " Net species production rates: after equilibration\n",
      "[ 1.01553853e-18 -1.01553853e-18  0.00000000e+00  0.00000000e+00\n",
      "  0.00000000e+00  0.00000000e+00  0.00000000e+00  0.00000000e+00\n",
      "  0.00000000e+00  0.00000000e+00  0.00000000e+00]\n",
      "\n",
      "  Pt_surf:\n",
      "\n",
      "       temperature   300 K\n",
      "          pressure   1.0132e+05 Pa\n",
      "           density   5.2799e-06 kg/m^3\n",
      "  mean mol. weight   195.1 kg/kmol\n",
      "   phase of matter   unspecified\n",
      "\n",
      "                          1 kg             1 kmol     \n",
      "                     ---------------   ---------------\n",
      "          enthalpy           -2167.9       -4.2296e+05  J\n",
      "   internal energy           -2167.9       -4.2296e+05  J\n",
      "           entropy            2.7256            531.75  J/K\n",
      "    Gibbs function           -2985.6       -5.8248e+05  J\n",
      " heat capacity c_p           0.13483            26.304  J/K\n",
      " heat capacity c_v           0.13483            26.304  J/K\n",
      "\n",
      "                      mass frac. Y      mole frac. X     chem. pot. / RT\n",
      "                     ---------------   ---------------   ---------------\n",
      "             PT(S)           0.98832           0.98838         -0.011688\n",
      "              H(S)          0.011679          0.011619           -19.103\n",
      "     [   +9 minor]                 0                 0  \n",
      "\n"
     ]
    }
   ],
   "source": [
    "# Print the species production rates before equilibration:\n",
    "print('Net species production rates: all phases')\n",
    "print(surf.net_production_rates)\n",
    "# This contains species for all relevant phases -- gas and surf.  \n",
    "#  Let's look at just the surface species:\n",
    "print('\\n Net species production rates: surface only')\n",
    "print(surf.get_net_production_rates(surf))\n",
    "\n",
    "surf.advance_coverages(100)\n",
    "\n",
    "# Print the species production rates after equilibration:\n",
    "print('\\n Net species production rates: after equilibration')\n",
    "print(surf.get_net_production_rates(surf))\n",
    "\n",
    "\n",
    "#Let's print the state:\n",
    "surf()"
   ]
  },
  {
   "cell_type": "code",
   "execution_count": 9,
   "id": "f7330b10",
   "metadata": {},
   "outputs": [
    {
     "name": "stdout",
     "output_type": "stream",
     "text": [
      "Equilibrium H(s) coverage: \n",
      "     from Cantera:  0.011619479280108393\n",
      "     by hand:       0.011619453419788778\n",
      "Difference =  2.58603196149e-08\n"
     ]
    }
   ],
   "source": [
    "# From the input file, H(S) is the 2nd species listed, which has index 1 in Python:\n",
    "\n",
    "cantera_coverage = surf.coverages[1]\n",
    "print('Equilibrium H(s) coverage: ')\n",
    "print('     from Cantera: ', cantera_coverage)\n",
    "print('     by hand:      ', hand_coverage)\n",
    "print('Difference = ', round(cantera_coverage - hand_coverage,19))\n"
   ]
  },
  {
   "cell_type": "markdown",
   "id": "dead032b",
   "metadata": {},
   "source": [
    "## We get the exact same result - great! "
   ]
  },
  {
   "cell_type": "code",
   "execution_count": 11,
   "id": "b9d36712",
   "metadata": {},
   "outputs": [
    {
     "name": "stdout",
     "output_type": "stream",
     "text": [
      "1\n",
      "[0.01161948]\n"
     ]
    }
   ],
   "source": [
    "# Note we can find the H(S) species index, without going to the input file:\n",
    "print(surf.species_index('H(S)'))\n",
    "\n",
    "# Or access it directly in the call to the Cantera object:\n",
    "print(surf['H(S)'].coverages)"
   ]
  },
  {
   "cell_type": "markdown",
   "id": "88d6cffd",
   "metadata": {},
   "source": [
    "## But that felt like a good bit more typing, versus a relatively straightforward hand calculation (once we work out the theory).  Why use Cantera?\n",
    "\n",
    "For more complex chemistry, the hand calculation becomes more difficult, but is exactly the same in Cantera.  Have a look at the input file chemistry.  If we throw some methane and oxygen in to the gas phase, many more species and reactions become relevant."
   ]
  },
  {
   "cell_type": "code",
   "execution_count": 12,
   "id": "857361dc",
   "metadata": {},
   "outputs": [
    {
     "name": "stdout",
     "output_type": "stream",
     "text": [
      "\n",
      "  Pt_surf:\n",
      "\n",
      "       temperature   300 K\n",
      "          pressure   1.0132e+05 Pa\n",
      "           density   5.7589e-06 kg/m^3\n",
      "  mean mol. weight   212.8 kg/kmol\n",
      "   phase of matter   unspecified\n",
      "\n",
      "                          1 kg             1 kmol     \n",
      "                     ---------------   ---------------\n",
      "          enthalpy       -6.1331e+05       -1.3051e+08  J\n",
      "   internal energy       -6.1331e+05       -1.3051e+08  J\n",
      "           entropy            85.168             18123  J/K\n",
      "    Gibbs function       -6.3886e+05       -1.3595e+08  J\n",
      " heat capacity c_p             62.43             13285  J/K\n",
      " heat capacity c_v             62.43             13285  J/K\n",
      "\n",
      "                      mass frac. Y      mole frac. X     chem. pot. / RT\n",
      "                     ---------------   ---------------   ---------------\n",
      "             PT(S)        4.0013e-07        4.3646e-07           -14.645\n",
      "             OH(S)        6.3424e-07        6.3634e-07            -99.49\n",
      "             CO(S)           0.14944           0.14254           -115.18\n",
      "            CH3(S)        2.0167e-12        2.0424e-12           -41.478\n",
      "           CH2(S)s         2.007e-12        2.0424e-12            3.5143\n",
      "             CH(S)        1.9973e-12        2.0424e-12             42.22\n",
      "              C(S)        2.8646e-11        2.9435e-11            4.5427\n",
      "              O(S)           0.85056           0.85745           -44.415\n",
      "     [   +3 minor]         6.936e-15        6.8972e-15  \n",
      "\n"
     ]
    }
   ],
   "source": [
    "# Note that Cantera automatically normalizes the composition so that mole fractions sum to one\n",
    "gas.X = 'CH4:0.5, O2:0.21, N2:0.79' \n",
    "surf.advance_coverages(100)\n",
    "surf()"
   ]
  },
  {
   "cell_type": "markdown",
   "id": "c0b3e5fb",
   "metadata": {},
   "source": [
    "### Okay, so the surface is mostly oxidized.  Let's see how this changes with temperature:"
   ]
  },
  {
   "cell_type": "code",
   "execution_count": 14,
   "id": "f77388ca",
   "metadata": {},
   "outputs": [],
   "source": [
    "nT = 50  # Number of temperatures to evaluate\n",
    "Temps = np.linspace(300, 1500, nT)\n",
    "thetas = np.zeros((nT, surf.n_species))\n",
    "\n",
    "for j, T_j in enumerate(Temps):\n",
    "    gas.TP = T_j, P\n",
    "    surf.TP = T_j, P\n",
    "    surf.advance_coverages(100)\n",
    "    thetas[j,:] = surf.coverages"
   ]
  },
  {
   "cell_type": "markdown",
   "id": "97e56e16",
   "metadata": {},
   "source": [
    "## Plot $\\theta_k$ vs. T\n"
   ]
  },
  {
   "cell_type": "code",
   "execution_count": 27,
   "id": "c0d25008",
   "metadata": {},
   "outputs": [
    {
     "data": {
      "text/plain": [
       "<matplotlib.legend.Legend at 0x7ff73b07e748>"
      ]
     },
     "execution_count": 27,
     "metadata": {},
     "output_type": "execute_result"
    },
    {
     "data": {
      "image/png": "[encoded data removed]",
      "text/plain": [
       "<Figure size 576x216 with 3 Axes>"
      ]
     },
     "metadata": {
      "needs_background": "light"
     },
     "output_type": "display_data"
    }
   ],
   "source": [
    "# Some options for prettier colors:\n",
    "import cycler\n",
    "n = 12\n",
    "colors = np.linspace(0, 1, n)\n",
    "color = plt.cm.plasma(colors)\n",
    "mpl.rcParams['axes.prop_cycle'] = cycler.cycler('color', color)\n",
    "\n",
    "# Create 3 subplots:\n",
    "f, (ax1, ax2, ax3) = plt.subplots(1, 3, sharey=False, figsize=(8,3))\n",
    "\n",
    "# Plot all species:\n",
    "ax1.plot(Temps, thetas)\n",
    "ax1.set_yticks([0, .25, .5, .75, 1.])\n",
    "\n",
    "# Omit O(s) and Pt(s):\n",
    "color = plt.cm.plasma(colors[1:-1])\n",
    "mpl.rcParams['axes.prop_cycle'] = cycler.cycler('color', color)\n",
    "ax2.plot(Temps, thetas[:, 1:-1])\n",
    "\n",
    "ax2.set_ylim(0, 0.4)\n",
    "ax2.set_yticks([0, .1, .2, .3, .4])\n",
    "\n",
    "# Also omit CH3(S) and CO(S):\n",
    "indices = np.hstack((np.arange(1,4),np.arange(5,9)))\n",
    "\n",
    "color = plt.cm.plasma(colors[indices])\n",
    "mpl.rcParams['axes.prop_cycle'] = cycler.cycler('color', color)\n",
    "\n",
    "ax3.plot(Temps, thetas[:, indices])\n",
    "ax3.set_ylim(0, 0.004)\n",
    "ax3.set_yticks([0, .001, .002, .003, .004])\n",
    "\n",
    "\n",
    "ax1.set_ylabel('Coverage', fontsize=fs)\n",
    "f.text(0.5, -0.05, 'Temperature (K)', fontsize=fs, ha='center')\n",
    "f.tight_layout()\n",
    "f.legend(surf.species_names, frameon=False, bbox_to_anchor=(1.12,.95))"
   ]
  },
  {
   "cell_type": "code",
   "execution_count": 31,
   "id": "2e2efb3a",
   "metadata": {},
   "outputs": [
    {
     "name": "stdout",
     "output_type": "stream",
     "text": [
      "Equilibrium H(s) coverage: \n",
      "     from Cantera:  0.9988917661803131\n",
      "     by hand:       0.3569548911481857\n",
      "Difference =  0.6419368750321274\n"
     ]
    }
   ],
   "source": [
    "mech_file = 'methane_pox_on_pt.yaml' # This is another mechanism from the Deutschmann group.\n",
    "\n",
    "gas = ct.Solution(mech_file, 'gas')\n",
    "surf = ct.Interface(mech_file, 'Pt_surf', [gas])\n",
    "\n",
    "gas.TPX = T, P, X_gas\n",
    "surf.TP = T, P\n",
    "\n",
    "# Read the properties from the input file:\n",
    "k_fwd_ct = surf.forward_rate_constants[0]\n",
    "k_rev_ct = surf.forward_rate_constants[1]\n",
    "\n",
    "C_H2_ct = gas['H2'].concentrations[0]\n",
    "\n",
    "hand_coverage = 1./(1. + (k_rev_ct/k_fwd_ct/C_H2_ct)**0.5)\n",
    "\n",
    "surf.advance_coverages(100)\n",
    "cantera_coverage = surf['H(S)'].coverages[0]\n",
    "\n",
    "print('Equilibrium H(s) coverage: ')\n",
    "print('     from Cantera: ', cantera_coverage)\n",
    "print('     by hand:      ', hand_coverage)\n",
    "print('Difference = ', round(cantera_coverage - hand_coverage,19))\n"
   ]
  },
  {
   "cell_type": "markdown",
   "id": "fac6a121",
   "metadata": {},
   "source": [
    "Here, we can see that the hand calculation is quite a bit off.  If we explore the kinetic mechanism, we see that the reaction rate has a coverage dependence, which makes the hand calculation considerably more challenging, but does not impact the Cantera-based approach."
   ]
  },
  {
   "cell_type": "markdown",
   "id": "9bf45205",
   "metadata": {},
   "source": [
    "Lastly, note that there is nothing inherently \"true\" about these calculations.  Cantera takes a user-provided input file, and calculates the desired properties, rates, etc., _given those inputs_.  \n",
    "\n",
    "The point of Cantera is to provide automated and generalized chemical kinetic routines.  This increases efficiency and repeatability of these calculations. The software is not, however, in the business of endorsing any particular mechanism. \n",
    "\n",
    "In particular, the mechanism used above write the reversible reactions as irreversible pairs, providing a rate constant for each direction.  There is no guarantee that these rate constant pairs are consistent with thermodynamics, which states that $\\frac{k_{\\rm fwd}}{k_{\\rm rev}} = exp\\left(-\\frac{\\Delta G_{\\rm rxn}}{RT}\\right)C^{\\circ\\,\\sum \\nu_k}$. _It is up to the user to verify the validity of their chosen mechanism_.\n",
    "\n",
    "If we want to switch to a completely different mechanism, the routine is exactly the same:"
   ]
  }
 ],
 "metadata": {
  "kernelspec": {
   "display_name": "Python 3",
   "language": "python",
   "name": "python3"
  },
  "language_info": {
   "codemirror_mode": {
    "name": "ipython",
    "version": 3
   },
   "file_extension": ".py",
   "mimetype": "text/x-python",
   "name": "python",
   "nbconvert_exporter": "python",
   "pygments_lexer": "ipython3",
   "version": "3.6.13"
  }
 },
 "nbformat": 4,
 "nbformat_minor": 5
}
